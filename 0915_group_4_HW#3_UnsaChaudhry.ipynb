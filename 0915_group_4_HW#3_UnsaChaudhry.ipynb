{
    "metadata": {
        "kernelspec": {
            "name": "SQL",
            "display_name": "SQL",
            "language": "sql"
        },
        "language_info": {
            "name": "sql",
            "version": ""
        }
    },
    "nbformat_minor": 2,
    "nbformat": 4,
    "cells": [
        {
            "cell_type": "markdown",
            "source": [
                "<span style=\"font-size: 12px;\">1. Customers who placed orders on May 38, 2016</span>\n",
                "\n",
                "<span style=\"font-size: 12px;\"><br></span>\n",
                "\n",
                "<span style=\"font-size: 12px;\">Tables involved: Sales,customers, Sales.Orders</span>"
            ],
            "metadata": {
                "azdata_cell_guid": "68606bff-fff9-4386-86c1-cd70a2a70c6d"
            },
            "attachments": {}
        },
        {
            "cell_type": "code",
            "source": [
                "--Proposition: Return customers with their order details who placed an order on May 28, 2016\n",
                "SELECT C.CustomerID, C.CustomerName, O.OrderID, O.OrderDate\n",
                "FROM Sales.Customers AS C\n",
                "INNER JOIN Sales.Orders AS O\n",
                "    ON O.CustomerID = C.CustomerID\n",
                "WHERE O.OrderDate = '2016-05-28';"
            ],
            "metadata": {
                "azdata_cell_guid": "2646b370-1883-4344-a4c0-076b83a8938b",
                "language": "sql",
                "tags": []
            },
            "outputs": [
                {
                    "output_type": "display_data",
                    "data": {
                        "text/html": "(32 rows affected)"
                    },
                    "metadata": {}
                },
                {
                    "output_type": "display_data",
                    "data": {
                        "text/html": "Total execution time: 00:00:00.237"
                    },
                    "metadata": {}
                },
                {
                    "output_type": "execute_result",
                    "metadata": {},
                    "execution_count": 1,
                    "data": {
                        "application/vnd.dataresource+json": {
                            "schema": {
                                "fields": [
                                    {
                                        "name": "CustomerID"
                                    },
                                    {
                                        "name": "CustomerName"
                                    },
                                    {
                                        "name": "OrderID"
                                    },
                                    {
                                        "name": "OrderDate"
                                    }
                                ]
                            },
                            "data": [
                                {
                                    "CustomerID": "5",
                                    "CustomerName": "Tailspin Toys (Gasport, NY)",
                                    "OrderID": "73407",
                                    "OrderDate": "2016-05-28"
                                },
                                {
                                    "CustomerID": "35",
                                    "CustomerName": "Tailspin Toys (Slanesville, WV)",
                                    "OrderID": "73423",
                                    "OrderDate": "2016-05-28"
                                },
                                {
                                    "CustomerID": "102",
                                    "CustomerName": "Tailspin Toys (Fieldbrook, CA)",
                                    "OrderID": "73398",
                                    "OrderDate": "2016-05-28"
                                },
                                {
                                    "CustomerID": "150",
                                    "CustomerName": "Tailspin Toys (Corfu, NY)",
                                    "OrderID": "73416",
                                    "OrderDate": "2016-05-28"
                                },
                                {
                                    "CustomerID": "167",
                                    "CustomerName": "Tailspin Toys (Rockwall, TX)",
                                    "OrderID": "73404",
                                    "OrderDate": "2016-05-28"
                                },
                                {
                                    "CustomerID": "187",
                                    "CustomerName": "Tailspin Toys (Brown City, MI)",
                                    "OrderID": "73420",
                                    "OrderDate": "2016-05-28"
                                },
                                {
                                    "CustomerID": "195",
                                    "CustomerName": "Tailspin Toys (Lesslie, SC)",
                                    "OrderID": "73425",
                                    "OrderDate": "2016-05-28"
                                },
                                {
                                    "CustomerID": "195",
                                    "CustomerName": "Tailspin Toys (Lesslie, SC)",
                                    "OrderID": "73406",
                                    "OrderDate": "2016-05-28"
                                },
                                {
                                    "CustomerID": "413",
                                    "CustomerName": "Wingtip Toys (Truscott, TX)",
                                    "OrderID": "73417",
                                    "OrderDate": "2016-05-28"
                                },
                                {
                                    "CustomerID": "424",
                                    "CustomerName": "Wingtip Toys (Heartwell, NE)",
                                    "OrderID": "73414",
                                    "OrderDate": "2016-05-28"
                                },
                                {
                                    "CustomerID": "428",
                                    "CustomerName": "Wingtip Toys (Paw Paw Lake, MI)",
                                    "OrderID": "73424",
                                    "OrderDate": "2016-05-28"
                                },
                                {
                                    "CustomerID": "428",
                                    "CustomerName": "Wingtip Toys (Paw Paw Lake, MI)",
                                    "OrderID": "73402",
                                    "OrderDate": "2016-05-28"
                                },
                                {
                                    "CustomerID": "496",
                                    "CustomerName": "Wingtip Toys (Port Hueneme, CA)",
                                    "OrderID": "73412",
                                    "OrderDate": "2016-05-28"
                                },
                                {
                                    "CustomerID": "501",
                                    "CustomerName": "Wingtip Toys (Cavendish, VT)",
                                    "OrderID": "73409",
                                    "OrderDate": "2016-05-28"
                                },
                                {
                                    "CustomerID": "514",
                                    "CustomerName": "Wingtip Toys (Gilford, NH)",
                                    "OrderID": "73396",
                                    "OrderDate": "2016-05-28"
                                },
                                {
                                    "CustomerID": "552",
                                    "CustomerName": "Wingtip Toys (Shay, PA)",
                                    "OrderID": "73415",
                                    "OrderDate": "2016-05-28"
                                },
                                {
                                    "CustomerID": "579",
                                    "CustomerName": "Wingtip Toys (Connoquenessing, PA)",
                                    "OrderID": "73399",
                                    "OrderDate": "2016-05-28"
                                },
                                {
                                    "CustomerID": "593",
                                    "CustomerName": "Wingtip Toys (Cuyamungue, NM)",
                                    "OrderID": "73397",
                                    "OrderDate": "2016-05-28"
                                },
                                {
                                    "CustomerID": "856",
                                    "CustomerName": "Satish Mittal",
                                    "OrderID": "73395",
                                    "OrderDate": "2016-05-28"
                                },
                                {
                                    "CustomerID": "867",
                                    "CustomerName": "Jasna Cerkez",
                                    "OrderID": "73418",
                                    "OrderDate": "2016-05-28"
                                },
                                {
                                    "CustomerID": "875",
                                    "CustomerName": "Philip Walker",
                                    "OrderID": "73421",
                                    "OrderDate": "2016-05-28"
                                },
                                {
                                    "CustomerID": "901",
                                    "CustomerName": "Adrian Andreasson",
                                    "OrderID": "73422",
                                    "OrderDate": "2016-05-28"
                                },
                                {
                                    "CustomerID": "925",
                                    "CustomerName": "Can ozcan",
                                    "OrderID": "73410",
                                    "OrderDate": "2016-05-28"
                                },
                                {
                                    "CustomerID": "930",
                                    "CustomerName": "Shantanu Huq",
                                    "OrderID": "73403",
                                    "OrderDate": "2016-05-28"
                                },
                                {
                                    "CustomerID": "956",
                                    "CustomerName": "Nhung Thach",
                                    "OrderID": "73413",
                                    "OrderDate": "2016-05-28"
                                },
                                {
                                    "CustomerID": "987",
                                    "CustomerName": "Akhil Nadar",
                                    "OrderID": "73405",
                                    "OrderDate": "2016-05-28"
                                },
                                {
                                    "CustomerID": "1000",
                                    "CustomerName": "Krishnam Allu",
                                    "OrderID": "73419",
                                    "OrderDate": "2016-05-28"
                                },
                                {
                                    "CustomerID": "1004",
                                    "CustomerName": "Drishti Bose",
                                    "OrderID": "73411",
                                    "OrderDate": "2016-05-28"
                                },
                                {
                                    "CustomerID": "1036",
                                    "CustomerName": "Erik Malk",
                                    "OrderID": "73400",
                                    "OrderDate": "2016-05-28"
                                },
                                {
                                    "CustomerID": "1051",
                                    "CustomerName": "Sylvie Laramee",
                                    "OrderID": "73401",
                                    "OrderDate": "2016-05-28"
                                },
                                {
                                    "CustomerID": "1053",
                                    "CustomerName": "Luis Saucedo",
                                    "OrderID": "73408",
                                    "OrderDate": "2016-05-28"
                                },
                                {
                                    "CustomerID": "1053",
                                    "CustomerName": "Luis Saucedo",
                                    "OrderID": "73426",
                                    "OrderDate": "2016-05-28"
                                }
                            ]
                        },
                        "text/html": [
                            "<table>",
                            "<tr><th>CustomerID</th><th>CustomerName</th><th>OrderID</th><th>OrderDate</th></tr>",
                            "<tr><td>5</td><td>Tailspin Toys (Gasport, NY)</td><td>73407</td><td>2016-05-28</td></tr>",
                            "<tr><td>35</td><td>Tailspin Toys (Slanesville, WV)</td><td>73423</td><td>2016-05-28</td></tr>",
                            "<tr><td>102</td><td>Tailspin Toys (Fieldbrook, CA)</td><td>73398</td><td>2016-05-28</td></tr>",
                            "<tr><td>150</td><td>Tailspin Toys (Corfu, NY)</td><td>73416</td><td>2016-05-28</td></tr>",
                            "<tr><td>167</td><td>Tailspin Toys (Rockwall, TX)</td><td>73404</td><td>2016-05-28</td></tr>",
                            "<tr><td>187</td><td>Tailspin Toys (Brown City, MI)</td><td>73420</td><td>2016-05-28</td></tr>",
                            "<tr><td>195</td><td>Tailspin Toys (Lesslie, SC)</td><td>73425</td><td>2016-05-28</td></tr>",
                            "<tr><td>195</td><td>Tailspin Toys (Lesslie, SC)</td><td>73406</td><td>2016-05-28</td></tr>",
                            "<tr><td>413</td><td>Wingtip Toys (Truscott, TX)</td><td>73417</td><td>2016-05-28</td></tr>",
                            "<tr><td>424</td><td>Wingtip Toys (Heartwell, NE)</td><td>73414</td><td>2016-05-28</td></tr>",
                            "<tr><td>428</td><td>Wingtip Toys (Paw Paw Lake, MI)</td><td>73424</td><td>2016-05-28</td></tr>",
                            "<tr><td>428</td><td>Wingtip Toys (Paw Paw Lake, MI)</td><td>73402</td><td>2016-05-28</td></tr>",
                            "<tr><td>496</td><td>Wingtip Toys (Port Hueneme, CA)</td><td>73412</td><td>2016-05-28</td></tr>",
                            "<tr><td>501</td><td>Wingtip Toys (Cavendish, VT)</td><td>73409</td><td>2016-05-28</td></tr>",
                            "<tr><td>514</td><td>Wingtip Toys (Gilford, NH)</td><td>73396</td><td>2016-05-28</td></tr>",
                            "<tr><td>552</td><td>Wingtip Toys (Shay, PA)</td><td>73415</td><td>2016-05-28</td></tr>",
                            "<tr><td>579</td><td>Wingtip Toys (Connoquenessing, PA)</td><td>73399</td><td>2016-05-28</td></tr>",
                            "<tr><td>593</td><td>Wingtip Toys (Cuyamungue, NM)</td><td>73397</td><td>2016-05-28</td></tr>",
                            "<tr><td>856</td><td>Satish Mittal</td><td>73395</td><td>2016-05-28</td></tr>",
                            "<tr><td>867</td><td>Jasna Cerkez</td><td>73418</td><td>2016-05-28</td></tr>",
                            "<tr><td>875</td><td>Philip Walker</td><td>73421</td><td>2016-05-28</td></tr>",
                            "<tr><td>901</td><td>Adrian Andreasson</td><td>73422</td><td>2016-05-28</td></tr>",
                            "<tr><td>925</td><td>Can ozcan</td><td>73410</td><td>2016-05-28</td></tr>",
                            "<tr><td>930</td><td>Shantanu Huq</td><td>73403</td><td>2016-05-28</td></tr>",
                            "<tr><td>956</td><td>Nhung Thach</td><td>73413</td><td>2016-05-28</td></tr>",
                            "<tr><td>987</td><td>Akhil Nadar</td><td>73405</td><td>2016-05-28</td></tr>",
                            "<tr><td>1000</td><td>Krishnam Allu</td><td>73419</td><td>2016-05-28</td></tr>",
                            "<tr><td>1004</td><td>Drishti Bose</td><td>73411</td><td>2016-05-28</td></tr>",
                            "<tr><td>1036</td><td>Erik Malk</td><td>73400</td><td>2016-05-28</td></tr>",
                            "<tr><td>1051</td><td>Sylvie Laramee</td><td>73401</td><td>2016-05-28</td></tr>",
                            "<tr><td>1053</td><td>Luis Saucedo</td><td>73408</td><td>2016-05-28</td></tr>",
                            "<tr><td>1053</td><td>Luis Saucedo</td><td>73426</td><td>2016-05-28</td></tr>",
                            "</table>"
                        ]
                    }
                }
            ],
            "execution_count": 1
        },
        {
            "cell_type": "markdown",
            "source": [
                "#### <span style=\"color: var(--vscode-foreground); font-family: -apple-system, BlinkMacSystemFont, sans-serif; font-weight: normal;\">2. Customers with their most recent order date</span>\n",
                "\n",
                "Tables involved: Sales.Customers, Sales.Orders"
            ],
            "metadata": {
                "azdata_cell_guid": "7a6326ce-7405-481d-bc15-9cd1f8fd71a6"
            },
            "attachments": {}
        },
        {
            "cell_type": "code",
            "source": [
                "--Proposition: For each customer, find the date of their most recent order.\n",
                "SELECT C.CustomerID, C.CustomerName, MAX(O.OrderDate) AS LastOrderDate\n",
                "FROM Sales.Customers AS C\n",
                "INNER JOIN Sales.Orders AS O\n",
                "    ON O.CustomerID = C.CustomerID\n",
                "GROUP BY C.CustomerID, C.CustomerName;"
            ],
            "metadata": {
                "azdata_cell_guid": "a7595206-acc4-4a10-a0a8-9d6e176c88c2",
                "language": "sql"
            },
            "outputs": [],
            "execution_count": null
        },
        {
            "cell_type": "markdown",
            "source": [
                "3\\. Show the 20 most recent orders with their items\n",
                "\n",
                "  \n",
                "\n",
                "Tables involved: Sales.Orders, Sales.OrderLines, Warehouse.StockItems"
            ],
            "metadata": {
                "azdata_cell_guid": "b2f65bab-b2bc-402b-8872-efa1a741de4a"
            },
            "attachments": {}
        },
        {
            "cell_type": "code",
            "source": [
                "--Proposition: Display the 20 most recent orders with the items included in each order.\n",
                "\n",
                "SELECT TOP 20\n",
                "    O.OrderID,\n",
                "    O.OrderDate,\n",
                "    SI.StockItemName,\n",
                "    OL.Quantity\n",
                "FROM Sales.Orders AS O\n",
                "JOIN Sales.OrderLines AS OL\n",
                "    ON OL.OrderID = O.OrderID\n",
                "JOIN Warehouse.StockItems AS SI\n",
                "    ON SI.StockItemID = OL.StockItemID\n",
                "ORDER BY O.OrderDate DESC, O.OrderID DESC;"
            ],
            "metadata": {
                "azdata_cell_guid": "c24e9fb5-8734-4a8f-bd06-b59464b0d4cf",
                "language": "sql",
                "tags": []
            },
            "outputs": [],
            "execution_count": null
        },
        {
            "cell_type": "markdown",
            "source": [
                "4\\. Customers with city and country\n",
                "\n",
                "  \n",
                "\n",
                "Tables involved: Sales.Customers, Application.Cities, Application.StateProvinces, Application.Countries"
            ],
            "metadata": {
                "azdata_cell_guid": "e38c4585-8f18-4aa1-beef-be4ab61853cf"
            },
            "attachments": {}
        },
        {
            "cell_type": "code",
            "source": [
                "--Proposition: Show customers with their city and country of delivery.\n",
                "SELECT \n",
                "    C.CustomerID,\n",
                "    C.CustomerName,\n",
                "    CI.CityName,\n",
                "    CO.CountryName\n",
                "FROM Sales.Customers AS C\n",
                "INNER JOIN Application.Cities AS CI\n",
                "    ON CI.CityID = C.DeliveryCityID\n",
                "INNER JOIN Application.StateProvinces AS SP\n",
                "    ON SP.StateProvinceID = CI.StateProvinceID\n",
                "INNER JOIN Application.Countries AS CO\n",
                "    ON CO.CountryID = SP.CountryID;"
            ],
            "metadata": {
                "azdata_cell_guid": "6376515a-ea5f-4a63-9711-9a72e826b1e5",
                "language": "sql"
            },
            "outputs": [],
            "execution_count": null
        },
        {
            "cell_type": "markdown",
            "source": [
                "5\\. Backorders\n",
                "\n",
                "  \n",
                "\n",
                "Tables involved: Sales.Customers, Sales.Orders"
            ],
            "metadata": {
                "azdata_cell_guid": "8d9f1e7a-6c13-410e-a703-dc7c1ff1c8e0"
            },
            "attachments": {}
        },
        {
            "cell_type": "code",
            "source": [
                "-- Proposition: Return all customers who have backorders\n",
                "SELECT C.CustomerID, C.CustomerName, O.OrderID\n",
                "FROM Sales.Customers AS C\n",
                "INNER JOIN Sales.Orders AS O\n",
                "    ON O.CustomerID = C.CustomerID\n",
                "WHERE O.BackorderOrderID IS NOT NULL;"
            ],
            "metadata": {
                "azdata_cell_guid": "7925296a-7af3-43e2-a885-3baec062fb5f",
                "language": "sql"
            },
            "outputs": [],
            "execution_count": null
        },
        {
            "cell_type": "markdown",
            "source": [
                "6. #### Customers active in both 2014 and 2016\n",
                "    \n",
                "\n",
                "Tables involved: Sales.Customers, Sales.Orders"
            ],
            "metadata": {
                "azdata_cell_guid": "ecaf5f4f-2d54-48d0-99e2-3886991dbae6"
            },
            "attachments": {}
        },
        {
            "cell_type": "code",
            "source": [
                "-- Proposition: List customers who placed orders in both 2014 and 2016\n",
                "SELECT \n",
                "    C.CustomerID,\n",
                "    C.CustomerName,\n",
                "    MIN(CASE WHEN YEAR(O.OrderDate) = 2014 THEN O.OrderDate END) AS FirstOrder2014,\n",
                "    MIN(CASE WHEN YEAR(O.OrderDate) = 2016 THEN O.OrderDate END) AS FirstOrder2016\n",
                "FROM Sales.Customers AS C\n",
                "JOIN Sales.Orders AS O\n",
                "    ON O.CustomerID = C.CustomerID\n",
                "WHERE YEAR(O.OrderDate) IN (2014, 2016)\n",
                "GROUP BY C.CustomerID, C.CustomerName\n",
                "HAVING COUNT(DISTINCT YEAR(O.OrderDate)) = 2\n",
                "ORDER BY C.CustomerID;"
            ],
            "metadata": {
                "azdata_cell_guid": "b755eae3-44c1-44cf-89d8-f845271f8d47",
                "language": "sql"
            },
            "outputs": [],
            "execution_count": null
        },
        {
            "cell_type": "markdown",
            "source": [
                "7\\. Salespeople with distinct customers served in 2015\n",
                "\n",
                "  \n",
                "\n",
                "Tables involved: Sales.Orders, Application.People"
            ],
            "metadata": {
                "azdata_cell_guid": "e8974e6c-c169-4ea5-89cd-4fabafe71c97"
            },
            "attachments": {}
        },
        {
            "cell_type": "code",
            "source": [
                "--Proposition: Return the number of distinct customers each salesperson served in 2015\n",
                "SELECT P.PersonID, P.FullName, COUNT(DISTINCT O.CustomerID) AS NumCustomers2015\n",
                "FROM Sales.Orders AS O\n",
                "INNER JOIN Application.People AS P\n",
                "    ON P.PersonID = O.SalespersonPersonID\n",
                "WHERE YEAR(O.OrderDate) = 2015\n",
                "GROUP BY P.PersonID, P.FullName;"
            ],
            "metadata": {
                "azdata_cell_guid": "231a3feb-166f-4b63-b3c8-684da67ace18",
                "language": "sql"
            },
            "outputs": [],
            "execution_count": null
        },
        {
            "cell_type": "markdown",
            "source": [
                "8\\. First 10 orders + customers names\n",
                "\n",
                "  \n",
                "\n",
                "Tables involved: Sales.Orders, Sales.Customers"
            ],
            "metadata": {
                "azdata_cell_guid": "cdeb5a95-0a23-48e8-948d-d19c026897d9"
            },
            "attachments": {}
        },
        {
            "cell_type": "code",
            "source": [
                "-- Proposition: Display the top 10 orders along with their customer names\n",
                "SELECT TOP 10\n",
                "    O.OrderID,\n",
                "    O.OrderDate,\n",
                "    C.CustomerName\n",
                "FROM Sales.Orders AS O\n",
                "INNER JOIN Sales.Customers AS C\n",
                "    ON O.CustomerID = C.CustomerID\n",
                "ORDER BY O.OrderDate ASC;"
            ],
            "metadata": {
                "azdata_cell_guid": "401d3e40-25b7-414e-a33c-7f2b5362bb41",
                "language": "sql"
            },
            "outputs": [],
            "execution_count": null
        },
        {
            "cell_type": "markdown",
            "source": [
                "9\\. Suppliers and thier locations\n",
                "\n",
                "<span style=\"font-family: -apple-system, BlinkMacSystemFont, sans-serif; color: var(--vscode-foreground);\">Tables involved: Purchasing.Suppliers, Application.Cities, Application.StateProvinces, Application.Countries</span>"
            ],
            "metadata": {
                "azdata_cell_guid": "183774b1-97d0-4a0c-86e3-be7b215e8c20"
            },
            "attachments": {}
        },
        {
            "cell_type": "code",
            "source": [
                "-- Proposition: List all suppliers with their city, state, and country\n",
                "\n",
                "SELECT \n",
                "    S.SupplierID,\n",
                "    S.SupplierName,\n",
                "    CT.CityName,\n",
                "    SP.StateProvinceName,\n",
                "    CO.CountryName\n",
                "FROM Purchasing.Suppliers AS S\n",
                "JOIN Application.Cities AS CT\n",
                "    ON CT.CityID = S.DeliveryCityID\n",
                "JOIN Application.StateProvinces AS SP\n",
                "    ON SP.StateProvinceID = CT.StateProvinceID\n",
                "JOIN Application.Countries AS CO\n",
                "    ON CO.CountryID = SP.CountryID\n",
                "ORDER BY S.SupplierName;"
            ],
            "metadata": {
                "azdata_cell_guid": "ccc1f861-679f-47b9-b6f2-385a7d309b39",
                "language": "sql",
                "tags": []
            },
            "outputs": [],
            "execution_count": null
        },
        {
            "cell_type": "markdown",
            "source": [
                "10\\. Top 5 customers in 2016 with their salesperson\n",
                "\n",
                "<span style=\"color: var(--vscode-foreground); font-family: -apple-system, BlinkMacSystemFont, sans-serif;\">Tables Involved: Sales.customers, Sales.orders, Sales.OrderLines, Application.people</span>"
            ],
            "metadata": {
                "azdata_cell_guid": "16d31f97-d9cc-4c3b-9b21-b152b5d4c42e"
            },
            "attachments": {}
        },
        {
            "cell_type": "code",
            "source": [
                "-- Proposition: Top 5 customers by 2016 sales (simple revenue = Quantity * UnitPrice),  plus the salesperson on the account.\n",
                "\n",
                "SELECT TOP 5\n",
                "    C.CustomerID,\n",
                "    C.CustomerName,\n",
                "    P.FullName AS Salesperson,\n",
                "    SUM(OL.Quantity * OL.UnitPrice) AS TotalSales\n",
                "FROM Sales.Orders       AS O\n",
                "JOIN Sales.Customers    AS C ON C.CustomerID = O.CustomerID\n",
                "JOIN Sales.OrderLines   AS OL ON OL.OrderID   = O.OrderID\n",
                "JOIN Application.People AS P ON P.PersonID    = O.SalespersonPersonID\n",
                "WHERE O.OrderDate >= '20160101' AND O.OrderDate < '20170101'\n",
                "GROUP BY C.CustomerID, C.CustomerName, P.FullName\n",
                "ORDER BY TotalSales DESC;"
            ],
            "metadata": {
                "azdata_cell_guid": "50762a77-f54f-4be8-9273-c50dac0d514a",
                "language": "sql",
                "tags": []
            },
            "outputs": [],
            "execution_count": null
        }
    ]
}