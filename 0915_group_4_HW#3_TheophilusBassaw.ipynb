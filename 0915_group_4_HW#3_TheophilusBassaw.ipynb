{
    "metadata": {
        "kernelspec": {
            "name": "SQL",
            "display_name": "SQL",
            "language": "sql"
        },
        "language_info": {
            "name": "sql",
            "version": ""
        }
    },
    "nbformat_minor": 2,
    "nbformat": 4,
    "cells": [
        {
            "cell_type": "markdown",
            "source": [
                "### **1\\. Customers with Special Deals**\n",
                "\n",
                "**Proposition:** Determine which customer has special deals, to incentivize customer spending\n",
                "\n",
                "**Tables:** Sales.Customers, Sales.Special Deals"
            ],
            "metadata": {
                "azdata_cell_guid": "cdc46bae-5da5-4115-a1aa-b9eb250b134d"
            },
            "attachments": {}
        },
        {
            "cell_type": "code",
            "source": [
                "-- 1\n",
                "-- Proposition: Determine which customer has special deals, to incentivize customer spending\n",
                "\n",
                "USE WideWorldImporters;\n",
                "\n",
                "SELECT C.CustomerID as custid, C.CustomerName as custname, \n",
                "    CASE S.UnitPrice\n",
                "        WHEN S.UnitPrice THEN 'Yes'\n",
                "        ELSE 'No'\n",
                "    END as 'Special Deal'\n",
                "FROM Sales.Customers as C\n",
                "    LEFT OUTER JOIN Sales.SpecialDeals as S\n",
                "        ON C.CustomerID = S.CustomerID"
            ],
            "metadata": {
                "azdata_cell_guid": "7314b2f8-f7dc-49cd-a0e5-eb869f49be7d",
                "language": "sql"
            },
            "outputs": [],
            "execution_count": null
        },
        {
            "cell_type": "markdown",
            "source": [
                "### **2\\. List of Customer Categories & How Customers per Category**\n",
                "\n",
                "**Proposition:** Get a list of all Customer Categories and number of customer's per category to determine how much stock is needed.\n",
                "\n",
                "**Tables:** Sales.Customers, Sales.CustomerCategories"
            ],
            "metadata": {
                "language": "sql",
                "azdata_cell_guid": "1e87ba72-d5dc-4149-969c-0b10dba1fac3"
            },
            "attachments": {}
        },
        {
            "cell_type": "code",
            "source": [
                "-- 2\n",
                "-- Proposition: Get a list of all Customer Categories and number of customer's per category to determine how much stock is needed.\n",
                "\n",
                "Use WideWorldImporters\n",
                "\n",
                "SELECT CC.CustomerCategoryName as 'Store Type', COUNT(CC.CustomerCategoryName) as NumOfCustomers\n",
                "\n",
                "FROM Sales.Customers as C\n",
                "    INNER JOIN Sales.CustomerCategories as CC\n",
                "        ON C.CustomerCategoryID = CC.CustomerCategoryID\n",
                "GROUP BY CC.CustomerCategoryName"
            ],
            "metadata": {
                "azdata_cell_guid": "f8ce49db-6530-49cc-9c13-21c8235497c0",
                "language": "sql"
            },
            "outputs": [],
            "execution_count": null
        },
        {
            "cell_type": "markdown",
            "source": [
                "### **3\\. Get the number of orders from the years 2013 to 2014**\n",
                "\n",
                "**Proposition:** Get the number of orders from the years 2013 & 2014, for comparison to understand improvements that were done.\n",
                "\n",
                "**Tables:** Sales.Customers, Sales.Orders"
            ],
            "metadata": {
                "language": "sql",
                "azdata_cell_guid": "73da4f9a-99ce-497c-b835-d92d42eef22f"
            },
            "attachments": {}
        },
        {
            "cell_type": "code",
            "source": [
                "-- 3\n",
                "-- Proposition: Get the number of orders from the years 2013 & 2014, for comparison to understand improvements that were done.\n",
                "\n",
                "Use WideWorldImporters;\n",
                "\n",
                "SELECT YEAR(O.OrderDate) as 'Order Year', COUNT(YEAR(O.OrderDate)) as 'Total Orders'\n",
                "FROM Sales.Customers AS C\n",
                "  INNER JOIN Sales.Orders AS O\n",
                "    ON C.customerid = O.customerid\n",
                "WHERE O.OrderDate >= '20130101' AND O.OrderDate <= '20141231'\n",
                "GROUP BY YEAR(O.OrderDate)"
            ],
            "metadata": {
                "azdata_cell_guid": "84a54747-ba7d-47b7-89e8-9b17873350ef",
                "language": "sql"
            },
            "outputs": [],
            "execution_count": null
        },
        {
            "cell_type": "markdown",
            "source": [
                "### **4\\. Get a list of Customers, Number of Orders, & Total Order Quantites**\n",
                "\n",
                "**Proposition:** Get a list of Customers, and how much orders they placed by ascending order to determine, which customer can be incentivize to order more.\n",
                "\n",
                "**Tables:** Sales.Orders, Sales.OrderLines, Sales.Customers"
            ],
            "metadata": {
                "language": "sql",
                "azdata_cell_guid": "a1778b5b-c91a-4dc0-9ecd-099c4924c92a"
            },
            "attachments": {}
        },
        {
            "cell_type": "code",
            "source": [
                "-- 4\n",
                "-- Proposition: Get a list of Customers, and how much orders they placed by ascending order to determine, which customer can be incentivize to order more.\n",
                "\n",
                "USE WideWorldImporters\n",
                "\n",
                "Select C.CustomerName as custname, COUNT(DISTINCT O.OrderID) as numorders, SUM(OL.Quantity) as totalqty\n",
                "FROM Sales.Orders as O\n",
                "    INNER JOIN Sales.OrderLines as OL\n",
                "        ON O.OrderID = OL.OrderID\n",
                "    INNER JOIN Sales.Customers as C\n",
                "        ON C.CustomerID = O.CustomerID\n",
                "GROUP BY C.CustomerName\n",
                "ORDER BY numorders"
            ],
            "metadata": {
                "azdata_cell_guid": "4b35a2d3-bd64-4605-a2f3-7cde421544cc",
                "language": "sql"
            },
            "outputs": [],
            "execution_count": null
        },
        {
            "cell_type": "markdown",
            "source": [
                "### **5\\. List of customers, orders and outstanding balances**\n",
                "\n",
                "**Proposition:** Get a list of Customers, and how much orders they placed and outstanding balances, to determine who should get notices to start paying\n",
                "\n",
                "**Tables:** Sales.Orders, Sales.CustomerTransactions, Sales.Customers"
            ],
            "metadata": {
                "language": "sql",
                "azdata_cell_guid": "0cc9c466-b981-4e95-a697-d3209a847379"
            },
            "attachments": {}
        },
        {
            "cell_type": "code",
            "source": [
                "-- 5\n",
                "-- Proposition: Get a list of Customers, and how much orders they placed and outstanding balances, to determine who should get notices to start paying\n",
                "\n",
                "USE WideWorldImporters\n",
                "\n",
                "Select C.CustomerName, COUNT(DISTINCT O.OrderID) as NumOfOrders, MAX(CT.OutstandingBalance) as OutstandingBalance\n",
                "FROM Sales.Customers as C\n",
                "    INNER JOIN Sales.CustomerTransactions as CT\n",
                "        ON C.CustomerID = CT.CustomerID\n",
                "    INNER JOIN Sales.Orders as O\n",
                "        ON C.CustomerID = O.CustomerID\n",
                "GROUP BY C.CustomerName\n",
                "ORDER BY OutstandingBalance DESC"
            ],
            "metadata": {
                "azdata_cell_guid": "b064f8a4-d576-4c42-bb10-6075273944e6",
                "language": "sql"
            },
            "outputs": [],
            "execution_count": null
        },
        {
            "cell_type": "markdown",
            "source": [
                "### **6\\. Customers with no orders**\n",
                "\n",
                "**Proposition:** Get a list of Customers of customers who haven't placed an order yet, to create special offers to incentivize an order\n",
                "\n",
                "**Tables:** Sales.Orders, Sales.Customers"
            ],
            "metadata": {
                "language": "sql",
                "azdata_cell_guid": "28f46b3a-40bc-4ebc-a6d9-2a81430b060e"
            },
            "attachments": {}
        },
        {
            "cell_type": "code",
            "source": [
                "-- 6\n",
                "-- Proposition: Get a list of Customers of customers who haven't placed an order yet, to create special offers to incentivize an order\n",
                "\n",
                "USE WideWorldImporters\n",
                "\n",
                "Select C.CustomerID as custid, C.CustomerName as custname, O.orderid, o.orderdate\n",
                "FROM Sales.Customers as C\n",
                "    LEFT OUTER JOIN Sales.Orders as O\n",
                "        ON C.CustomerID = O.CustomerID\n",
                "WHERE O.OrderID is NULL"
            ],
            "metadata": {
                "azdata_cell_guid": "a5114947-a564-48e1-b796-42ea888bac2b",
                "language": "sql"
            },
            "outputs": [],
            "execution_count": null
        },
        {
            "cell_type": "markdown",
            "source": [
                "### **7\\. Customer Orders between Feb 12 and Feb 19**\n",
                "\n",
                "**Proposition:** Get a list of Customers who placed orders between Feb 12 and Feb 19, to determine who is preparing for President Day sales.\n",
                "\n",
                "**Tables:** Sales.Orders, Sales.Customers"
            ],
            "metadata": {
                "language": "sql",
                "azdata_cell_guid": "39de6468-51e6-4d8e-87a7-7c19ef6a263b"
            },
            "attachments": {}
        },
        {
            "cell_type": "code",
            "source": [
                "-- 7\n",
                "-- Proposition: Get a list of Customers who placed orders between Feb 12 and Feb 19, to determine who is preparing for President Day sales.\n",
                "\n",
                "USE WideWorldImporters\n",
                "\n",
                "Select C.CustomerID as custid, C.CustomerName as custname, O.orderid, o.orderdate\n",
                "FROM Sales.Customers as C\n",
                "    INNER JOIN Sales.Orders as O\n",
                "        ON C.CustomerID = O.CustomerID\n",
                "WHERE o.orderdate >= '20160212' AND o.orderdate < '20160219'"
            ],
            "metadata": {
                "azdata_cell_guid": "2afc32f6-c4f9-44e3-8200-ccf8c250c660",
                "language": "sql"
            },
            "outputs": [],
            "execution_count": null
        },
        {
            "cell_type": "markdown",
            "source": [
                "### **8\\. Customer Orders between Nov 28 and Dec 1**\n",
                "\n",
                "**Proposition:** Get a list of Customers who placed Holiday orders, including one's who didn't, to incentivize more Holiday orders.\n",
                "\n",
                "**Tables:** Sales.Orders, Sales.Customers"
            ],
            "metadata": {
                "language": "sql",
                "azdata_cell_guid": "aac38673-5967-4673-a3ad-1f9c01a4c270"
            },
            "attachments": {}
        },
        {
            "cell_type": "code",
            "source": [
                "-- 8\n",
                "-- Proposition: Get a list of Customers who placed Holiday orders, including one's who didn't, to incentivize more Holiday orders.\n",
                "\n",
                "USE WideWorldImporters\n",
                "\n",
                "Select C.CustomerID as custid, C.CustomerName as custname, O.orderid, o.orderdate\n",
                "FROM Sales.Customers as C\n",
                "    LEFT OUTER JOIN Sales.Orders as O\n",
                "        ON C.CustomerID = O.CustomerID AND (o.orderdate >= '20161128' AND o.orderdate <= '20161201')"
            ],
            "metadata": {
                "azdata_cell_guid": "5bfa052e-cd81-49fc-bab6-e33ed61b0f1f",
                "language": "sql",
                "tags": []
            },
            "outputs": [],
            "execution_count": null
        },
        {
            "cell_type": "markdown",
            "source": [
                "### **9\\. Valentines Day Orders**\n",
                "\n",
                "**Proposition:** <span style=\"font-size: 14px; font-family: -apple-system, BlinkMacSystemFont, sans-serif; color: var(--vscode-foreground);\">Get a list of gift shop and novelty shop stores that placed orders on Valentines day, to determine how to increase Valentines Day sales</span>\n",
                "\n",
                "**Tables:** Sales.Orders, Sales.CustomerCategories, Sales.Customers"
            ],
            "metadata": {
                "language": "sql",
                "azdata_cell_guid": "b15a1b21-fa0c-43c8-a4ac-0428041a994c"
            },
            "attachments": {}
        },
        {
            "cell_type": "code",
            "source": [
                "-- 9\n",
                "-- Proposition: Get a list of gift shop and novelty shop stores that placed orders on Valentines day, to determine how to increase Valentines Day sales\n",
                "\n",
                "USE WideWorldImporters\n",
                "\n",
                "SELECT C.CustomerID, C.CustomerName, B.CustomerCategoryName, \n",
                "  CASE(O.orderdate)\n",
                "    WHEN '20180214' THEN 'YES'\n",
                "    ELSE 'NO'\n",
                "  END as OrderPlaced\n",
                "FROM Sales.Customers AS C\n",
                "  LEFT OUTER JOIN Sales.Orders AS O\n",
                "    ON O.CustomerID = C.CustomerID and O.orderdate = '20180214'\n",
                "  LEFT OUTER JOIN Sales.CustomerCategories as B\n",
                "    ON C.CustomerCategoryID = B.CustomerCategoryID AND\n",
                "      B.CustomerCategoryName = 'Novelty Shop' OR B.CustomerCategoryName = 'Gift Store'"
            ],
            "metadata": {
                "azdata_cell_guid": "f001e4f4-4ef9-40d2-a665-d75dc7fad93f",
                "language": "sql"
            },
            "outputs": [],
            "execution_count": null
        },
        {
            "cell_type": "markdown",
            "source": [
                "### **10\\. Black Friday Orders**\n",
                "\n",
                "**Proposition:** Get a list of all customers that placed an order on Black Friday, to determine how to increase Black Friday sales.\n",
                "\n",
                "**Tables:** Sales.Orders, Sales.Customers"
            ],
            "metadata": {
                "language": "sql",
                "azdata_cell_guid": "3328050e-a8ef-46ce-8766-6a6cf3f96a6e"
            },
            "attachments": {}
        },
        {
            "cell_type": "code",
            "source": [
                "-- 10\n",
                "-- Proposition: Get a list of all customers that placed an order on Black Friday\n",
                "\n",
                "USE WideWorldImporters\n",
                "\n",
                "SELECT C.CustomerName, \n",
                "    CASE O.orderdate\n",
                "        WHEN '20161128' THEN 'YES'\n",
                "        ELSE 'NO'\n",
                "    END as OrderPlaced\n",
                "FROM Sales.Customers as C\n",
                "    LEFT OUTER JOIN Sales.Orders as O\n",
                "        ON C.CustomerID = O.CustomerID AND o.orderdate = '20161128'"
            ],
            "metadata": {
                "azdata_cell_guid": "c33d33c2-16e0-458b-bbea-c0a9f071a74e",
                "language": "sql"
            },
            "outputs": [],
            "execution_count": null
        }
    ]
}