{
    "metadata": {
        "kernelspec": {
            "name": "SQL",
            "display_name": "SQL",
            "language": "sql"
        },
        "language_info": {
            "name": "sql",
            "version": ""
        }
    },
    "nbformat_minor": 2,
    "nbformat": 4,
    "cells": [
        {
            "cell_type": "code",
            "source": [
                "-- 1\n",
                "-- A query that returns a table with customers and special deals, to determine if a Customer should get one\n",
                "\n",
                "USE WideWorldImporters;\n",
                "\n",
                "SELECT C.CustomerID as custid, C.CustomerName as custname, S.UnitPrice as Deal\n",
                "FROM Sales.Customers as C\n",
                "    CROSS JOIN Sales.SpecialDeals as S"
            ],
            "metadata": {
                "azdata_cell_guid": "7314b2f8-f7dc-49cd-a0e5-eb869f49be7d",
                "language": "sql"
            },
            "outputs": [],
            "execution_count": null
        },
        {
            "cell_type": "code",
            "source": [
                "-- 2\n",
                "-- A query that returns a row for each employee and day in the range June 12, 2016 - June 16 2016. \n",
                "-- Can be used to get the dates an employee worked.\n",
                "\n",
                "DROP TABLE IF EXISTS dbo.Days;\n",
                "CREATE TABLE dbo.Days(days INT NOT NULL PRIMARY KEY);\n",
                "INSERT INTO dbo.Days(days) VALUES (1),(2),(3),(4),(5),(6),(7),(8),(9),(10),(11),(12),(13),(14),(15),(16),(17),(18),(19),\n",
                "(20),(21),(22),(23),(24),(25),(26),(27),(28),(29),(30),(31);\n",
                "\n",
                "SELECT C.CustomerID as custid, C.CustomerName as custname, DATEADD(day, D.days - 1, CAST('20160612' AS DATE)) AS dt\n",
                "\n",
                "FROM Sales.Customers as C\n",
                "    CROSS JOIN dbo.Days as D\n",
                "\n",
                "WHERE D.days <= DATEDIFF(day, '20160612', '20160616') + 1\n",
                "ORDER BY custid;"
            ],
            "metadata": {
                "language": "sql",
                "azdata_cell_guid": "f8ce49db-6530-49cc-9c13-21c8235497c0"
            },
            "outputs": [],
            "execution_count": null
        },
        {
            "cell_type": "code",
            "source": [
                "-- 3\n",
                "-- Query that returns a table through joining the Sales.Customers and Sales.Orders table\n",
                "-- Can be used to give a list to the Sales team to correlate Customers and their orders.\n",
                "\n",
                "Use WideWorldImporters;\n",
                "\n",
                "SELECT C.customerid, C.customername, O.orderid, O.orderdate\n",
                "FROM Sales.Customers AS C\n",
                "  INNER JOIN Sales.Orders AS O\n",
                "    ON C.customerid = O.customerid;"
            ],
            "metadata": {
                "language": "sql",
                "azdata_cell_guid": "84a54747-ba7d-47b7-89e8-9b17873350ef"
            },
            "outputs": [],
            "execution_count": null
        },
        {
            "cell_type": "code",
            "source": [
                "-- 4\n",
                "-- A query that returns each customer, their total number of orders and total quantities.\n",
                "-- Can be used to determine how much does a customer order and the total quantities to figure out high value customers.\n",
                "\n",
                "USE WideWorldImporters\n",
                "\n",
                "Select O.CustomerID as custid, COUNT(DISTINCT O.OrderID) as numorders, SUM(OL.Quantity) as totalqty\n",
                "FROM Sales.Orders as O\n",
                "    INNER JOIN Sales.OrderLines as OL\n",
                "        ON O.OrderID = OL.OrderID\n",
                "GROUP BY O.CustomerID\n",
                "ORDER BY O.CustomerID"
            ],
            "metadata": {
                "language": "sql",
                "azdata_cell_guid": "4b35a2d3-bd64-4605-a2f3-7cde421544cc"
            },
            "outputs": [],
            "execution_count": null
        },
        {
            "cell_type": "code",
            "source": [
                "-- 5\n",
                "-- A query that return customers and their orders, including customers who placed no orders.\n",
                "-- Can be used to determine if those customers that haven't placed an order can be dropped as customers\n",
                "\n",
                "USE WideWorldImporters\n",
                "\n",
                "Select C.CustomerID as custid, C.CustomerName as custname, O.orderid, o.orderdate\n",
                "FROM Sales.Customers as C\n",
                "    LEFT OUTER JOIN Sales.Orders as O\n",
                "        ON C.CustomerID = O.CustomerID"
            ],
            "metadata": {
                "language": "sql",
                "azdata_cell_guid": "b064f8a4-d576-4c42-bb10-6075273944e6"
            },
            "outputs": [],
            "execution_count": null
        },
        {
            "cell_type": "code",
            "source": [
                "-- 6\n",
                "-- A query that return customers who placed no orders\n",
                "-- Can be used to determine if those customers that haven't placed an order can be incentivize to make a purchase.\n",
                "\n",
                "USE WideWorldImporters\n",
                "\n",
                "Select C.CustomerID as custid, C.CustomerName as custname, O.orderid, o.orderdate\n",
                "FROM Sales.Customers as C\n",
                "    LEFT OUTER JOIN Sales.Orders as O\n",
                "        ON C.CustomerID = O.CustomerID\n",
                "WHERE O.OrderID is NULL"
            ],
            "metadata": {
                "language": "sql",
                "azdata_cell_guid": "a5114947-a564-48e1-b796-42ea888bac2b"
            },
            "outputs": [],
            "execution_count": null
        },
        {
            "cell_type": "code",
            "source": [
                "-- 7\n",
                "-- A query that return customers with orders placed on Feb 12, 2016 along with their orders\n",
                "-- Can be used to determine if the ammount of orders are higher that average due to the coming president day weekend.\n",
                "\n",
                "USE WideWorldImporters\n",
                "\n",
                "Select C.CustomerID as custid, C.CustomerName as custname, O.orderid, o.orderdate\n",
                "FROM Sales.Customers as C\n",
                "    INNER JOIN Sales.Orders as O\n",
                "        ON C.CustomerID = O.CustomerID\n",
                "WHERE o.orderdate >= '20160212' AND o.orderdate < '20160213'"
            ],
            "metadata": {
                "language": "sql",
                "azdata_cell_guid": "2afc32f6-c4f9-44e3-8200-ccf8c250c660"
            },
            "outputs": [],
            "execution_count": null
        },
        {
            "cell_type": "code",
            "source": [
                "-- 8\n",
                "-- A query that returns all customers but matches them with their orders only if they were placed on February 12, 2016\n",
                "-- Can be used to determine if those customers can be incentivize to purchase on that day for next time.\n",
                "\n",
                "USE WideWorldImporters\n",
                "\n",
                "Select C.CustomerID as custid, C.CustomerName as custname, O.orderid, o.orderdate\n",
                "FROM Sales.Customers as C\n",
                "    LEFT OUTER JOIN Sales.Orders as O\n",
                "        ON C.CustomerID = O.CustomerID AND o.orderdate = '20160212'"
            ],
            "metadata": {
                "language": "sql",
                "azdata_cell_guid": "5bfa052e-cd81-49fc-bab6-e33ed61b0f1f"
            },
            "outputs": [],
            "execution_count": null
        },
        {
            "cell_type": "code",
            "source": [
                "-- 9\n",
                "-- A query that returns all customers and their orders only if they were placed on February 14, 2016\n",
                "-- Can be used to determine if customers are making purchases on Valentines day. They aren't so promoting sales for \n",
                "-- Valentines day is not profittable.\n",
                "SELECT C.CustomerID, C.CustomerName, O.orderid, O.orderdate\n",
                "FROM Sales.Customers AS C\n",
                "  INNER JOIN Sales.Orders AS O\n",
                "    ON O.CustomerID = C.CustomerID\n",
                "WHERE O.orderdate = '20160214'"
            ],
            "metadata": {
                "language": "sql",
                "azdata_cell_guid": "f001e4f4-4ef9-40d2-a665-d75dc7fad93f"
            },
            "outputs": [],
            "execution_count": null
        },
        {
            "cell_type": "code",
            "source": [
                "-- 10\n",
                "-- A query that return all customers, and for each return a Yes or No\n",
                "-- depending on whether the customer placed an order on Nov 28, 2016\n",
                "-- Can be used to determine if customers placed orders of black friday. Most didn't so it can be used an an opportunity to promote more sales.\n",
                "USE WideWorldImporters\n",
                "\n",
                "USE WideWorldImporters\n",
                "\n",
                "SELECT C.CustomerID, C.CustomerName, O.orderid, \n",
                "    CASE O.orderdate\n",
                "        WHEN '20160212' THEN 'YES'\n",
                "        ELSE 'NO'\n",
                "    END\n",
                "FROM Sales.Customers as C\n",
                "    LEFT OUTER JOIN Sales.Orders as O\n",
                "        ON C.CustomerID = O.CustomerID AND o.orderdate = '20161128'"
            ],
            "metadata": {
                "language": "sql",
                "azdata_cell_guid": "c33d33c2-16e0-458b-bbea-c0a9f071a74e"
            },
            "outputs": [],
            "execution_count": null
        }
    ]
}