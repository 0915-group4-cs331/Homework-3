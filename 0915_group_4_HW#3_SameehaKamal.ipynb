{
    "metadata": {
        "kernelspec": {
            "name": "SQL",
            "display_name": "SQL",
            "language": "sql"
        },
        "language_info": {
            "name": "sql",
            "version": ""
        }
    },
    "nbformat_minor": 2,
    "nbformat": 4,
    "cells": [
        {
            "cell_type": "markdown",
            "source": [
                "### 1\\. Customer Order Activity\n",
                "\n",
                "**Proposition:** Identify all customers, including those who never placed an order, so the business can follow up with inactive accounts.  \n",
                "**Tables:** Sales.Customers, Sales.Orders"
            ],
            "metadata": {
                "azdata_cell_guid": "bd24292c-fd7c-4582-961e-233589994a06"
            },
            "attachments": {}
        },
        {
            "cell_type": "code",
            "source": [
                "--Identify all customers so business can follow up with inactive accounts\r\n",
                "------------------------------------------------------------\r\n",
                "USE WideWorldImporters;\r\n",
                "SELECT c.CustomerID, c.CustomerName, o.OrderID, o.OrderDate\r\n",
                "FROM Sales.Customers AS c\r\n",
                "LEFT JOIN Sales.Orders AS o\r\n",
                "  ON c.CustomerID = o.CustomerID\r\n",
                "ORDER BY c.CustomerID;\r\n",
                ""
            ],
            "metadata": {
                "azdata_cell_guid": "78b9a4e8-5252-49e6-b388-06d0ce473168",
                "language": "sql",
                "tags": []
            },
            "outputs": [],
            "execution_count": null
        },
        {
            "cell_type": "markdown",
            "source": [
                "### 2\\. Sales by Employee\n",
                "\n",
                "**Proposition:** Show all employees alongside the number of orders they processed, including employees with zero orders, to evaluate performance and workload distribution.  \n",
                "**Tables:** Application.People, Sales.Orders"
            ],
            "metadata": {
                "language": "sql",
                "azdata_cell_guid": "977cb08e-d414-4458-aaee-f607e7a41c52"
            },
            "attachments": {}
        },
        {
            "cell_type": "code",
            "source": [
                "-- 2. Sales by Employee- Show all salespeople (IsSalesperson = 1) and the number of orders they processed Include salespeople with 0 orders.\r\n",
                "--------------------------------------------------------------------------------\r\n",
                "USE WideWorldImporters;\r\n",
                "SELECT \r\n",
                "    p.PersonID,\r\n",
                "    p.FullName,\r\n",
                "    COUNT(o.OrderID) AS OrderCount\r\n",
                "FROM Application.People AS p\r\n",
                "LEFT JOIN Sales.Orders AS o\r\n",
                "    ON o.SalespersonPersonID = p.PersonID\r\n",
                "WHERE p.IsSalesperson = 1\r\n",
                "GROUP BY p.PersonID, p.FullName\r\n",
                "ORDER BY OrderCount DESC;\r\n",
                "GO\r\n",
                ""
            ],
            "metadata": {
                "language": "sql",
                "azdata_cell_guid": "233332ef-78ba-4fdd-b0b8-80d96bb5c18a"
            },
            "outputs": [],
            "execution_count": null
        },
        {
            "cell_type": "markdown",
            "source": [
                "### 3\\. Products Not Ordered Last Year\n",
                "\n",
                "**Proposition:** Return all products, and highlight those that haven't been included in the past year  \n",
                "**Tables:** Warehouse.StockItems, Sales.OrderLines"
            ],
            "metadata": {
                "azdata_cell_guid": "2f5c4c2e-c53c-48aa-80a9-fd64c0ffe7fd"
            },
            "attachments": {}
        },
        {
            "cell_type": "code",
            "source": [
                "-- 3. Products Not Ordered in the Last Year\r\n",
                "-- Return stock items that have not appeared in any orders in the past 365 days.\r\n",
                "--------------------------------------------------------------------------------\r\n",
                "USE WideWorldImporters;\r\n",
                "SELECT si.StockItemID, si.StockItemName\r\n",
                "FROM Warehouse.StockItems AS si\r\n",
                "LEFT JOIN Sales.OrderLines AS ol\r\n",
                "  ON si.StockItemID = ol.StockItemID\r\n",
                "LEFT JOIN Sales.Orders AS o\r\n",
                "  ON ol.OrderID = o.OrderID\r\n",
                " AND o.OrderDate >= DATEADD(DAY, -365, GETDATE())\r\n",
                "WHERE o.OrderID IS NULL\r\n",
                "ORDER BY si.StockItemName;"
            ],
            "metadata": {
                "azdata_cell_guid": "be69ca28-04e9-4d13-ae35-be54ac346dad",
                "language": "sql"
            },
            "outputs": [],
            "execution_count": null
        },
        {
            "cell_type": "markdown",
            "source": [
                "### 4\\. Top Selling Products Per Customer\n",
                "\n",
                "**Proposition:** For each customer, determine their most frequently ordered product, enabling personalized marketing campaigns.  \n",
                "**Tables:** Sales.Customers, Sales.Orders, Sales.OrderLines, Warehouse.StockItems"
            ],
            "metadata": {
                "language": "sql",
                "azdata_cell_guid": "8e9731a6-b00a-4e68-8863-09acb53a1c08"
            },
            "attachments": {}
        },
        {
            "cell_type": "code",
            "source": [
                "-- Top Selling Products Per Customer: List customers and their ordered products\r\n",
                "--------------------------------------------------------------------------------\r\n",
                "USE WideWorldImporters;\r\n",
                "SELECT c.CustomerID, c.CustomerName, si.StockItemName\r\n",
                "FROM Sales.Customers AS c\r\n",
                "JOIN Sales.Orders AS o\r\n",
                "  ON c.CustomerID = o.CustomerID\r\n",
                "JOIN Sales.OrderLines AS ol\r\n",
                "  ON o.OrderID = ol.OrderID\r\n",
                "JOIN Warehouse.StockItems AS si\r\n",
                "  ON ol.StockItemID = si.StockItemID\r\n",
                "ORDER BY c.CustomerID, si.StockItemName;"
            ],
            "metadata": {
                "language": "sql",
                "azdata_cell_guid": "c36ca7d6-a90b-4514-873c-07567b5b01dc"
            },
            "outputs": [],
            "execution_count": null
        },
        {
            "cell_type": "markdown",
            "source": [
                "### 5\\. Orders Without Invoices\n",
                "\n",
                "**Proposition:** Identify orders that have no matching invoice, ensuring financial and operational reconciliation.  \n",
                "**Tables:** Sales.Orders, Sales.Invoices"
            ],
            "metadata": {
                "azdata_cell_guid": "6573e732-31dd-44cb-96f0-664f33fb2735"
            },
            "attachments": {}
        },
        {
            "cell_type": "code",
            "source": [
                "--5. Orders Without Invoices: Identify orders that have no matching invoice.\r\n",
                "--------------------------------------------------------------------------------\r\n",
                "USE WideWorldImporters;\r\n",
                "SELECT o.OrderID, o.CustomerID, o.OrderDate\r\n",
                "FROM Sales.Orders AS o\r\n",
                "LEFT JOIN Sales.Invoices AS i\r\n",
                "  ON o.OrderID = i.OrderID\r\n",
                "WHERE i.InvoiceID IS NULL;"
            ],
            "metadata": {
                "azdata_cell_guid": "32f02a13-3ec9-46ba-8f9b-c3f18e76daa7",
                "language": "sql"
            },
            "outputs": [],
            "execution_count": null
        },
        {
            "cell_type": "markdown",
            "source": [
                "### 6\\. Supplier Product Coverage\n",
                "\n",
                "**Proposition:** List all suppliers along with the products they provide, including suppliers currently with no listed stock items, to assess potential sourcing gaps.  \n",
                "**Tables:** Purchasing.Suppliers, Warehouse.StockItems"
            ],
            "metadata": {
                "azdata_cell_guid": "2160f9be-6bdb-4a5b-a0ed-58fc8c69dabf"
            },
            "attachments": {}
        },
        {
            "cell_type": "code",
            "source": [
                "-- 6. Supplier Product Coverage: List all suppliers and the products they supply (including none).\r\n",
                "--------------------------------------------------------------------------------\r\n",
                "USE WideWorldImporters;\r\n",
                "SELECT s.SupplierID, s.SupplierName, si.StockItemID, si.StockItemName\r\n",
                "FROM Purchasing.Suppliers AS s\r\n",
                "LEFT JOIN Warehouse.StockItems AS si\r\n",
                "  ON s.SupplierID = si.SupplierID\r\n",
                "ORDER BY s.SupplierName;"
            ],
            "metadata": {
                "azdata_cell_guid": "6428af48-c8c3-49c7-99e0-84c5006a85c5",
                "language": "sql"
            },
            "outputs": [],
            "execution_count": null
        },
        {
            "cell_type": "markdown",
            "source": [
                "### 7\\. Order Frequency Trend\n",
                "\n",
                "**Proposition:** For each customer, show the number of days between consecutive orders, helping the business track buying cycles.  \n",
                "**Tables:** Sales.Customers, Sales.Orders"
            ],
            "metadata": {
                "azdata_cell_guid": "331dad8b-f85a-4f93-9a5a-5034a7d7b9ec"
            },
            "attachments": {}
        },
        {
            "cell_type": "code",
            "source": [
                "-- 7. Order Frequency Trend: Pair each order with earlier ones from the same customer (self join).\r\n",
                "--------------------------------------------------------------------------------\r\n",
                "USE WideWorldImporters;\r\n",
                "SELECT o1.CustomerID, o1.OrderID, o1.OrderDate, o2.OrderID AS PreviousOrderID, o2.OrderDate AS PreviousOrderDate\r\n",
                "FROM Sales.Orders AS o1\r\n",
                "JOIN Sales.Orders AS o2\r\n",
                "  ON o1.CustomerID = o2.CustomerID\r\n",
                " AND o2.OrderDate < o1.OrderDate\r\n",
                "ORDER BY o1.CustomerID, o1.OrderDate;"
            ],
            "metadata": {
                "azdata_cell_guid": "9c0c2aab-42fe-4157-9fac-8ef2f1cd2297",
                "language": "sql"
            },
            "outputs": [],
            "execution_count": null
        },
        {
            "cell_type": "markdown",
            "source": [
                "### 8\\. Stock Items with Categories\n",
                "\n",
                "**Proposition:** Display all stock items along with their categories, ensuring every product is classified properly for catalog and reporting purposes.  \n",
                "**Tables:** Warehouse.StockItems, Warehouse.StockItemCategories"
            ],
            "metadata": {
                "language": "sql",
                "azdata_cell_guid": "bdb096ba-a6b4-4c41-a804-b25290a3d217"
            },
            "attachments": {}
        },
        {
            "cell_type": "code",
            "source": [
                "-- 8. Stock Items with Categories: Show all stock items and their category (from StockItems table).\r\n",
                "--------------------------------------------------------------------------------\r\n",
                "USE WideWorldImporters;\r\n",
                "SELECT si.StockItemID, si.StockItemName, c.ColorName, pt.PackageTypeName\r\n",
                "FROM Warehouse.StockItems AS si\r\n",
                "JOIN Warehouse.Colors AS c\r\n",
                "  ON si.ColorID = c.ColorID\r\n",
                "JOIN Warehouse.PackageTypes AS pt\r\n",
                "  ON si.UnitPackageID = pt.PackageTypeID\r\n",
                "ORDER BY c.ColorName, si.StockItemName;"
            ],
            "metadata": {
                "language": "sql",
                "azdata_cell_guid": "939779c9-1e49-4ca9-b544-c4be006d4507"
            },
            "outputs": [],
            "execution_count": null
        },
        {
            "cell_type": "markdown",
            "source": [
                "### 9\\. Orders by Territory\n",
                "\n",
                "**Proposition:** Summarize total orders grouped by sales territory, to analyze geographical demand patterns.  \n",
                "**Tables:** Sales.Orders, Application.Cities, Application.StateProvinces"
            ],
            "metadata": {
                "language": "sql",
                "azdata_cell_guid": "2a85ad9b-9865-44ad-8e53-cf3a59989158"
            },
            "attachments": {}
        },
        {
            "cell_type": "code",
            "source": [
                "-- 9. Orders by Territory: Show orders along with the state/province of the customer’s delivery city.\r\n",
                "--------------------------------------------------------------------------------\r\n",
                "USE WideWorldImporters;\r\n",
                "SELECT o.OrderID, c.CityName, sp.StateProvinceName\r\n",
                "FROM Sales.Orders AS o\r\n",
                "JOIN Sales.Customers AS cust\r\n",
                "  ON o.CustomerID = cust.CustomerID\r\n",
                "JOIN Application.Cities AS c\r\n",
                "  ON cust.DeliveryCityID = c.CityID\r\n",
                "JOIN Application.StateProvinces AS sp\r\n",
                "  ON c.StateProvinceID = sp.StateProvinceID\r\n",
                "ORDER BY sp.StateProvinceName, o.OrderDate;"
            ],
            "metadata": {
                "language": "sql",
                "azdata_cell_guid": "2a7143f5-a44c-45ce-ab8f-ce3d214ee487"
            },
            "outputs": [],
            "execution_count": null
        },
        {
            "cell_type": "markdown",
            "source": [
                "### 10\\. Customers with No Recent Orders\n",
                "\n",
                "**Proposition:** Return all customers who placed orders in the past year but not in the current year, identifying those at risk of churn.  \n",
                "**Tables:** Sales.Customers, Sales.Orders"
            ],
            "metadata": {
                "language": "sql",
                "azdata_cell_guid": "83b016c9-336d-4fd4-b2f3-79f6c4edaf13"
            },
            "attachments": {}
        },
        {
            "cell_type": "code",
            "source": [
                "-- 10. Customers with No Recent Orders\r\n",
                "-- Show customers and their orders, then filter outside SQL if needed.\r\n",
                "--------------------------------------------------------------------------------\r\n",
                "USE WideWorldImporters;\r\n",
                "SELECT c.CustomerID, c.CustomerName, o.OrderID, o.OrderDate\r\n",
                "FROM Sales.Customers AS c\r\n",
                "LEFT JOIN Sales.Orders AS o\r\n",
                "  ON c.CustomerID = o.CustomerID\r\n",
                "ORDER BY c.CustomerID, o.OrderDate;"
            ],
            "metadata": {
                "language": "sql",
                "azdata_cell_guid": "9830a623-e22f-448c-9a37-4b3c698b300f"
            },
            "outputs": [],
            "execution_count": null
        }
    ]
}