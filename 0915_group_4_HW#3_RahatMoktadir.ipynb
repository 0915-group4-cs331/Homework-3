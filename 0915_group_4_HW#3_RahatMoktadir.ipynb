{
    "metadata": {
        "kernelspec": {
            "name": "SQL",
            "display_name": "SQL",
            "language": "sql"
        },
        "language_info": {
            "name": "sql",
            "version": ""
        }
    },
    "nbformat_minor": 2,
    "nbformat": 4,
    "cells": [
        {
            "cell_type": "markdown",
            "source": [
                "# CSCI 331 - Homework 3 - Rahat Moktadir\n",
                "\n",
                "## Proposition 1: Top 10 Customers with Year-Over-Year Growth\n",
                "\n",
                "**Functional Specification:**\n",
                "\n",
                "- **Objective:** To identify the top 10 customers by sales in the most recent full year and calculate their sales growth compared to the prior year.\n",
                "- **End-User:** Strategic Account Managers and the Sales department.\n",
                "- **Business Value:** This query finds our most valuable \\*and\\* fastest-growing customers. This insight is critical for allocating resources to nurture key accounts and drive revenue growth.\n",
                "- **AI Footnote:** Assistance was provided by Google's Gemini for brainstorming propositions, writing advanced SQL queries, and explaining the logic."
            ],
            "metadata": {
                "azdata_cell_guid": "9d9941fb-a9fe-4e7f-bf2f-db784d28fe87"
            },
            "attachments": {}
        },
        {
            "cell_type": "code",
            "source": [
                "-- Step 1: Declare variables to hold the years we want to analyze.\r\n",
                "DECLARE @RecentYear INT = (SELECT MAX([Calendar Year]) FROM Dimension.Date WHERE [Date] < GETDATE());\r\n",
                "DECLARE @PriorYear INT = @RecentYear - 1;\r\n",
                "\r\n",
                "-- Step 2: Use the variables in the main query.\r\n",
                "WITH SalesByYear AS (\r\n",
                "    SELECT\r\n",
                "        c.Customer,\r\n",
                "        d.[Calendar Year],\r\n",
                "        SUM(s.[Total Including Tax]) AS TotalSales\r\n",
                "    FROM Fact.Sale s\r\n",
                "    JOIN Dimension.Customer c ON s.[Customer Key] = c.[Customer Key]\r\n",
                "    JOIN Dimension.Date d ON s.[Invoice Date Key] = d.[Date]\r\n",
                "    WHERE d.[Calendar Year] IN (@RecentYear, @PriorYear)\r\n",
                "    GROUP BY c.Customer, d.[Calendar Year]\r\n",
                "),\r\n",
                "CustomerGrowth AS (\r\n",
                "    SELECT\r\n",
                "        Customer,\r\n",
                "        MAX(CASE WHEN [Calendar Year] = @RecentYear THEN TotalSales ELSE 0 END) AS RecentYearSales,\r\n",
                "        MAX(CASE WHEN [Calendar Year] = @PriorYear THEN TotalSales ELSE 0 END) AS PriorYearSales\r\n",
                "    FROM SalesByYear\r\n",
                "    GROUP BY Customer\r\n",
                ")\r\n",
                "SELECT TOP 10\r\n",
                "    Customer,\r\n",
                "    RecentYearSales,\r\n",
                "    PriorYearSales,\r\n",
                "    CAST(((RecentYearSales - PriorYearSales) / PriorYearSales) * 100 AS DECIMAL(10, 2)) AS GrowthPercentage\r\n",
                "FROM CustomerGrowth\r\n",
                "WHERE PriorYearSales > 0\r\n",
                "ORDER BY RecentYearSales DESC;"
            ],
            "metadata": {
                "azdata_cell_guid": "7c54efc4-4452-4668-9329-a3548f1e4eb6",
                "language": "sql"
            },
            "outputs": [
                {
                    "output_type": "display_data",
                    "data": {
                        "text/html": "(10 rows affected)"
                    },
                    "metadata": {}
                },
                {
                    "output_type": "display_data",
                    "data": {
                        "text/html": "Total execution time: 00:00:01.296"
                    },
                    "metadata": {}
                },
                {
                    "output_type": "execute_result",
                    "execution_count": 16,
                    "data": {
                        "application/vnd.dataresource+json": {
                            "schema": {
                                "fields": [
                                    {
                                        "name": "Customer"
                                    },
                                    {
                                        "name": "RecentYearSales"
                                    },
                                    {
                                        "name": "PriorYearSales"
                                    },
                                    {
                                        "name": "GrowthPercentage"
                                    }
                                ]
                            },
                            "data": [
                                {
                                    "Customer": "Unknown",
                                    "RecentYearSales": "10224728.14",
                                    "PriorYearSales": "23971428.29",
                                    "GrowthPercentage": "-57.35"
                                },
                                {
                                    "Customer": "Tailspin Toys (Arietta, NY)",
                                    "RecentYearSales": "100315.81",
                                    "PriorYearSales": "88846.94",
                                    "GrowthPercentage": "12.91"
                                },
                                {
                                    "Customer": "Tailspin Toys (Good Hart, MI)",
                                    "RecentYearSales": "98938.98",
                                    "PriorYearSales": "97622.81",
                                    "GrowthPercentage": "1.35"
                                },
                                {
                                    "Customer": "Wingtip Toys (Obetz, OH)",
                                    "RecentYearSales": "98399.17",
                                    "PriorYearSales": "98937.51",
                                    "GrowthPercentage": "-0.54"
                                },
                                {
                                    "Customer": "Wingtip Toys (North Beach Haven, NJ)",
                                    "RecentYearSales": "96196.45",
                                    "PriorYearSales": "94908.12",
                                    "GrowthPercentage": "1.36"
                                },
                                {
                                    "Customer": "Wingtip Toys (Leathersville, GA)",
                                    "RecentYearSales": "89085.91",
                                    "PriorYearSales": "96527.73",
                                    "GrowthPercentage": "-7.71"
                                },
                                {
                                    "Customer": "Tailspin Toys (Inguadona, MN)",
                                    "RecentYearSales": "85723.90",
                                    "PriorYearSales": "97813.78",
                                    "GrowthPercentage": "-12.36"
                                },
                                {
                                    "Customer": "Wingtip Toys (Cale, AR)",
                                    "RecentYearSales": "84442.95",
                                    "PriorYearSales": "86542.06",
                                    "GrowthPercentage": "-2.43"
                                },
                                {
                                    "Customer": "Wingtip Toys (Ware Shoals, SC)",
                                    "RecentYearSales": "82556.27",
                                    "PriorYearSales": "75012.34",
                                    "GrowthPercentage": "10.06"
                                },
                                {
                                    "Customer": "Wingtip Toys (Bourneville, OH)",
                                    "RecentYearSales": "82183.30",
                                    "PriorYearSales": "102381.59",
                                    "GrowthPercentage": "-19.73"
                                }
                            ]
                        },
                        "text/html": "<table><tr><th>Customer</th><th>RecentYearSales</th><th>PriorYearSales</th><th>GrowthPercentage</th></tr><tr><td>Unknown</td><td>10224728.14</td><td>23971428.29</td><td>-57.35</td></tr><tr><td>Tailspin Toys (Arietta, NY)</td><td>100315.81</td><td>88846.94</td><td>12.91</td></tr><tr><td>Tailspin Toys (Good Hart, MI)</td><td>98938.98</td><td>97622.81</td><td>1.35</td></tr><tr><td>Wingtip Toys (Obetz, OH)</td><td>98399.17</td><td>98937.51</td><td>-0.54</td></tr><tr><td>Wingtip Toys (North Beach Haven, NJ)</td><td>96196.45</td><td>94908.12</td><td>1.36</td></tr><tr><td>Wingtip Toys (Leathersville, GA)</td><td>89085.91</td><td>96527.73</td><td>-7.71</td></tr><tr><td>Tailspin Toys (Inguadona, MN)</td><td>85723.90</td><td>97813.78</td><td>-12.36</td></tr><tr><td>Wingtip Toys (Cale, AR)</td><td>84442.95</td><td>86542.06</td><td>-2.43</td></tr><tr><td>Wingtip Toys (Ware Shoals, SC)</td><td>82556.27</td><td>75012.34</td><td>10.06</td></tr><tr><td>Wingtip Toys (Bourneville, OH)</td><td>82183.30</td><td>102381.59</td><td>-19.73</td></tr></table>"
                    },
                    "metadata": {}
                }
            ],
            "execution_count": 16
        },
        {
            "cell_type": "markdown",
            "source": [
                "## <span style=\"color: var(--vscode-foreground);\">Proposition 2: Top 5 Products by Monthly Sales Rank</span>\n",
                "\n",
                "**Functional Specification:**\n",
                "\n",
                "- **Objective:** To identify the top 5 best-selling products by quantity for each month of the last year, showing how product popularity shifts over time.\n",
                "- **End-User:** Marketing and Inventory Management teams.\n",
                "- **Business Value:** This reveals product seasonality and trends, allowing for smarter inventory planning and targeted marketing campaigns during peak months.\n",
                "- **AI Footnote:** Assistance was provided by Google's Gemini for brainstorming propositions, writing advanced SQL queries, and explaining the logic."
            ],
            "metadata": {
                "language": "sql",
                "azdata_cell_guid": "c5b89dfd-6367-4fa5-8f10-fb5bc9862711"
            },
            "attachments": {}
        },
        {
            "cell_type": "code",
            "source": [
                "WITH MonthlySales AS (\r\n",
                "    SELECT\r\n",
                "        d.[Calendar Month Label] AS SaleMonth,\r\n",
                "        si.[Stock Item],\r\n",
                "        SUM(s.Quantity) AS TotalQuantity,\r\n",
                "        DENSE_RANK() OVER(PARTITION BY d.[Calendar Month Label] ORDER BY SUM(s.Quantity) DESC) AS Rank\r\n",
                "    FROM Fact.Sale s\r\n",
                "    JOIN Dimension.[Stock Item] si ON s.[Stock Item Key] = si.[Stock Item Key]\r\n",
                "    JOIN Dimension.Date d ON s.[Invoice Date Key] = d.[Date]\r\n",
                "    WHERE d.[Calendar Year] = (SELECT MAX([Calendar Year]) FROM Dimension.Date WHERE [Date] < GETDATE())\r\n",
                "    GROUP BY d.[Calendar Month Label], si.[Stock Item]\r\n",
                ")\r\n",
                "SELECT\r\n",
                "    SaleMonth,\r\n",
                "    [Stock Item],\r\n",
                "    TotalQuantity,\r\n",
                "    Rank\r\n",
                "FROM MonthlySales\r\n",
                "WHERE Rank <= 5\r\n",
                "ORDER BY SaleMonth, Rank;"
            ],
            "metadata": {
                "azdata_cell_guid": "aa1935d0-2669-49c7-a85a-fcc5110b7029",
                "language": "sql"
            },
            "outputs": [
                {
                    "output_type": "display_data",
                    "data": {
                        "text/html": "(25 rows affected)"
                    },
                    "metadata": {}
                },
                {
                    "output_type": "display_data",
                    "data": {
                        "text/html": "Total execution time: 00:00:00.188"
                    },
                    "metadata": {}
                },
                {
                    "output_type": "execute_result",
                    "execution_count": 13,
                    "data": {
                        "application/vnd.dataresource+json": {
                            "schema": {
                                "fields": [
                                    {
                                        "name": "SaleMonth"
                                    },
                                    {
                                        "name": "Stock Item"
                                    },
                                    {
                                        "name": "TotalQuantity"
                                    },
                                    {
                                        "name": "Rank"
                                    }
                                ]
                            },
                            "data": [
                                {
                                    "SaleMonth": "CY2016-Apr",
                                    "Stock Item": "Shipping carton (Brown) 413x285x187mm",
                                    "TotalQuantity": "6900",
                                    "Rank": "1"
                                },
                                {
                                    "SaleMonth": "CY2016-Apr",
                                    "Stock Item": "Black and orange fragile despatch tape 48mmx75m",
                                    "TotalQuantity": "6336",
                                    "Rank": "2"
                                },
                                {
                                    "SaleMonth": "CY2016-Apr",
                                    "Stock Item": "Red and white urgent despatch tape 48mmx75m",
                                    "TotalQuantity": "5880",
                                    "Rank": "3"
                                },
                                {
                                    "SaleMonth": "CY2016-Apr",
                                    "Stock Item": "Clear packaging tape 48mmx75m",
                                    "TotalQuantity": "5070",
                                    "Rank": "4"
                                },
                                {
                                    "SaleMonth": "CY2016-Apr",
                                    "Stock Item": "Chocolate echidnas 250g",
                                    "TotalQuantity": "4488",
                                    "Rank": "5"
                                },
                                {
                                    "SaleMonth": "CY2016-Feb",
                                    "Stock Item": "Black and orange handle with care despatch tape  48mmx100m",
                                    "TotalQuantity": "4944",
                                    "Rank": "1"
                                },
                                {
                                    "SaleMonth": "CY2016-Feb",
                                    "Stock Item": "Black and orange fragile despatch tape 48mmx75m",
                                    "TotalQuantity": "4752",
                                    "Rank": "2"
                                },
                                {
                                    "SaleMonth": "CY2016-Feb",
                                    "Stock Item": "Shipping carton (Brown) 356x356x279mm",
                                    "TotalQuantity": "4350",
                                    "Rank": "3"
                                },
                                {
                                    "SaleMonth": "CY2016-Feb",
                                    "Stock Item": "Shipping carton (Brown) 229x229x229mm",
                                    "TotalQuantity": "4250",
                                    "Rank": "4"
                                },
                                {
                                    "SaleMonth": "CY2016-Feb",
                                    "Stock Item": "Chocolate beetles 250g",
                                    "TotalQuantity": "4224",
                                    "Rank": "5"
                                },
                                {
                                    "SaleMonth": "CY2016-Jan",
                                    "Stock Item": "Black and orange fragile despatch tape 48mmx100m",
                                    "TotalQuantity": "6372",
                                    "Rank": "1"
                                },
                                {
                                    "SaleMonth": "CY2016-Jan",
                                    "Stock Item": "Clear packaging tape 48mmx75m",
                                    "TotalQuantity": "5668",
                                    "Rank": "2"
                                },
                                {
                                    "SaleMonth": "CY2016-Jan",
                                    "Stock Item": "Black and orange fragile despatch tape 48mmx75m",
                                    "TotalQuantity": "5328",
                                    "Rank": "3"
                                },
                                {
                                    "SaleMonth": "CY2016-Jan",
                                    "Stock Item": "Shipping carton (Brown) 457x457x457mm",
                                    "TotalQuantity": "5150",
                                    "Rank": "4"
                                },
                                {
                                    "SaleMonth": "CY2016-Jan",
                                    "Stock Item": "Shipping carton (Brown) 279x254x217mm",
                                    "TotalQuantity": "5050",
                                    "Rank": "5"
                                },
                                {
                                    "SaleMonth": "CY2016-Mar",
                                    "Stock Item": "Black and orange fragile despatch tape 48mmx75m",
                                    "TotalQuantity": "5256",
                                    "Rank": "1"
                                },
                                {
                                    "SaleMonth": "CY2016-Mar",
                                    "Stock Item": "Express post box 5kg (White) 350x280x130mm",
                                    "TotalQuantity": "4775",
                                    "Rank": "2"
                                },
                                {
                                    "SaleMonth": "CY2016-Mar",
                                    "Stock Item": "Clear packaging tape 48mmx75m",
                                    "TotalQuantity": "4680",
                                    "Rank": "3"
                                },
                                {
                                    "SaleMonth": "CY2016-Mar",
                                    "Stock Item": "Shipping carton (Brown) 457x457x457mm",
                                    "TotalQuantity": "4675",
                                    "Rank": "4"
                                },
                                {
                                    "SaleMonth": "CY2016-Mar",
                                    "Stock Item": "Black and orange fragile despatch tape 48mmx100m",
                                    "TotalQuantity": "4572",
                                    "Rank": "5"
                                },
                                {
                                    "SaleMonth": "CY2016-May",
                                    "Stock Item": "Black and orange fragile despatch tape 48mmx100m",
                                    "TotalQuantity": "6552",
                                    "Rank": "1"
                                },
                                {
                                    "SaleMonth": "CY2016-May",
                                    "Stock Item": "Shipping carton (Brown) 356x229x229mm",
                                    "TotalQuantity": "5950",
                                    "Rank": "2"
                                },
                                {
                                    "SaleMonth": "CY2016-May",
                                    "Stock Item": "Chocolate beetles 250g",
                                    "TotalQuantity": "5592",
                                    "Rank": "3"
                                },
                                {
                                    "SaleMonth": "CY2016-May",
                                    "Stock Item": "Black and yellow heavy despatch tape 48mmx100m",
                                    "TotalQuantity": "5520",
                                    "Rank": "4"
                                },
                                {
                                    "SaleMonth": "CY2016-May",
                                    "Stock Item": "Shipping carton (Brown) 356x356x279mm",
                                    "TotalQuantity": "5475",
                                    "Rank": "5"
                                }
                            ]
                        },
                        "text/html": "<table><tr><th>SaleMonth</th><th>Stock Item</th><th>TotalQuantity</th><th>Rank</th></tr><tr><td>CY2016-Apr</td><td>Shipping carton (Brown) 413x285x187mm</td><td>6900</td><td>1</td></tr><tr><td>CY2016-Apr</td><td>Black and orange fragile despatch tape 48mmx75m</td><td>6336</td><td>2</td></tr><tr><td>CY2016-Apr</td><td>Red and white urgent despatch tape 48mmx75m</td><td>5880</td><td>3</td></tr><tr><td>CY2016-Apr</td><td>Clear packaging tape 48mmx75m</td><td>5070</td><td>4</td></tr><tr><td>CY2016-Apr</td><td>Chocolate echidnas 250g</td><td>4488</td><td>5</td></tr><tr><td>CY2016-Feb</td><td>Black and orange handle with care despatch tape  48mmx100m</td><td>4944</td><td>1</td></tr><tr><td>CY2016-Feb</td><td>Black and orange fragile despatch tape 48mmx75m</td><td>4752</td><td>2</td></tr><tr><td>CY2016-Feb</td><td>Shipping carton (Brown) 356x356x279mm</td><td>4350</td><td>3</td></tr><tr><td>CY2016-Feb</td><td>Shipping carton (Brown) 229x229x229mm</td><td>4250</td><td>4</td></tr><tr><td>CY2016-Feb</td><td>Chocolate beetles 250g</td><td>4224</td><td>5</td></tr><tr><td>CY2016-Jan</td><td>Black and orange fragile despatch tape 48mmx100m</td><td>6372</td><td>1</td></tr><tr><td>CY2016-Jan</td><td>Clear packaging tape 48mmx75m</td><td>5668</td><td>2</td></tr><tr><td>CY2016-Jan</td><td>Black and orange fragile despatch tape 48mmx75m</td><td>5328</td><td>3</td></tr><tr><td>CY2016-Jan</td><td>Shipping carton (Brown) 457x457x457mm</td><td>5150</td><td>4</td></tr><tr><td>CY2016-Jan</td><td>Shipping carton (Brown) 279x254x217mm</td><td>5050</td><td>5</td></tr><tr><td>CY2016-Mar</td><td>Black and orange fragile despatch tape 48mmx75m</td><td>5256</td><td>1</td></tr><tr><td>CY2016-Mar</td><td>Express post box 5kg (White) 350x280x130mm</td><td>4775</td><td>2</td></tr><tr><td>CY2016-Mar</td><td>Clear packaging tape 48mmx75m</td><td>4680</td><td>3</td></tr><tr><td>CY2016-Mar</td><td>Shipping carton (Brown) 457x457x457mm</td><td>4675</td><td>4</td></tr><tr><td>CY2016-Mar</td><td>Black and orange fragile despatch tape 48mmx100m</td><td>4572</td><td>5</td></tr><tr><td>CY2016-May</td><td>Black and orange fragile despatch tape 48mmx100m</td><td>6552</td><td>1</td></tr><tr><td>CY2016-May</td><td>Shipping carton (Brown) 356x229x229mm</td><td>5950</td><td>2</td></tr><tr><td>CY2016-May</td><td>Chocolate beetles 250g</td><td>5592</td><td>3</td></tr><tr><td>CY2016-May</td><td>Black and yellow heavy despatch tape 48mmx100m</td><td>5520</td><td>4</td></tr><tr><td>CY2016-May</td><td>Shipping carton (Brown) 356x356x279mm</td><td>5475</td><td>5</td></tr></table>"
                    },
                    "metadata": {}
                }
            ],
            "execution_count": 13
        },
        {
            "cell_type": "markdown",
            "source": [
                "## <span style=\"color: var(--vscode-foreground);\">Proposition 3: Sales Team Performance Against Company Average</span>\n",
                "\n",
                "Functional Specification:\n",
                "\n",
                "- **Objective:** To evaluate each salesperson's performance by comparing their average sale profit to the company's overall average sale profit.\n",
                "- **End-User:** Sales VPs and HR.\n",
                "- **Business Value:** Provides a fair, data-driven benchmark for employee performance reviews, helping to identify top performers for bonuses and team members who may need additional training.\n",
                "- **AI Footnote:** Assistance was provided by Google's Gemini for brainstorming propositions, writing advanced SQL queries, and explaining the logic."
            ],
            "metadata": {
                "azdata_cell_guid": "39dd701b-818e-465c-842b-d1eb4f46e7c6"
            },
            "attachments": {}
        },
        {
            "cell_type": "code",
            "source": [
                "-- Step 1: Calculate the overall average profit per sale across the entire company.\r\n",
                "DECLARE @CompanyAverageProfit DECIMAL(18, 2) = (SELECT AVG(Profit) FROM Fact.Sale);\r\n",
                "\r\n",
                "-- Step 2: Calculate each salesperson's metrics and compare to the company average.\r\n",
                "SELECT\r\n",
                "    e.Employee,\r\n",
                "    COUNT(s.[Sale Key]) AS NumberOfSales,\r\n",
                "    AVG(s.Profit) AS EmployeeAverageProfit,\r\n",
                "    @CompanyAverageProfit AS CompanyAverageProfit,\r\n",
                "    (AVG(s.Profit) - @CompanyAverageProfit) AS Variance\r\n",
                "FROM Fact.Sale s\r\n",
                "JOIN Dimension.Employee e ON s.[Salesperson Key] = e.[Employee Key]\r\n",
                "GROUP BY e.Employee\r\n",
                "ORDER BY Variance DESC;"
            ],
            "metadata": {
                "azdata_cell_guid": "ca3c7a65-9360-4506-9276-80e5585894f6",
                "language": "sql"
            },
            "outputs": [
                {
                    "output_type": "display_data",
                    "data": {
                        "text/html": "(10 rows affected)"
                    },
                    "metadata": {}
                },
                {
                    "output_type": "display_data",
                    "data": {
                        "text/html": "Total execution time: 00:00:04.586"
                    },
                    "metadata": {}
                },
                {
                    "output_type": "execute_result",
                    "execution_count": 3,
                    "data": {
                        "application/vnd.dataresource+json": {
                            "schema": {
                                "fields": [
                                    {
                                        "name": "Employee"
                                    },
                                    {
                                        "name": "NumberOfSales"
                                    },
                                    {
                                        "name": "EmployeeAverageProfit"
                                    },
                                    {
                                        "name": "CompanyAverageProfit"
                                    },
                                    {
                                        "name": "Variance"
                                    }
                                ]
                            },
                            "data": [
                                {
                                    "Employee": "Archer Lamble",
                                    "NumberOfSales": "23331",
                                    "EmployeeAverageProfit": "383.785587",
                                    "CompanyAverageProfit": "375.57",
                                    "Variance": "8.215587"
                                },
                                {
                                    "Employee": "Hudson Onslow",
                                    "NumberOfSales": "22681",
                                    "EmployeeAverageProfit": "382.361564",
                                    "CompanyAverageProfit": "375.57",
                                    "Variance": "6.791564"
                                },
                                {
                                    "Employee": "Kayla Woodcock",
                                    "NumberOfSales": "23079",
                                    "EmployeeAverageProfit": "378.221296",
                                    "CompanyAverageProfit": "375.57",
                                    "Variance": "2.651296"
                                },
                                {
                                    "Employee": "Lily Code",
                                    "NumberOfSales": "22642",
                                    "EmployeeAverageProfit": "376.732342",
                                    "CompanyAverageProfit": "375.57",
                                    "Variance": "1.162342"
                                },
                                {
                                    "Employee": "Taj Shand",
                                    "NumberOfSales": "22975",
                                    "EmployeeAverageProfit": "374.907621",
                                    "CompanyAverageProfit": "375.57",
                                    "Variance": "-0.662379"
                                },
                                {
                                    "Employee": "Jack Potter",
                                    "NumberOfSales": "22784",
                                    "EmployeeAverageProfit": "373.321341",
                                    "CompanyAverageProfit": "375.57",
                                    "Variance": "-2.248659"
                                },
                                {
                                    "Employee": "Hudson Hollinworth",
                                    "NumberOfSales": "22902",
                                    "EmployeeAverageProfit": "373.274452",
                                    "CompanyAverageProfit": "375.57",
                                    "Variance": "-2.295548"
                                },
                                {
                                    "Employee": "Sophia Hinton",
                                    "NumberOfSales": "22906",
                                    "EmployeeAverageProfit": "372.689317",
                                    "CompanyAverageProfit": "375.57",
                                    "Variance": "-2.880683"
                                },
                                {
                                    "Employee": "Amy Trefl",
                                    "NumberOfSales": "22444",
                                    "EmployeeAverageProfit": "371.730703",
                                    "CompanyAverageProfit": "375.57",
                                    "Variance": "-3.839297"
                                },
                                {
                                    "Employee": "Anthony Grosse",
                                    "NumberOfSales": "22521",
                                    "EmployeeAverageProfit": "368.361118",
                                    "CompanyAverageProfit": "375.57",
                                    "Variance": "-7.208882"
                                }
                            ]
                        },
                        "text/html": "<table><tr><th>Employee</th><th>NumberOfSales</th><th>EmployeeAverageProfit</th><th>CompanyAverageProfit</th><th>Variance</th></tr><tr><td>Archer Lamble</td><td>23331</td><td>383.785587</td><td>375.57</td><td>8.215587</td></tr><tr><td>Hudson Onslow</td><td>22681</td><td>382.361564</td><td>375.57</td><td>6.791564</td></tr><tr><td>Kayla Woodcock</td><td>23079</td><td>378.221296</td><td>375.57</td><td>2.651296</td></tr><tr><td>Lily Code</td><td>22642</td><td>376.732342</td><td>375.57</td><td>1.162342</td></tr><tr><td>Taj Shand</td><td>22975</td><td>374.907621</td><td>375.57</td><td>-0.662379</td></tr><tr><td>Jack Potter</td><td>22784</td><td>373.321341</td><td>375.57</td><td>-2.248659</td></tr><tr><td>Hudson Hollinworth</td><td>22902</td><td>373.274452</td><td>375.57</td><td>-2.295548</td></tr><tr><td>Sophia Hinton</td><td>22906</td><td>372.689317</td><td>375.57</td><td>-2.880683</td></tr><tr><td>Amy Trefl</td><td>22444</td><td>371.730703</td><td>375.57</td><td>-3.839297</td></tr><tr><td>Anthony Grosse</td><td>22521</td><td>368.361118</td><td>375.57</td><td>-7.208882</td></tr></table>"
                    },
                    "metadata": {}
                }
            ],
            "execution_count": 3
        },
        {
            "cell_type": "markdown",
            "source": [
                "## <span style=\"color: var(--vscode-foreground);\">Proposition 4: Customer Segmentation by Purchase Behavior (RFM)</span>\n",
                "\n",
                "**Functional Specification:**\n",
                "\n",
                "- **Objective:** To segment customers into 'High-Value', 'At-Risk', and 'New' categories based on Recency, Frequency, and Monetary value.\n",
                "- **End-User:** Marketing and Customer Relationship Management (CRM) teams.\n",
                "- **Business Value:** Enables highly targeted marketing campaigns: loyalty rewards for high-value customers, re-engagement campaigns for at-risk customers, and welcome offers for new ones, maximizing marketing ROI.\n",
                "- **AI Footnote:** Assistance was provided by Google's Gemini for brainstorming propositions, writing advanced SQL queries, and explaining the logic."
            ],
            "metadata": {
                "azdata_cell_guid": "afad3e1c-eacb-4580-9f88-0be123291a71"
            },
            "attachments": {}
        },
        {
            "cell_type": "code",
            "source": [
                "WITH CustomerRFM AS (\r\n",
                "    -- Step 1: Calculate Recency, Frequency, and Monetary values for each customer.\r\n",
                "    SELECT\r\n",
                "        c.Customer,\r\n",
                "        MAX(s.[Invoice Date Key]) AS LastPurchaseDate,\r\n",
                "        DATEDIFF(day, MAX(s.[Invoice Date Key]), GETDATE()) AS Recency,\r\n",
                "        COUNT(DISTINCT s.[Sale Key]) AS Frequency,\r\n",
                "        SUM(s.[Total Including Tax]) AS Monetary\r\n",
                "    FROM Fact.Sale s\r\n",
                "    JOIN Dimension.Customer c ON s.[Customer Key] = c.[Customer Key]\r\n",
                "    GROUP BY c.Customer\r\n",
                ")\r\n",
                "-- Step 2: Assign a segment based on the calculated RFM values.\r\n",
                "SELECT\r\n",
                "    Customer,\r\n",
                "    Recency,\r\n",
                "    Frequency,\r\n",
                "    Monetary,\r\n",
                "    CASE\r\n",
                "        WHEN Recency <= 60 AND Frequency >= 5 AND Monetary >= 5000 THEN 'High-Value Customer'\r\n",
                "        WHEN Recency > 180 AND Frequency < 3 THEN 'At-Risk Customer'\r\n",
                "        WHEN Recency <= 30 AND Frequency = 1 THEN 'New Customer'\r\n",
                "        ELSE 'Regular Customer'\r\n",
                "    END AS CustomerSegment\r\n",
                "FROM CustomerRFM\r\n",
                "ORDER BY Monetary DESC;"
            ],
            "metadata": {
                "azdata_cell_guid": "38baf48e-dbde-41f4-81c7-bebbce853aaa",
                "language": "sql"
            },
            "outputs": [
                {
                    "output_type": "display_data",
                    "data": {
                        "text/html": "(403 rows affected)"
                    },
                    "metadata": {}
                },
                {
                    "output_type": "display_data",
                    "data": {
                        "text/html": "Total execution time: 00:00:02.163"
                    },
                    "metadata": {}
                },
                {
                    "output_type": "execute_result",
                    "execution_count": 4,
                    "data": {
                        "application/vnd.dataresource+json": {
                            "schema": {
                                "fields": [
                                    {
                                        "name": "Customer"
                                    },
                                    {
                                        "name": "Recency"
                                    },
                                    {
                                        "name": "Frequency"
                                    },
                                    {
                                        "name": "Monetary"
                                    },
                                    {
                                        "name": "CustomerSegment"
                                    }
                                ]
                            },
                            "data": [
                                {
                                    "Customer": "Unknown",
                                    "Recency": "3405",
                                    "Frequency": "84297",
                                    "Monetary": "73037043.78",
                                    "CustomerSegment": "Regular Customer"
                                },
                                {
                                    "Customer": "Tailspin Toys (Inguadona, MN)",
                                    "Recency": "3412",
                                    "Frequency": "434",
                                    "Monetary": "438689.81",
                                    "CustomerSegment": "Regular Customer"
                                },
                                {
                                    "Customer": "Tailspin Toys (Minidoka, ID)",
                                    "Recency": "3410",
                                    "Frequency": "419",
                                    "Monetary": "427445.57",
                                    "CustomerSegment": "Regular Customer"
                                },
                                {
                                    "Customer": "Wingtip Toys (Sarversville, PA)",
                                    "Recency": "3430",
                                    "Frequency": "432",
                                    "Monetary": "420001.08",
                                    "CustomerSegment": "Regular Customer"
                                },
                                {
                                    "Customer": "Tailspin Toys (Long Meadow, MD)",
                                    "Recency": "3406",
                                    "Frequency": "392",
                                    "Monetary": "414934.18",
                                    "CustomerSegment": "Regular Customer"
                                },
                                {
                                    "Customer": "Wingtip Toys (San Jacinto, CA)",
                                    "Recency": "3412",
                                    "Frequency": "398",
                                    "Monetary": "408524.95",
                                    "CustomerSegment": "Regular Customer"
                                },
                                {
                                    "Customer": "Wingtip Toys (Cuyamungue, NM)",
                                    "Recency": "3408",
                                    "Frequency": "401",
                                    "Monetary": "405824.67",
                                    "CustomerSegment": "Regular Customer"
                                },
                                {
                                    "Customer": "Wingtip Toys (Morrison Bluff, AR)",
                                    "Recency": "3412",
                                    "Frequency": "368",
                                    "Monetary": "404945.65",
                                    "CustomerSegment": "Regular Customer"
                                },
                                {
                                    "Customer": "Wingtip Toys (Grabill, IN)",
                                    "Recency": "3406",
                                    "Frequency": "389",
                                    "Monetary": "403635.05",
                                    "CustomerSegment": "Regular Customer"
                                },
                                {
                                    "Customer": "Wingtip Toys (West Frostproof, FL)",
                                    "Recency": "3409",
                                    "Frequency": "436",
                                    "Monetary": "398563.46",
                                    "CustomerSegment": "Regular Customer"
                                },
                                {
                                    "Customer": "Tailspin Toys (Fieldbrook, CA)",
                                    "Recency": "3408",
                                    "Frequency": "405",
                                    "Monetary": "395482.71",
                                    "CustomerSegment": "Regular Customer"
                                },
                                {
                                    "Customer": "Wingtip Toys (Wapinitia, OR)",
                                    "Recency": "3417",
                                    "Frequency": "372",
                                    "Monetary": "394690.76",
                                    "CustomerSegment": "Regular Customer"
                                },
                                {
                                    "Customer": "Tailspin Toys (Vidrine, LA)",
                                    "Recency": "3406",
                                    "Frequency": "455",
                                    "Monetary": "391035.18",
                                    "CustomerSegment": "Regular Customer"
                                },
                                {
                                    "Customer": "Tailspin Toys (Maypearl, TX)",
                                    "Recency": "3412",
                                    "Frequency": "436",
                                    "Monetary": "390598.17",
                                    "CustomerSegment": "Regular Customer"
                                },
                                {
                                    "Customer": "Tailspin Toys (Good Hart, MI)",
                                    "Recency": "3406",
                                    "Frequency": "399",
                                    "Monetary": "390560.21",
                                    "CustomerSegment": "Regular Customer"
                                },
                                {
                                    "Customer": "Tailspin Toys (Buell, MO)",
                                    "Recency": "3405",
                                    "Frequency": "401",
                                    "Monetary": "388351.75",
                                    "CustomerSegment": "Regular Customer"
                                },
                                {
                                    "Customer": "Wingtip Toys (Wapiti, WY)",
                                    "Recency": "3417",
                                    "Frequency": "389",
                                    "Monetary": "386677.73",
                                    "CustomerSegment": "Regular Customer"
                                },
                                {
                                    "Customer": "Wingtip Toys (Key Biscayne, FL)",
                                    "Recency": "3412",
                                    "Frequency": "441",
                                    "Monetary": "385311.61",
                                    "CustomerSegment": "Regular Customer"
                                },
                                {
                                    "Customer": "Tailspin Toys (Sentinel Butte, ND)",
                                    "Recency": "3413",
                                    "Frequency": "415",
                                    "Monetary": "385215.57",
                                    "CustomerSegment": "Regular Customer"
                                },
                                {
                                    "Customer": "Tailspin Toys (Big Moose, NY)",
                                    "Recency": "3409",
                                    "Frequency": "369",
                                    "Monetary": "384621.35",
                                    "CustomerSegment": "Regular Customer"
                                },
                                {
                                    "Customer": "Wingtip Toys (Mickleton, NJ)",
                                    "Recency": "3411",
                                    "Frequency": "404",
                                    "Monetary": "382238.57",
                                    "CustomerSegment": "Regular Customer"
                                },
                                {
                                    "Customer": "Wingtip Toys (Bourneville, OH)",
                                    "Recency": "3409",
                                    "Frequency": "428",
                                    "Monetary": "382043.60",
                                    "CustomerSegment": "Regular Customer"
                                },
                                {
                                    "Customer": "Wingtip Toys (Stoneboro, PA)",
                                    "Recency": "3416",
                                    "Frequency": "363",
                                    "Monetary": "381784.52",
                                    "CustomerSegment": "Regular Customer"
                                },
                                {
                                    "Customer": "Wingtip Toys (Lynne, FL)",
                                    "Recency": "3405",
                                    "Frequency": "406",
                                    "Monetary": "377617.88",
                                    "CustomerSegment": "Regular Customer"
                                },
                                {
                                    "Customer": "Wingtip Toys (Bokeelia, FL)",
                                    "Recency": "3409",
                                    "Frequency": "375",
                                    "Monetary": "377580.50",
                                    "CustomerSegment": "Regular Customer"
                                },
                                {
                                    "Customer": "Wingtip Toys (Homer City, PA)",
                                    "Recency": "3409",
                                    "Frequency": "362",
                                    "Monetary": "377528.39",
                                    "CustomerSegment": "Regular Customer"
                                },
                                {
                                    "Customer": "Wingtip Toys (Truscott, TX)",
                                    "Recency": "3408",
                                    "Frequency": "383",
                                    "Monetary": "377395.35",
                                    "CustomerSegment": "Regular Customer"
                                },
                                {
                                    "Customer": "Wingtip Toys (Haycock, AK)",
                                    "Recency": "3410",
                                    "Frequency": "406",
                                    "Monetary": "377386.35",
                                    "CustomerSegment": "Regular Customer"
                                },
                                {
                                    "Customer": "Tailspin Toys (Cheyenne Wells, CO)",
                                    "Recency": "3416",
                                    "Frequency": "381",
                                    "Monetary": "376640.75",
                                    "CustomerSegment": "Regular Customer"
                                },
                                {
                                    "Customer": "Wingtip Toys (Knights Landing, CA)",
                                    "Recency": "3417",
                                    "Frequency": "412",
                                    "Monetary": "376499.05",
                                    "CustomerSegment": "Regular Customer"
                                },
                                {
                                    "Customer": "Wingtip Toys (Oak Point, TX)",
                                    "Recency": "3432",
                                    "Frequency": "387",
                                    "Monetary": "376167.20",
                                    "CustomerSegment": "Regular Customer"
                                },
                                {
                                    "Customer": "Tailspin Toys (North Cowden, TX)",
                                    "Recency": "3409",
                                    "Frequency": "359",
                                    "Monetary": "376046.24",
                                    "CustomerSegment": "Regular Customer"
                                },
                                {
                                    "Customer": "Tailspin Toys (Airport Drive, MO)",
                                    "Recency": "3418",
                                    "Frequency": "404",
                                    "Monetary": "374738.45",
                                    "CustomerSegment": "Regular Customer"
                                },
                                {
                                    "Customer": "Tailspin Toys (Frankewing, TN)",
                                    "Recency": "3409",
                                    "Frequency": "412",
                                    "Monetary": "374228.14",
                                    "CustomerSegment": "Regular Customer"
                                },
                                {
                                    "Customer": "Tailspin Toys (Lesslie, SC)",
                                    "Recency": "3405",
                                    "Frequency": "428",
                                    "Monetary": "374025.99",
                                    "CustomerSegment": "Regular Customer"
                                },
                                {
                                    "Customer": "Tailspin Toys (Eastchester, NY)",
                                    "Recency": "3410",
                                    "Frequency": "372",
                                    "Monetary": "372438.38",
                                    "CustomerSegment": "Regular Customer"
                                },
                                {
                                    "Customer": "Tailspin Toys (Placer, OR)",
                                    "Recency": "3410",
                                    "Frequency": "396",
                                    "Monetary": "369625.73",
                                    "CustomerSegment": "Regular Customer"
                                },
                                {
                                    "Customer": "Tailspin Toys (Bethania, NC)",
                                    "Recency": "3416",
                                    "Frequency": "382",
                                    "Monetary": "369409.86",
                                    "CustomerSegment": "Regular Customer"
                                },
                                {
                                    "Customer": "Tailspin Toys (Impact, TX)",
                                    "Recency": "3410",
                                    "Frequency": "340",
                                    "Monetary": "369338.58",
                                    "CustomerSegment": "Regular Customer"
                                },
                                {
                                    "Customer": "Wingtip Toys (Sayner, WI)",
                                    "Recency": "3406",
                                    "Frequency": "371",
                                    "Monetary": "368777.21",
                                    "CustomerSegment": "Regular Customer"
                                },
                                {
                                    "Customer": "Tailspin Toys (Brown City, MI)",
                                    "Recency": "3408",
                                    "Frequency": "357",
                                    "Monetary": "368097.01",
                                    "CustomerSegment": "Regular Customer"
                                },
                                {
                                    "Customer": "Tailspin Toys (New Lexington, OH)",
                                    "Recency": "3409",
                                    "Frequency": "344",
                                    "Monetary": "367622.71",
                                    "CustomerSegment": "Regular Customer"
                                },
                                {
                                    "Customer": "Wingtip Toys (Jamison, IA)",
                                    "Recency": "3409",
                                    "Frequency": "419",
                                    "Monetary": "367040.48",
                                    "CustomerSegment": "Regular Customer"
                                },
                                {
                                    "Customer": "Wingtip Toys (Omer, MI)",
                                    "Recency": "3406",
                                    "Frequency": "401",
                                    "Monetary": "366127.15",
                                    "CustomerSegment": "Regular Customer"
                                },
                                {
                                    "Customer": "Wingtip Toys (North Beach Haven, NJ)",
                                    "Recency": "3410",
                                    "Frequency": "386",
                                    "Monetary": "365790.58",
                                    "CustomerSegment": "Regular Customer"
                                },
                                {
                                    "Customer": "Wingtip Toys (Rich Creek, VA)",
                                    "Recency": "3423",
                                    "Frequency": "403",
                                    "Monetary": "365339.16",
                                    "CustomerSegment": "Regular Customer"
                                },
                                {
                                    "Customer": "Wingtip Toys (Montoya, NM)",
                                    "Recency": "3405",
                                    "Frequency": "350",
                                    "Monetary": "365166.20",
                                    "CustomerSegment": "Regular Customer"
                                },
                                {
                                    "Customer": "Tailspin Toys (Victory Gardens, NJ)",
                                    "Recency": "3406",
                                    "Frequency": "395",
                                    "Monetary": "364572.69",
                                    "CustomerSegment": "Regular Customer"
                                },
                                {
                                    "Customer": "Tailspin Toys (Wimbledon, ND)",
                                    "Recency": "3412",
                                    "Frequency": "385",
                                    "Monetary": "364562.07",
                                    "CustomerSegment": "Regular Customer"
                                },
                                {
                                    "Customer": "Wingtip Toys (Kapa'a, HI)",
                                    "Recency": "3410",
                                    "Frequency": "416",
                                    "Monetary": "364314.77",
                                    "CustomerSegment": "Regular Customer"
                                },
                                {
                                    "Customer": "Wingtip Toys (Plaquemine, LA)",
                                    "Recency": "3410",
                                    "Frequency": "381",
                                    "Monetary": "364250.40",
                                    "CustomerSegment": "Regular Customer"
                                },
                                {
                                    "Customer": "Tailspin Toys (Hayes Center, NE)",
                                    "Recency": "3412",
                                    "Frequency": "359",
                                    "Monetary": "363726.13",
                                    "CustomerSegment": "Regular Customer"
                                },
                                {
                                    "Customer": "Tailspin Toys (Lake Erie Beach, NY)",
                                    "Recency": "3419",
                                    "Frequency": "403",
                                    "Monetary": "363303.29",
                                    "CustomerSegment": "Regular Customer"
                                },
                                {
                                    "Customer": "Wingtip Toys (Leathersville, GA)",
                                    "Recency": "3412",
                                    "Frequency": "328",
                                    "Monetary": "363089.82",
                                    "CustomerSegment": "Regular Customer"
                                },
                                {
                                    "Customer": "Wingtip Toys (Connoquenessing, PA)",
                                    "Recency": "3408",
                                    "Frequency": "380",
                                    "Monetary": "363009.39",
                                    "CustomerSegment": "Regular Customer"
                                },
                                {
                                    "Customer": "Wingtip Toys (Indian Creek, IL)",
                                    "Recency": "3406",
                                    "Frequency": "399",
                                    "Monetary": "362088.90",
                                    "CustomerSegment": "Regular Customer"
                                },
                                {
                                    "Customer": "Tailspin Toys (Sekiu, WA)",
                                    "Recency": "3420",
                                    "Frequency": "432",
                                    "Monetary": "361979.92",
                                    "CustomerSegment": "Regular Customer"
                                },
                                {
                                    "Customer": "Tailspin Toys (South Laguna, CA)",
                                    "Recency": "3405",
                                    "Frequency": "314",
                                    "Monetary": "361850.63",
                                    "CustomerSegment": "Regular Customer"
                                },
                                {
                                    "Customer": "Tailspin Toys (North Crows Nest, IN)",
                                    "Recency": "3417",
                                    "Frequency": "443",
                                    "Monetary": "360914.78",
                                    "CustomerSegment": "Regular Customer"
                                },
                                {
                                    "Customer": "Tailspin Toys (Optimo, NM)",
                                    "Recency": "3413",
                                    "Frequency": "332",
                                    "Monetary": "360861.94",
                                    "CustomerSegment": "Regular Customer"
                                },
                                {
                                    "Customer": "Wingtip Toys (Deeson, MS)",
                                    "Recency": "3409",
                                    "Frequency": "363",
                                    "Monetary": "360103.50",
                                    "CustomerSegment": "Regular Customer"
                                },
                                {
                                    "Customer": "Wingtip Toys (Lilbourn, MO)",
                                    "Recency": "3413",
                                    "Frequency": "397",
                                    "Monetary": "359996.12",
                                    "CustomerSegment": "Regular Customer"
                                },
                                {
                                    "Customer": "Wingtip Toys (Harkers Island, NC)",
                                    "Recency": "3410",
                                    "Frequency": "429",
                                    "Monetary": "359784.28",
                                    "CustomerSegment": "Regular Customer"
                                },
                                {
                                    "Customer": "Wingtip Toys (Islip Terrace, NY)",
                                    "Recency": "3417",
                                    "Frequency": "396",
                                    "Monetary": "359677.39",
                                    "CustomerSegment": "Regular Customer"
                                },
                                {
                                    "Customer": "Wingtip Toys (Schererville, IN)",
                                    "Recency": "3422",
                                    "Frequency": "368",
                                    "Monetary": "359277.98",
                                    "CustomerSegment": "Regular Customer"
                                },
                                {
                                    "Customer": "Tailspin Toys (Guin, AL)",
                                    "Recency": "3425",
                                    "Frequency": "377",
                                    "Monetary": "358399.39",
                                    "CustomerSegment": "Regular Customer"
                                },
                                {
                                    "Customer": "Wingtip Toys (Lake Ronkonkoma, NY)",
                                    "Recency": "3406",
                                    "Frequency": "366",
                                    "Monetary": "356657.01",
                                    "CustomerSegment": "Regular Customer"
                                },
                                {
                                    "Customer": "Tailspin Toys (Furley, KS)",
                                    "Recency": "3409",
                                    "Frequency": "402",
                                    "Monetary": "356016.92",
                                    "CustomerSegment": "Regular Customer"
                                },
                                {
                                    "Customer": "Wingtip Toys (Lime Lake, NY)",
                                    "Recency": "3425",
                                    "Frequency": "365",
                                    "Monetary": "355264.71",
                                    "CustomerSegment": "Regular Customer"
                                },
                                {
                                    "Customer": "Wingtip Toys (Bourbonnais, IL)",
                                    "Recency": "3416",
                                    "Frequency": "416",
                                    "Monetary": "354217.86",
                                    "CustomerSegment": "Regular Customer"
                                },
                                {
                                    "Customer": "Wingtip Toys (Tuscaloosa, AL)",
                                    "Recency": "3405",
                                    "Frequency": "371",
                                    "Monetary": "353773.73",
                                    "CustomerSegment": "Regular Customer"
                                },
                                {
                                    "Customer": "Tailspin Toys (Peeples Valley, AZ)",
                                    "Recency": "3406",
                                    "Frequency": "437",
                                    "Monetary": "353580.24",
                                    "CustomerSegment": "Regular Customer"
                                },
                                {
                                    "Customer": "Wingtip Toys (Queen Valley, AZ)",
                                    "Recency": "3429",
                                    "Frequency": "385",
                                    "Monetary": "353508.71",
                                    "CustomerSegment": "Regular Customer"
                                },
                                {
                                    "Customer": "Tailspin Toys (Malott, WA)",
                                    "Recency": "3419",
                                    "Frequency": "357",
                                    "Monetary": "353095.22",
                                    "CustomerSegment": "Regular Customer"
                                },
                                {
                                    "Customer": "Tailspin Toys (Orrtanna, PA)",
                                    "Recency": "3406",
                                    "Frequency": "387",
                                    "Monetary": "353049.60",
                                    "CustomerSegment": "Regular Customer"
                                },
                                {
                                    "Customer": "Tailspin Toys (Bowlus, MN)",
                                    "Recency": "3411",
                                    "Frequency": "383",
                                    "Monetary": "352843.77",
                                    "CustomerSegment": "Regular Customer"
                                },
                                {
                                    "Customer": "Tailspin Toys (Devault, PA)",
                                    "Recency": "3405",
                                    "Frequency": "366",
                                    "Monetary": "352584.97",
                                    "CustomerSegment": "Regular Customer"
                                },
                                {
                                    "Customer": "Tailspin Toys (Sauquoit, NY)",
                                    "Recency": "3405",
                                    "Frequency": "340",
                                    "Monetary": "351615.27",
                                    "CustomerSegment": "Regular Customer"
                                },
                                {
                                    "Customer": "Wingtip Toys (Tea, SD)",
                                    "Recency": "3406",
                                    "Frequency": "350",
                                    "Monetary": "351596.69",
                                    "CustomerSegment": "Regular Customer"
                                },
                                {
                                    "Customer": "Tailspin Toys (Head Office)",
                                    "Recency": "3409",
                                    "Frequency": "406",
                                    "Monetary": "351298.08",
                                    "CustomerSegment": "Regular Customer"
                                },
                                {
                                    "Customer": "Wingtip Toys (Lake Davis, CA)",
                                    "Recency": "3420",
                                    "Frequency": "383",
                                    "Monetary": "351162.24",
                                    "CustomerSegment": "Regular Customer"
                                },
                                {
                                    "Customer": "Tailspin Toys (Upper Preston, WA)",
                                    "Recency": "3423",
                                    "Frequency": "348",
                                    "Monetary": "350717.35",
                                    "CustomerSegment": "Regular Customer"
                                },
                                {
                                    "Customer": "Tailspin Toys (Marcell, MN)",
                                    "Recency": "3406",
                                    "Frequency": "355",
                                    "Monetary": "349244.26",
                                    "CustomerSegment": "Regular Customer"
                                },
                                {
                                    "Customer": "Tailspin Toys (Kerby, OR)",
                                    "Recency": "3417",
                                    "Frequency": "386",
                                    "Monetary": "348995.70",
                                    "CustomerSegment": "Regular Customer"
                                },
                                {
                                    "Customer": "Tailspin Toys (South La Paloma, TX)",
                                    "Recency": "3418",
                                    "Frequency": "342",
                                    "Monetary": "348057.19",
                                    "CustomerSegment": "Regular Customer"
                                },
                                {
                                    "Customer": "Wingtip Toys (Lost River, ID)",
                                    "Recency": "3416",
                                    "Frequency": "379",
                                    "Monetary": "347517.39",
                                    "CustomerSegment": "Regular Customer"
                                },
                                {
                                    "Customer": "Wingtip Toys (Bonner Springs, KS)",
                                    "Recency": "3417",
                                    "Frequency": "387",
                                    "Monetary": "347382.60",
                                    "CustomerSegment": "Regular Customer"
                                },
                                {
                                    "Customer": "Wingtip Toys (Bruceton Mills, WV)",
                                    "Recency": "3424",
                                    "Frequency": "400",
                                    "Monetary": "346417.36",
                                    "CustomerSegment": "Regular Customer"
                                },
                                {
                                    "Customer": "Tailspin Toys (Vassalboro, ME)",
                                    "Recency": "3422",
                                    "Frequency": "407",
                                    "Monetary": "345756.89",
                                    "CustomerSegment": "Regular Customer"
                                },
                                {
                                    "Customer": "Wingtip Toys (Pikeview, CO)",
                                    "Recency": "3411",
                                    "Frequency": "361",
                                    "Monetary": "345740.44",
                                    "CustomerSegment": "Regular Customer"
                                },
                                {
                                    "Customer": "Wingtip Toys (Accomac, VA)",
                                    "Recency": "3406",
                                    "Frequency": "368",
                                    "Monetary": "345606.29",
                                    "CustomerSegment": "Regular Customer"
                                },
                                {
                                    "Customer": "Wingtip Toys (Branson West, MO)",
                                    "Recency": "3417",
                                    "Frequency": "358",
                                    "Monetary": "345198.81",
                                    "CustomerSegment": "Regular Customer"
                                },
                                {
                                    "Customer": "Wingtip Toys (Bernstein, TX)",
                                    "Recency": "3412",
                                    "Frequency": "410",
                                    "Monetary": "344705.87",
                                    "CustomerSegment": "Regular Customer"
                                },
                                {
                                    "Customer": "Tailspin Toys (Navassa, NC)",
                                    "Recency": "3417",
                                    "Frequency": "385",
                                    "Monetary": "344491.34",
                                    "CustomerSegment": "Regular Customer"
                                },
                                {
                                    "Customer": "Tailspin Toys (Koontzville, WA)",
                                    "Recency": "3437",
                                    "Frequency": "382",
                                    "Monetary": "344272.38",
                                    "CustomerSegment": "Regular Customer"
                                },
                                {
                                    "Customer": "Tailspin Toys (Medicine Lodge, KS)",
                                    "Recency": "3438",
                                    "Frequency": "316",
                                    "Monetary": "343935.50",
                                    "CustomerSegment": "Regular Customer"
                                },
                                {
                                    "Customer": "Tailspin Toys (El Centro, CA)",
                                    "Recency": "3416",
                                    "Frequency": "358",
                                    "Monetary": "343710.19",
                                    "CustomerSegment": "Regular Customer"
                                },
                                {
                                    "Customer": "Tailspin Toys (Belgreen, AL)",
                                    "Recency": "3410",
                                    "Frequency": "339",
                                    "Monetary": "343597.84",
                                    "CustomerSegment": "Regular Customer"
                                },
                                {
                                    "Customer": "Wingtip Toys (Taft Heights, CA)",
                                    "Recency": "3415",
                                    "Frequency": "345",
                                    "Monetary": "342952.98",
                                    "CustomerSegment": "Regular Customer"
                                },
                                {
                                    "Customer": "Tailspin Toys (Armstrong Creek, WI)",
                                    "Recency": "3433",
                                    "Frequency": "380",
                                    "Monetary": "342817.06",
                                    "CustomerSegment": "Regular Customer"
                                },
                                {
                                    "Customer": "Tailspin Toys (McCamey, TX)",
                                    "Recency": "3405",
                                    "Frequency": "384",
                                    "Monetary": "342660.42",
                                    "CustomerSegment": "Regular Customer"
                                },
                                {
                                    "Customer": "Wingtip Toys (Trout Run, PA)",
                                    "Recency": "3416",
                                    "Frequency": "365",
                                    "Monetary": "342348.20",
                                    "CustomerSegment": "Regular Customer"
                                },
                                {
                                    "Customer": "Tailspin Toys (Gum Branch, GA)",
                                    "Recency": "3416",
                                    "Frequency": "356",
                                    "Monetary": "342296.13",
                                    "CustomerSegment": "Regular Customer"
                                },
                                {
                                    "Customer": "Tailspin Toys (Batson, TX)",
                                    "Recency": "3453",
                                    "Frequency": "386",
                                    "Monetary": "340960.65",
                                    "CustomerSegment": "Regular Customer"
                                },
                                {
                                    "Customer": "Wingtip Toys (Mier, IN)",
                                    "Recency": "3406",
                                    "Frequency": "390",
                                    "Monetary": "340812.79",
                                    "CustomerSegment": "Regular Customer"
                                },
                                {
                                    "Customer": "Wingtip Toys (Port Hueneme, CA)",
                                    "Recency": "3408",
                                    "Frequency": "358",
                                    "Monetary": "340110.98",
                                    "CustomerSegment": "Regular Customer"
                                },
                                {
                                    "Customer": "Wingtip Toys (Idaho City, ID)",
                                    "Recency": "3411",
                                    "Frequency": "380",
                                    "Monetary": "340076.79",
                                    "CustomerSegment": "Regular Customer"
                                },
                                {
                                    "Customer": "Tailspin Toys (Tierra Verde, FL)",
                                    "Recency": "3409",
                                    "Frequency": "415",
                                    "Monetary": "340017.19",
                                    "CustomerSegment": "Regular Customer"
                                },
                                {
                                    "Customer": "Tailspin Toys (Coney Island, MO)",
                                    "Recency": "3409",
                                    "Frequency": "411",
                                    "Monetary": "339739.14",
                                    "CustomerSegment": "Regular Customer"
                                },
                                {
                                    "Customer": "Wingtip Toys (Mayhill, NM)",
                                    "Recency": "3415",
                                    "Frequency": "379",
                                    "Monetary": "339530.83",
                                    "CustomerSegment": "Regular Customer"
                                },
                                {
                                    "Customer": "Tailspin Toys (Tolna, ND)",
                                    "Recency": "3405",
                                    "Frequency": "443",
                                    "Monetary": "338962.74",
                                    "CustomerSegment": "Regular Customer"
                                },
                                {
                                    "Customer": "Tailspin Toys (Tavares, FL)",
                                    "Recency": "3427",
                                    "Frequency": "366",
                                    "Monetary": "338676.11",
                                    "CustomerSegment": "Regular Customer"
                                },
                                {
                                    "Customer": "Wingtip Toys (Isabela, PR)",
                                    "Recency": "3405",
                                    "Frequency": "365",
                                    "Monetary": "338074.33",
                                    "CustomerSegment": "Regular Customer"
                                },
                                {
                                    "Customer": "Wingtip Toys (Plum Branch, SC)",
                                    "Recency": "3411",
                                    "Frequency": "398",
                                    "Monetary": "337801.00",
                                    "CustomerSegment": "Regular Customer"
                                },
                                {
                                    "Customer": "Wingtip Toys (Mahaffey, PA)",
                                    "Recency": "3452",
                                    "Frequency": "367",
                                    "Monetary": "337441.14",
                                    "CustomerSegment": "Regular Customer"
                                },
                                {
                                    "Customer": "Tailspin Toys (Saks, AL)",
                                    "Recency": "3406",
                                    "Frequency": "389",
                                    "Monetary": "337410.77",
                                    "CustomerSegment": "Regular Customer"
                                },
                                {
                                    "Customer": "Wingtip Toys (Birds, IL)",
                                    "Recency": "3405",
                                    "Frequency": "350",
                                    "Monetary": "337397.26",
                                    "CustomerSegment": "Regular Customer"
                                },
                                {
                                    "Customer": "Tailspin Toys (Indios, PR)",
                                    "Recency": "3423",
                                    "Frequency": "330",
                                    "Monetary": "337361.44",
                                    "CustomerSegment": "Regular Customer"
                                },
                                {
                                    "Customer": "Tailspin Toys (New Baden, IL)",
                                    "Recency": "3418",
                                    "Frequency": "433",
                                    "Monetary": "337354.24",
                                    "CustomerSegment": "Regular Customer"
                                },
                                {
                                    "Customer": "Wingtip Toys (Coin, IA)",
                                    "Recency": "3430",
                                    "Frequency": "387",
                                    "Monetary": "336577.02",
                                    "CustomerSegment": "Regular Customer"
                                },
                                {
                                    "Customer": "Tailspin Toys (McClave, CO)",
                                    "Recency": "3406",
                                    "Frequency": "375",
                                    "Monetary": "336279.11",
                                    "CustomerSegment": "Regular Customer"
                                },
                                {
                                    "Customer": "Tailspin Toys (Valdese, NC)",
                                    "Recency": "3418",
                                    "Frequency": "392",
                                    "Monetary": "335837.65",
                                    "CustomerSegment": "Regular Customer"
                                },
                                {
                                    "Customer": "Wingtip Toys (Plata, TX)",
                                    "Recency": "3406",
                                    "Frequency": "366",
                                    "Monetary": "335807.52",
                                    "CustomerSegment": "Regular Customer"
                                },
                                {
                                    "Customer": "Wingtip Toys (Ware Shoals, SC)",
                                    "Recency": "3409",
                                    "Frequency": "380",
                                    "Monetary": "335579.88",
                                    "CustomerSegment": "Regular Customer"
                                },
                                {
                                    "Customer": "Tailspin Toys (Carbonville, UT)",
                                    "Recency": "3413",
                                    "Frequency": "341",
                                    "Monetary": "334355.34",
                                    "CustomerSegment": "Regular Customer"
                                },
                                {
                                    "Customer": "Tailspin Toys (Maple Shade, NJ)",
                                    "Recency": "3453",
                                    "Frequency": "396",
                                    "Monetary": "333361.38",
                                    "CustomerSegment": "Regular Customer"
                                },
                                {
                                    "Customer": "Tailspin Toys (Annamoriah, WV)",
                                    "Recency": "3416",
                                    "Frequency": "365",
                                    "Monetary": "332736.32",
                                    "CustomerSegment": "Regular Customer"
                                },
                                {
                                    "Customer": "Tailspin Toys (North Ridge, NY)",
                                    "Recency": "3405",
                                    "Frequency": "373",
                                    "Monetary": "332198.50",
                                    "CustomerSegment": "Regular Customer"
                                },
                                {
                                    "Customer": "Wingtip Toys (Rosa Sánchez, PR)",
                                    "Recency": "3423",
                                    "Frequency": "372",
                                    "Monetary": "332196.33",
                                    "CustomerSegment": "Regular Customer"
                                },
                                {
                                    "Customer": "Tailspin Toys (Slanesville, WV)",
                                    "Recency": "3405",
                                    "Frequency": "422",
                                    "Monetary": "332128.48",
                                    "CustomerSegment": "Regular Customer"
                                },
                                {
                                    "Customer": "Tailspin Toys (Arietta, NY)",
                                    "Recency": "3406",
                                    "Frequency": "390",
                                    "Monetary": "331871.87",
                                    "CustomerSegment": "Regular Customer"
                                },
                                {
                                    "Customer": "Wingtip Toys (White Church, MO)",
                                    "Recency": "3409",
                                    "Frequency": "344",
                                    "Monetary": "331296.84",
                                    "CustomerSegment": "Regular Customer"
                                },
                                {
                                    "Customer": "Tailspin Toys (Roe Park, NY)",
                                    "Recency": "3406",
                                    "Frequency": "366",
                                    "Monetary": "331259.50",
                                    "CustomerSegment": "Regular Customer"
                                },
                                {
                                    "Customer": "Wingtip Toys (Mooringsport, LA)",
                                    "Recency": "3412",
                                    "Frequency": "379",
                                    "Monetary": "330612.51",
                                    "CustomerSegment": "Regular Customer"
                                },
                                {
                                    "Customer": "Wingtip Toys (Bergen Park, CO)",
                                    "Recency": "3409",
                                    "Frequency": "374",
                                    "Monetary": "329996.05",
                                    "CustomerSegment": "Regular Customer"
                                },
                                {
                                    "Customer": "Tailspin Toys (Cundiyo, NM)",
                                    "Recency": "3426",
                                    "Frequency": "346",
                                    "Monetary": "329650.82",
                                    "CustomerSegment": "Regular Customer"
                                },
                                {
                                    "Customer": "Tailspin Toys (Ashtabula, OH)",
                                    "Recency": "3406",
                                    "Frequency": "387",
                                    "Monetary": "329244.04",
                                    "CustomerSegment": "Regular Customer"
                                },
                                {
                                    "Customer": "Tailspin Toys (Wappingers Falls, NY)",
                                    "Recency": "3417",
                                    "Frequency": "377",
                                    "Monetary": "328911.35",
                                    "CustomerSegment": "Regular Customer"
                                },
                                {
                                    "Customer": "Wingtip Toys (Cadogan, PA)",
                                    "Recency": "3405",
                                    "Frequency": "360",
                                    "Monetary": "328802.96",
                                    "CustomerSegment": "Regular Customer"
                                },
                                {
                                    "Customer": "Wingtip Toys (Yaak, MT)",
                                    "Recency": "3409",
                                    "Frequency": "377",
                                    "Monetary": "328628.25",
                                    "CustomerSegment": "Regular Customer"
                                },
                                {
                                    "Customer": "Wingtip Toys (Salt Wells, NV)",
                                    "Recency": "3415",
                                    "Frequency": "403",
                                    "Monetary": "328378.21",
                                    "CustomerSegment": "Regular Customer"
                                },
                                {
                                    "Customer": "Tailspin Toys (Hedrick, IA)",
                                    "Recency": "3432",
                                    "Frequency": "400",
                                    "Monetary": "327805.89",
                                    "CustomerSegment": "Regular Customer"
                                },
                                {
                                    "Customer": "Wingtip Toys (Obetz, OH)",
                                    "Recency": "3405",
                                    "Frequency": "397",
                                    "Monetary": "327538.08",
                                    "CustomerSegment": "Regular Customer"
                                },
                                {
                                    "Customer": "Tailspin Toys (Manchester Center, VT)",
                                    "Recency": "3452",
                                    "Frequency": "405",
                                    "Monetary": "327530.73",
                                    "CustomerSegment": "Regular Customer"
                                },
                                {
                                    "Customer": "Tailspin Toys (East Fultonham, OH)",
                                    "Recency": "3418",
                                    "Frequency": "384",
                                    "Monetary": "327488.86",
                                    "CustomerSegment": "Regular Customer"
                                },
                                {
                                    "Customer": "Wingtip Toys (Silver Plume, CO)",
                                    "Recency": "3411",
                                    "Frequency": "385",
                                    "Monetary": "327317.74",
                                    "CustomerSegment": "Regular Customer"
                                },
                                {
                                    "Customer": "Wingtip Toys (Bethel Acres, OK)",
                                    "Recency": "3410",
                                    "Frequency": "380",
                                    "Monetary": "326876.81",
                                    "CustomerSegment": "Regular Customer"
                                },
                                {
                                    "Customer": "Wingtip Toys (Nichols Hills, OK)",
                                    "Recency": "3419",
                                    "Frequency": "301",
                                    "Monetary": "326771.53",
                                    "CustomerSegment": "Regular Customer"
                                },
                                {
                                    "Customer": "Tailspin Toys (Boyden Arbor, SC)",
                                    "Recency": "3409",
                                    "Frequency": "375",
                                    "Monetary": "326197.71",
                                    "CustomerSegment": "Regular Customer"
                                },
                                {
                                    "Customer": "Tailspin Toys (Netcong, NJ)",
                                    "Recency": "3412",
                                    "Frequency": "346",
                                    "Monetary": "325580.84",
                                    "CustomerSegment": "Regular Customer"
                                },
                                {
                                    "Customer": "Wingtip Toys (Paw Paw Lake, MI)",
                                    "Recency": "3408",
                                    "Frequency": "350",
                                    "Monetary": "325446.10",
                                    "CustomerSegment": "Regular Customer"
                                },
                                {
                                    "Customer": "Wingtip Toys (Highland Home, AL)",
                                    "Recency": "3439",
                                    "Frequency": "366",
                                    "Monetary": "324156.89",
                                    "CustomerSegment": "Regular Customer"
                                },
                                {
                                    "Customer": "Tailspin Toys (Antares, AZ)",
                                    "Recency": "3405",
                                    "Frequency": "369",
                                    "Monetary": "324134.40",
                                    "CustomerSegment": "Regular Customer"
                                },
                                {
                                    "Customer": "Tailspin Toys (Kalvesta, KS)",
                                    "Recency": "3416",
                                    "Frequency": "376",
                                    "Monetary": "324098.97",
                                    "CustomerSegment": "Regular Customer"
                                },
                                {
                                    "Customer": "Tailspin Toys (Tumacacori, AZ)",
                                    "Recency": "3411",
                                    "Frequency": "390",
                                    "Monetary": "323913.98",
                                    "CustomerSegment": "Regular Customer"
                                },
                                {
                                    "Customer": "Wingtip Toys (Ruthsburg, MD)",
                                    "Recency": "3413",
                                    "Frequency": "373",
                                    "Monetary": "323889.06",
                                    "CustomerSegment": "Regular Customer"
                                },
                                {
                                    "Customer": "Wingtip Toys (Rose Tree, PA)",
                                    "Recency": "3417",
                                    "Frequency": "383",
                                    "Monetary": "323811.91",
                                    "CustomerSegment": "Regular Customer"
                                },
                                {
                                    "Customer": "Wingtip Toys (Head Office)",
                                    "Recency": "3410",
                                    "Frequency": "395",
                                    "Monetary": "323352.80",
                                    "CustomerSegment": "Regular Customer"
                                },
                                {
                                    "Customer": "Tailspin Toys (Scofield, UT)",
                                    "Recency": "3409",
                                    "Frequency": "355",
                                    "Monetary": "323052.77",
                                    "CustomerSegment": "Regular Customer"
                                },
                                {
                                    "Customer": "Tailspin Toys (Glen Avon, CA)",
                                    "Recency": "3410",
                                    "Frequency": "381",
                                    "Monetary": "323014.79",
                                    "CustomerSegment": "Regular Customer"
                                },
                                {
                                    "Customer": "Wingtip Toys (Boalsburg, PA)",
                                    "Recency": "3413",
                                    "Frequency": "348",
                                    "Monetary": "322433.62",
                                    "CustomerSegment": "Regular Customer"
                                },
                                {
                                    "Customer": "Tailspin Toys (King Cove, AK)",
                                    "Recency": "3416",
                                    "Frequency": "348",
                                    "Monetary": "322270.21",
                                    "CustomerSegment": "Regular Customer"
                                },
                                {
                                    "Customer": "Wingtip Toys (Griswoldville, GA)",
                                    "Recency": "3409",
                                    "Frequency": "370",
                                    "Monetary": "322110.17",
                                    "CustomerSegment": "Regular Customer"
                                },
                                {
                                    "Customer": "Tailspin Toys (Lake Stevens, WA)",
                                    "Recency": "3410",
                                    "Frequency": "380",
                                    "Monetary": "321866.45",
                                    "CustomerSegment": "Regular Customer"
                                },
                                {
                                    "Customer": "Wingtip Toys (Tilleda, WI)",
                                    "Recency": "3416",
                                    "Frequency": "363",
                                    "Monetary": "321788.89",
                                    "CustomerSegment": "Regular Customer"
                                },
                                {
                                    "Customer": "Wingtip Toys (Lytle, TX)",
                                    "Recency": "3405",
                                    "Frequency": "375",
                                    "Monetary": "321707.67",
                                    "CustomerSegment": "Regular Customer"
                                },
                                {
                                    "Customer": "Wingtip Toys (Akhiok, AK)",
                                    "Recency": "3411",
                                    "Frequency": "360",
                                    "Monetary": "321706.26",
                                    "CustomerSegment": "Regular Customer"
                                },
                                {
                                    "Customer": "Tailspin Toys (Orchard Hill, GA)",
                                    "Recency": "3417",
                                    "Frequency": "360",
                                    "Monetary": "321666.54",
                                    "CustomerSegment": "Regular Customer"
                                },
                                {
                                    "Customer": "Tailspin Toys (Teutopolis, IL)",
                                    "Recency": "3441",
                                    "Frequency": "377",
                                    "Monetary": "321623.39",
                                    "CustomerSegment": "Regular Customer"
                                },
                                {
                                    "Customer": "Tailspin Toys (Sans Souci, SC)",
                                    "Recency": "3423",
                                    "Frequency": "362",
                                    "Monetary": "320972.96",
                                    "CustomerSegment": "Regular Customer"
                                },
                                {
                                    "Customer": "Wingtip Toys (Cavendish, VT)",
                                    "Recency": "3408",
                                    "Frequency": "372",
                                    "Monetary": "320836.74",
                                    "CustomerSegment": "Regular Customer"
                                },
                                {
                                    "Customer": "Tailspin Toys (Point Roberts, WA)",
                                    "Recency": "3431",
                                    "Frequency": "356",
                                    "Monetary": "320836.33",
                                    "CustomerSegment": "Regular Customer"
                                },
                                {
                                    "Customer": "Wingtip Toys (Dunkerton, IA)",
                                    "Recency": "3416",
                                    "Frequency": "376",
                                    "Monetary": "320796.51",
                                    "CustomerSegment": "Regular Customer"
                                },
                                {
                                    "Customer": "Wingtip Toys (Cale, AR)",
                                    "Recency": "3411",
                                    "Frequency": "371",
                                    "Monetary": "320159.23",
                                    "CustomerSegment": "Regular Customer"
                                },
                                {
                                    "Customer": "Tailspin Toys (Sinclair, WY)",
                                    "Recency": "3405",
                                    "Frequency": "378",
                                    "Monetary": "319851.00",
                                    "CustomerSegment": "Regular Customer"
                                },
                                {
                                    "Customer": "Tailspin Toys (Glen Park, NY)",
                                    "Recency": "3405",
                                    "Frequency": "358",
                                    "Monetary": "319407.33",
                                    "CustomerSegment": "Regular Customer"
                                },
                                {
                                    "Customer": "Wingtip Toys (Vamo, FL)",
                                    "Recency": "3410",
                                    "Frequency": "358",
                                    "Monetary": "319130.68",
                                    "CustomerSegment": "Regular Customer"
                                },
                                {
                                    "Customer": "Wingtip Toys (Downingtown, PA)",
                                    "Recency": "3416",
                                    "Frequency": "349",
                                    "Monetary": "319035.03",
                                    "CustomerSegment": "Regular Customer"
                                },
                                {
                                    "Customer": "Tailspin Toys (Avenal, CA)",
                                    "Recency": "3416",
                                    "Frequency": "380",
                                    "Monetary": "318480.92",
                                    "CustomerSegment": "Regular Customer"
                                },
                                {
                                    "Customer": "Tailspin Toys (Gardere, LA)",
                                    "Recency": "3406",
                                    "Frequency": "394",
                                    "Monetary": "318422.84",
                                    "CustomerSegment": "Regular Customer"
                                },
                                {
                                    "Customer": "Wingtip Toys (Waycross, GA)",
                                    "Recency": "3405",
                                    "Frequency": "348",
                                    "Monetary": "318326.42",
                                    "CustomerSegment": "Regular Customer"
                                },
                                {
                                    "Customer": "Wingtip Toys (Amado, AZ)",
                                    "Recency": "3420",
                                    "Frequency": "379",
                                    "Monetary": "318197.41",
                                    "CustomerSegment": "Regular Customer"
                                },
                                {
                                    "Customer": "Wingtip Toys (Karthaus, PA)",
                                    "Recency": "3424",
                                    "Frequency": "358",
                                    "Monetary": "318175.50",
                                    "CustomerSegment": "Regular Customer"
                                },
                                {
                                    "Customer": "Tailspin Toys (Hambleton, WV)",
                                    "Recency": "3412",
                                    "Frequency": "347",
                                    "Monetary": "317991.19",
                                    "CustomerSegment": "Regular Customer"
                                },
                                {
                                    "Customer": "Wingtip Toys (Athol Springs, NY)",
                                    "Recency": "3409",
                                    "Frequency": "344",
                                    "Monetary": "317893.39",
                                    "CustomerSegment": "Regular Customer"
                                },
                                {
                                    "Customer": "Wingtip Toys (Teutopolis, IL)",
                                    "Recency": "3425",
                                    "Frequency": "347",
                                    "Monetary": "317801.38",
                                    "CustomerSegment": "Regular Customer"
                                },
                                {
                                    "Customer": "Tailspin Toys (Larose, LA)",
                                    "Recency": "3409",
                                    "Frequency": "356",
                                    "Monetary": "317260.78",
                                    "CustomerSegment": "Regular Customer"
                                },
                                {
                                    "Customer": "Wingtip Toys (Mendoza, TX)",
                                    "Recency": "3410",
                                    "Frequency": "357",
                                    "Monetary": "317128.62",
                                    "CustomerSegment": "Regular Customer"
                                },
                                {
                                    "Customer": "Wingtip Toys (Cache, OK)",
                                    "Recency": "3405",
                                    "Frequency": "358",
                                    "Monetary": "315996.59",
                                    "CustomerSegment": "Regular Customer"
                                },
                                {
                                    "Customer": "Tailspin Toys (East Portal, CO)",
                                    "Recency": "3424",
                                    "Frequency": "353",
                                    "Monetary": "315508.25",
                                    "CustomerSegment": "Regular Customer"
                                },
                                {
                                    "Customer": "Tailspin Toys (Windsor Locks, CT)",
                                    "Recency": "3427",
                                    "Frequency": "333",
                                    "Monetary": "315257.74",
                                    "CustomerSegment": "Regular Customer"
                                },
                                {
                                    "Customer": "Wingtip Toys (Necedah, WI)",
                                    "Recency": "3409",
                                    "Frequency": "343",
                                    "Monetary": "314512.31",
                                    "CustomerSegment": "Regular Customer"
                                },
                                {
                                    "Customer": "Tailspin Toys (Madrone, NM)",
                                    "Recency": "3410",
                                    "Frequency": "324",
                                    "Monetary": "314404.24",
                                    "CustomerSegment": "Regular Customer"
                                },
                                {
                                    "Customer": "Wingtip Toys (Black Lick, PA)",
                                    "Recency": "3415",
                                    "Frequency": "371",
                                    "Monetary": "314381.09",
                                    "CustomerSegment": "Regular Customer"
                                },
                                {
                                    "Customer": "Tailspin Toys (Ortley Beach, NJ)",
                                    "Recency": "3410",
                                    "Frequency": "384",
                                    "Monetary": "313741.15",
                                    "CustomerSegment": "Regular Customer"
                                },
                                {
                                    "Customer": "Tailspin Toys (Severna Park, MD)",
                                    "Recency": "3411",
                                    "Frequency": "382",
                                    "Monetary": "313208.74",
                                    "CustomerSegment": "Regular Customer"
                                },
                                {
                                    "Customer": "Tailspin Toys (La Cueva, NM)",
                                    "Recency": "3405",
                                    "Frequency": "352",
                                    "Monetary": "313078.38",
                                    "CustomerSegment": "Regular Customer"
                                },
                                {
                                    "Customer": "Wingtip Toys (Floriston, CA)",
                                    "Recency": "3406",
                                    "Frequency": "346",
                                    "Monetary": "312732.90",
                                    "CustomerSegment": "Regular Customer"
                                },
                                {
                                    "Customer": "Tailspin Toys (Manahawkin, NJ)",
                                    "Recency": "3419",
                                    "Frequency": "358",
                                    "Monetary": "312431.01",
                                    "CustomerSegment": "Regular Customer"
                                },
                                {
                                    "Customer": "Tailspin Toys (Elrosa, MN)",
                                    "Recency": "3412",
                                    "Frequency": "343",
                                    "Monetary": "312098.27",
                                    "CustomerSegment": "Regular Customer"
                                },
                                {
                                    "Customer": "Tailspin Toys (Tooele, UT)",
                                    "Recency": "3433",
                                    "Frequency": "407",
                                    "Monetary": "311929.62",
                                    "CustomerSegment": "Regular Customer"
                                },
                                {
                                    "Customer": "Wingtip Toys (Cylon, WI)",
                                    "Recency": "3409",
                                    "Frequency": "407",
                                    "Monetary": "311866.04",
                                    "CustomerSegment": "Regular Customer"
                                },
                                {
                                    "Customer": "Tailspin Toys (Cortaro, AZ)",
                                    "Recency": "3409",
                                    "Frequency": "323",
                                    "Monetary": "311819.52",
                                    "CustomerSegment": "Regular Customer"
                                },
                                {
                                    "Customer": "Wingtip Toys (Bell Acres, PA)",
                                    "Recency": "3410",
                                    "Frequency": "325",
                                    "Monetary": "311799.91",
                                    "CustomerSegment": "Regular Customer"
                                },
                                {
                                    "Customer": "Tailspin Toys (Trentwood, WA)",
                                    "Recency": "3411",
                                    "Frequency": "367",
                                    "Monetary": "311642.92",
                                    "CustomerSegment": "Regular Customer"
                                },
                                {
                                    "Customer": "Tailspin Toys (Hanoverton, OH)",
                                    "Recency": "3410",
                                    "Frequency": "354",
                                    "Monetary": "311205.30",
                                    "CustomerSegment": "Regular Customer"
                                },
                                {
                                    "Customer": "Wingtip Toys (Cloquet, MN)",
                                    "Recency": "3411",
                                    "Frequency": "353",
                                    "Monetary": "310949.08",
                                    "CustomerSegment": "Regular Customer"
                                },
                                {
                                    "Customer": "Tailspin Toys (Nanafalia, AL)",
                                    "Recency": "3411",
                                    "Frequency": "312",
                                    "Monetary": "310162.20",
                                    "CustomerSegment": "Regular Customer"
                                },
                                {
                                    "Customer": "Tailspin Toys (Terre du Lac, MO)",
                                    "Recency": "3420",
                                    "Frequency": "378",
                                    "Monetary": "309699.29",
                                    "CustomerSegment": "Regular Customer"
                                },
                                {
                                    "Customer": "Wingtip Toys (Licking, MO)",
                                    "Recency": "3440",
                                    "Frequency": "329",
                                    "Monetary": "309260.95",
                                    "CustomerSegment": "Regular Customer"
                                },
                                {
                                    "Customer": "Wingtip Toys (Herlong, CA)",
                                    "Recency": "3420",
                                    "Frequency": "334",
                                    "Monetary": "309166.14",
                                    "CustomerSegment": "Regular Customer"
                                },
                                {
                                    "Customer": "Wingtip Toys (Oologah, OK)",
                                    "Recency": "3416",
                                    "Frequency": "391",
                                    "Monetary": "309075.57",
                                    "CustomerSegment": "Regular Customer"
                                },
                                {
                                    "Customer": "Tailspin Toys (Statenville, GA)",
                                    "Recency": "3405",
                                    "Frequency": "405",
                                    "Monetary": "308909.17",
                                    "CustomerSegment": "Regular Customer"
                                },
                                {
                                    "Customer": "Tailspin Toys (Hodgdon, ME)",
                                    "Recency": "3405",
                                    "Frequency": "369",
                                    "Monetary": "308751.16",
                                    "CustomerSegment": "Regular Customer"
                                },
                                {
                                    "Customer": "Wingtip Toys (Cowlington, OK)",
                                    "Recency": "3427",
                                    "Frequency": "323",
                                    "Monetary": "308726.17",
                                    "CustomerSegment": "Regular Customer"
                                },
                                {
                                    "Customer": "Tailspin Toys (Mineral Hills, MI)",
                                    "Recency": "3413",
                                    "Frequency": "336",
                                    "Monetary": "308012.31",
                                    "CustomerSegment": "Regular Customer"
                                },
                                {
                                    "Customer": "Wingtip Toys (Sunburg, MN)",
                                    "Recency": "3405",
                                    "Frequency": "385",
                                    "Monetary": "307164.02",
                                    "CustomerSegment": "Regular Customer"
                                },
                                {
                                    "Customer": "Tailspin Toys (Lytle Creek, CA)",
                                    "Recency": "3412",
                                    "Frequency": "369",
                                    "Monetary": "306630.85",
                                    "CustomerSegment": "Regular Customer"
                                },
                                {
                                    "Customer": "Tailspin Toys (Arbor Vitae, WI)",
                                    "Recency": "3424",
                                    "Frequency": "344",
                                    "Monetary": "306612.06",
                                    "CustomerSegment": "Regular Customer"
                                },
                                {
                                    "Customer": "Tailspin Toys (Rafael Capó, PR)",
                                    "Recency": "3416",
                                    "Frequency": "350",
                                    "Monetary": "306445.84",
                                    "CustomerSegment": "Regular Customer"
                                },
                                {
                                    "Customer": "Tailspin Toys (Kwethluk, AK)",
                                    "Recency": "3446",
                                    "Frequency": "390",
                                    "Monetary": "306201.80",
                                    "CustomerSegment": "Regular Customer"
                                },
                                {
                                    "Customer": "Wingtip Toys (Johnetta, KY)",
                                    "Recency": "3412",
                                    "Frequency": "394",
                                    "Monetary": "305665.56",
                                    "CustomerSegment": "Regular Customer"
                                },
                                {
                                    "Customer": "Wingtip Toys (Boynton, OK)",
                                    "Recency": "3418",
                                    "Frequency": "341",
                                    "Monetary": "305577.65",
                                    "CustomerSegment": "Regular Customer"
                                },
                                {
                                    "Customer": "Tailspin Toys (Dracut, MA)",
                                    "Recency": "3406",
                                    "Frequency": "367",
                                    "Monetary": "305095.09",
                                    "CustomerSegment": "Regular Customer"
                                },
                                {
                                    "Customer": "Tailspin Toys (Rockwall, TX)",
                                    "Recency": "3408",
                                    "Frequency": "347",
                                    "Monetary": "305069.34",
                                    "CustomerSegment": "Regular Customer"
                                },
                                {
                                    "Customer": "Wingtip Toys (Keosauqua, IA)",
                                    "Recency": "3417",
                                    "Frequency": "370",
                                    "Monetary": "304786.63",
                                    "CustomerSegment": "Regular Customer"
                                },
                                {
                                    "Customer": "Wingtip Toys (Marfa, TX)",
                                    "Recency": "3416",
                                    "Frequency": "329",
                                    "Monetary": "304771.23",
                                    "CustomerSegment": "Regular Customer"
                                },
                                {
                                    "Customer": "Tailspin Toys (Hardeeville, SC)",
                                    "Recency": "3416",
                                    "Frequency": "345",
                                    "Monetary": "304717.72",
                                    "CustomerSegment": "Regular Customer"
                                },
                                {
                                    "Customer": "Wingtip Toys (Robertsdale, AL)",
                                    "Recency": "3416",
                                    "Frequency": "354",
                                    "Monetary": "304705.79",
                                    "CustomerSegment": "Regular Customer"
                                },
                                {
                                    "Customer": "Tailspin Toys (Idria, CA)",
                                    "Recency": "3419",
                                    "Frequency": "374",
                                    "Monetary": "304067.79",
                                    "CustomerSegment": "Regular Customer"
                                },
                                {
                                    "Customer": "Wingtip Toys (Ridgemark, CA)",
                                    "Recency": "3416",
                                    "Frequency": "361",
                                    "Monetary": "304067.61",
                                    "CustomerSegment": "Regular Customer"
                                },
                                {
                                    "Customer": "Wingtip Toys (Frenchburg, KY)",
                                    "Recency": "3415",
                                    "Frequency": "374",
                                    "Monetary": "303964.36",
                                    "CustomerSegment": "Regular Customer"
                                },
                                {
                                    "Customer": "Wingtip Toys (Alcester, SD)",
                                    "Recency": "3432",
                                    "Frequency": "355",
                                    "Monetary": "303284.25",
                                    "CustomerSegment": "Regular Customer"
                                },
                                {
                                    "Customer": "Tailspin Toys (Andrix, CO)",
                                    "Recency": "3416",
                                    "Frequency": "356",
                                    "Monetary": "302504.62",
                                    "CustomerSegment": "Regular Customer"
                                },
                                {
                                    "Customer": "Wingtip Toys (Gilford, NH)",
                                    "Recency": "3408",
                                    "Frequency": "371",
                                    "Monetary": "301976.88",
                                    "CustomerSegment": "Regular Customer"
                                },
                                {
                                    "Customer": "Wingtip Toys (Triadelphia, WV)",
                                    "Recency": "3416",
                                    "Frequency": "325",
                                    "Monetary": "301927.52",
                                    "CustomerSegment": "Regular Customer"
                                },
                                {
                                    "Customer": "Tailspin Toys (Mappsburg, VA)",
                                    "Recency": "3410",
                                    "Frequency": "341",
                                    "Monetary": "301873.81",
                                    "CustomerSegment": "Regular Customer"
                                },
                                {
                                    "Customer": "Tailspin Toys (Aspen Park, CO)",
                                    "Recency": "3410",
                                    "Frequency": "335",
                                    "Monetary": "301567.74",
                                    "CustomerSegment": "Regular Customer"
                                },
                                {
                                    "Customer": "Wingtip Toys (Haydenville, OH)",
                                    "Recency": "3417",
                                    "Frequency": "384",
                                    "Monetary": "301546.86",
                                    "CustomerSegment": "Regular Customer"
                                },
                                {
                                    "Customer": "Wingtip Toys (East Fultonham, OH)",
                                    "Recency": "3422",
                                    "Frequency": "357",
                                    "Monetary": "301349.75",
                                    "CustomerSegment": "Regular Customer"
                                },
                                {
                                    "Customer": "Wingtip Toys (Coker, AL)",
                                    "Recency": "3411",
                                    "Frequency": "373",
                                    "Monetary": "301305.44",
                                    "CustomerSegment": "Regular Customer"
                                },
                                {
                                    "Customer": "Wingtip Toys (Philip, SD)",
                                    "Recency": "3425",
                                    "Frequency": "322",
                                    "Monetary": "300775.79",
                                    "CustomerSegment": "Regular Customer"
                                },
                                {
                                    "Customer": "Wingtip Toys (Trumansburg, NY)",
                                    "Recency": "3430",
                                    "Frequency": "370",
                                    "Monetary": "300749.68",
                                    "CustomerSegment": "Regular Customer"
                                },
                                {
                                    "Customer": "Wingtip Toys (Glen Ullin, ND)",
                                    "Recency": "3416",
                                    "Frequency": "335",
                                    "Monetary": "300747.48",
                                    "CustomerSegment": "Regular Customer"
                                },
                                {
                                    "Customer": "Tailspin Toys (Goffstown, NH)",
                                    "Recency": "3410",
                                    "Frequency": "300",
                                    "Monetary": "300508.67",
                                    "CustomerSegment": "Regular Customer"
                                },
                                {
                                    "Customer": "Wingtip Toys (Marion Junction, AL)",
                                    "Recency": "3410",
                                    "Frequency": "371",
                                    "Monetary": "300045.58",
                                    "CustomerSegment": "Regular Customer"
                                },
                                {
                                    "Customer": "Tailspin Toys (Absecon, NJ)",
                                    "Recency": "3423",
                                    "Frequency": "319",
                                    "Monetary": "299689.37",
                                    "CustomerSegment": "Regular Customer"
                                },
                                {
                                    "Customer": "Wingtip Toys (Verdery, SC)",
                                    "Recency": "3416",
                                    "Frequency": "332",
                                    "Monetary": "299285.70",
                                    "CustomerSegment": "Regular Customer"
                                },
                                {
                                    "Customer": "Wingtip Toys (Elverson, PA)",
                                    "Recency": "3422",
                                    "Frequency": "381",
                                    "Monetary": "298636.49",
                                    "CustomerSegment": "Regular Customer"
                                },
                                {
                                    "Customer": "Wingtip Toys (Asher, OK)",
                                    "Recency": "3406",
                                    "Frequency": "354",
                                    "Monetary": "298397.93",
                                    "CustomerSegment": "Regular Customer"
                                },
                                {
                                    "Customer": "Tailspin Toys (Clewiston, FL)",
                                    "Recency": "3439",
                                    "Frequency": "322",
                                    "Monetary": "298161.10",
                                    "CustomerSegment": "Regular Customer"
                                },
                                {
                                    "Customer": "Tailspin Toys (Page City, KS)",
                                    "Recency": "3424",
                                    "Frequency": "399",
                                    "Monetary": "298121.41",
                                    "CustomerSegment": "Regular Customer"
                                },
                                {
                                    "Customer": "Wingtip Toys (Towaco, NJ)",
                                    "Recency": "3423",
                                    "Frequency": "352",
                                    "Monetary": "297844.19",
                                    "CustomerSegment": "Regular Customer"
                                },
                                {
                                    "Customer": "Tailspin Toys (Rothsville, PA)",
                                    "Recency": "3423",
                                    "Frequency": "325",
                                    "Monetary": "297732.27",
                                    "CustomerSegment": "Regular Customer"
                                },
                                {
                                    "Customer": "Wingtip Toys (Gargatha, VA)",
                                    "Recency": "3410",
                                    "Frequency": "320",
                                    "Monetary": "297339.45",
                                    "CustomerSegment": "Regular Customer"
                                },
                                {
                                    "Customer": "Wingtip Toys (Hollandsburg, IN)",
                                    "Recency": "3409",
                                    "Frequency": "359",
                                    "Monetary": "296073.43",
                                    "CustomerSegment": "Regular Customer"
                                },
                                {
                                    "Customer": "Tailspin Toys (Gasport, NY)",
                                    "Recency": "3408",
                                    "Frequency": "384",
                                    "Monetary": "295616.79",
                                    "CustomerSegment": "Regular Customer"
                                },
                                {
                                    "Customer": "Wingtip Toys (Cos Cob, CT)",
                                    "Recency": "3405",
                                    "Frequency": "341",
                                    "Monetary": "295308.72",
                                    "CustomerSegment": "Regular Customer"
                                },
                                {
                                    "Customer": "Tailspin Toys (Jessie, ND)",
                                    "Recency": "3405",
                                    "Frequency": "363",
                                    "Monetary": "295207.22",
                                    "CustomerSegment": "Regular Customer"
                                },
                                {
                                    "Customer": "Tailspin Toys (Howells, NE)",
                                    "Recency": "3409",
                                    "Frequency": "298",
                                    "Monetary": "294877.79",
                                    "CustomerSegment": "Regular Customer"
                                },
                                {
                                    "Customer": "Tailspin Toys (Seagraves, TX)",
                                    "Recency": "3426",
                                    "Frequency": "328",
                                    "Monetary": "293230.67",
                                    "CustomerSegment": "Regular Customer"
                                },
                                {
                                    "Customer": "Wingtip Toys (Shay, PA)",
                                    "Recency": "3405",
                                    "Frequency": "362",
                                    "Monetary": "293062.21",
                                    "CustomerSegment": "Regular Customer"
                                },
                                {
                                    "Customer": "Wingtip Toys (Federalsburg, MD)",
                                    "Recency": "3409",
                                    "Frequency": "418",
                                    "Monetary": "292520.12",
                                    "CustomerSegment": "Regular Customer"
                                },
                                {
                                    "Customer": "Wingtip Toys (Lexington Heights, MI)",
                                    "Recency": "3410",
                                    "Frequency": "326",
                                    "Monetary": "292190.74",
                                    "CustomerSegment": "Regular Customer"
                                },
                                {
                                    "Customer": "Tailspin Toys (Imlaystown, NJ)",
                                    "Recency": "3406",
                                    "Frequency": "364",
                                    "Monetary": "292086.58",
                                    "CustomerSegment": "Regular Customer"
                                },
                                {
                                    "Customer": "Wingtip Toys (Bozeman Hot Springs, MT)",
                                    "Recency": "3413",
                                    "Frequency": "368",
                                    "Monetary": "291939.23",
                                    "CustomerSegment": "Regular Customer"
                                },
                                {
                                    "Customer": "Wingtip Toys (Obion, TN)",
                                    "Recency": "3410",
                                    "Frequency": "326",
                                    "Monetary": "291938.50",
                                    "CustomerSegment": "Regular Customer"
                                },
                                {
                                    "Customer": "Wingtip Toys (Raton, NM)",
                                    "Recency": "3418",
                                    "Frequency": "377",
                                    "Monetary": "290824.15",
                                    "CustomerSegment": "Regular Customer"
                                },
                                {
                                    "Customer": "Tailspin Toys (Biscay, MN)",
                                    "Recency": "3409",
                                    "Frequency": "342",
                                    "Monetary": "290737.97",
                                    "CustomerSegment": "Regular Customer"
                                },
                                {
                                    "Customer": "Wingtip Toys (Berville, MI)",
                                    "Recency": "3406",
                                    "Frequency": "336",
                                    "Monetary": "290625.82",
                                    "CustomerSegment": "Regular Customer"
                                },
                                {
                                    "Customer": "Wingtip Toys (Flomaton, AL)",
                                    "Recency": "3405",
                                    "Frequency": "310",
                                    "Monetary": "290002.45",
                                    "CustomerSegment": "Regular Customer"
                                },
                                {
                                    "Customer": "Wingtip Toys (Huntingburg, IN)",
                                    "Recency": "3405",
                                    "Frequency": "343",
                                    "Monetary": "289741.21",
                                    "CustomerSegment": "Regular Customer"
                                },
                                {
                                    "Customer": "Wingtip Toys (Beekmantown, NY)",
                                    "Recency": "3426",
                                    "Frequency": "346",
                                    "Monetary": "288675.07",
                                    "CustomerSegment": "Regular Customer"
                                },
                                {
                                    "Customer": "Tailspin Toys (Knifley, KY)",
                                    "Recency": "3420",
                                    "Frequency": "370",
                                    "Monetary": "288166.00",
                                    "CustomerSegment": "Regular Customer"
                                },
                                {
                                    "Customer": "Tailspin Toys (Corfu, NY)",
                                    "Recency": "3405",
                                    "Frequency": "366",
                                    "Monetary": "288024.11",
                                    "CustomerSegment": "Regular Customer"
                                },
                                {
                                    "Customer": "Tailspin Toys (Dahlia, NM)",
                                    "Recency": "3417",
                                    "Frequency": "358",
                                    "Monetary": "287329.73",
                                    "CustomerSegment": "Regular Customer"
                                },
                                {
                                    "Customer": "Wingtip Toys (Caro, MI)",
                                    "Recency": "3412",
                                    "Frequency": "318",
                                    "Monetary": "286779.40",
                                    "CustomerSegment": "Regular Customer"
                                },
                                {
                                    "Customer": "Tailspin Toys (Caselton, NV)",
                                    "Recency": "3431",
                                    "Frequency": "374",
                                    "Monetary": "286124.72",
                                    "CustomerSegment": "Regular Customer"
                                },
                                {
                                    "Customer": "Wingtip Toys (Dacono, CO)",
                                    "Recency": "3410",
                                    "Frequency": "322",
                                    "Monetary": "285911.55",
                                    "CustomerSegment": "Regular Customer"
                                },
                                {
                                    "Customer": "Tailspin Toys (Astor Park, FL)",
                                    "Recency": "3413",
                                    "Frequency": "356",
                                    "Monetary": "285576.35",
                                    "CustomerSegment": "Regular Customer"
                                },
                                {
                                    "Customer": "Wingtip Toys (Broomtown, AL)",
                                    "Recency": "3410",
                                    "Frequency": "367",
                                    "Monetary": "285425.16",
                                    "CustomerSegment": "Regular Customer"
                                },
                                {
                                    "Customer": "Wingtip Toys (Molalla, OR)",
                                    "Recency": "3405",
                                    "Frequency": "312",
                                    "Monetary": "285372.89",
                                    "CustomerSegment": "Regular Customer"
                                },
                                {
                                    "Customer": "Tailspin Toys (Amanda Park, WA)",
                                    "Recency": "3406",
                                    "Frequency": "349",
                                    "Monetary": "285213.52",
                                    "CustomerSegment": "Regular Customer"
                                },
                                {
                                    "Customer": "Tailspin Toys (Edgartown, MA)",
                                    "Recency": "3409",
                                    "Frequency": "366",
                                    "Monetary": "284872.81",
                                    "CustomerSegment": "Regular Customer"
                                },
                                {
                                    "Customer": "Wingtip Toys (Weld, ME)",
                                    "Recency": "3410",
                                    "Frequency": "337",
                                    "Monetary": "283516.24",
                                    "CustomerSegment": "Regular Customer"
                                },
                                {
                                    "Customer": "Tailspin Toys (Bernie, MO)",
                                    "Recency": "3424",
                                    "Frequency": "334",
                                    "Monetary": "283077.31",
                                    "CustomerSegment": "Regular Customer"
                                },
                                {
                                    "Customer": "Tailspin Toys (Jemison, AL)",
                                    "Recency": "3409",
                                    "Frequency": "317",
                                    "Monetary": "282630.94",
                                    "CustomerSegment": "Regular Customer"
                                },
                                {
                                    "Customer": "Tailspin Toys (Topstone, CT)",
                                    "Recency": "3419",
                                    "Frequency": "359",
                                    "Monetary": "282031.86",
                                    "CustomerSegment": "Regular Customer"
                                },
                                {
                                    "Customer": "Tailspin Toys (Eulaton, AL)",
                                    "Recency": "3405",
                                    "Frequency": "339",
                                    "Monetary": "281880.14",
                                    "CustomerSegment": "Regular Customer"
                                },
                                {
                                    "Customer": "Wingtip Toys (Mauldin, SC)",
                                    "Recency": "3444",
                                    "Frequency": "359",
                                    "Monetary": "281673.95",
                                    "CustomerSegment": "Regular Customer"
                                },
                                {
                                    "Customer": "Tailspin Toys (Crary, ND)",
                                    "Recency": "3441",
                                    "Frequency": "315",
                                    "Monetary": "281410.02",
                                    "CustomerSegment": "Regular Customer"
                                },
                                {
                                    "Customer": "Tailspin Toys (Premont, TX)",
                                    "Recency": "3411",
                                    "Frequency": "376",
                                    "Monetary": "281019.04",
                                    "CustomerSegment": "Regular Customer"
                                },
                                {
                                    "Customer": "Tailspin Toys (Skyway, WA)",
                                    "Recency": "3424",
                                    "Frequency": "382",
                                    "Monetary": "280978.58",
                                    "CustomerSegment": "Regular Customer"
                                },
                                {
                                    "Customer": "Wingtip Toys (Delray, WV)",
                                    "Recency": "3424",
                                    "Frequency": "368",
                                    "Monetary": "280645.87",
                                    "CustomerSegment": "Regular Customer"
                                },
                                {
                                    "Customer": "Wingtip Toys (West Hempstead, NY)",
                                    "Recency": "3410",
                                    "Frequency": "333",
                                    "Monetary": "280333.11",
                                    "CustomerSegment": "Regular Customer"
                                },
                                {
                                    "Customer": "Tailspin Toys (Cherry Grove Beach, SC)",
                                    "Recency": "3418",
                                    "Frequency": "333",
                                    "Monetary": "279600.20",
                                    "CustomerSegment": "Regular Customer"
                                },
                                {
                                    "Customer": "Tailspin Toys (Mount Montgomery, NV)",
                                    "Recency": "3410",
                                    "Frequency": "344",
                                    "Monetary": "279375.25",
                                    "CustomerSegment": "Regular Customer"
                                },
                                {
                                    "Customer": "Tailspin Toys (Dallardsville, TX)",
                                    "Recency": "3417",
                                    "Frequency": "343",
                                    "Monetary": "278445.32",
                                    "CustomerSegment": "Regular Customer"
                                },
                                {
                                    "Customer": "Wingtip Toys (Rockwall, TX)",
                                    "Recency": "3418",
                                    "Frequency": "326",
                                    "Monetary": "277770.40",
                                    "CustomerSegment": "Regular Customer"
                                },
                                {
                                    "Customer": "Tailspin Toys (Donner, LA)",
                                    "Recency": "3409",
                                    "Frequency": "349",
                                    "Monetary": "277373.00",
                                    "CustomerSegment": "Regular Customer"
                                },
                                {
                                    "Customer": "Tailspin Toys (Panaca, NV)",
                                    "Recency": "3413",
                                    "Frequency": "371",
                                    "Monetary": "277260.02",
                                    "CustomerSegment": "Regular Customer"
                                },
                                {
                                    "Customer": "Wingtip Toys (Pawlet, VT)",
                                    "Recency": "3419",
                                    "Frequency": "336",
                                    "Monetary": "276930.48",
                                    "CustomerSegment": "Regular Customer"
                                },
                                {
                                    "Customer": "Wingtip Toys (Orick, CA)",
                                    "Recency": "3417",
                                    "Frequency": "329",
                                    "Monetary": "276579.43",
                                    "CustomerSegment": "Regular Customer"
                                },
                                {
                                    "Customer": "Tailspin Toys (Cokato, MN)",
                                    "Recency": "3412",
                                    "Frequency": "299",
                                    "Monetary": "276540.31",
                                    "CustomerSegment": "Regular Customer"
                                },
                                {
                                    "Customer": "Tailspin Toys (Yewed, OK)",
                                    "Recency": "3405",
                                    "Frequency": "346",
                                    "Monetary": "276310.77",
                                    "CustomerSegment": "Regular Customer"
                                },
                                {
                                    "Customer": "Tailspin Toys (Sallyards, KS)",
                                    "Recency": "3413",
                                    "Frequency": "361",
                                    "Monetary": "276101.13",
                                    "CustomerSegment": "Regular Customer"
                                },
                                {
                                    "Customer": "Wingtip Toys (Naches, WA)",
                                    "Recency": "3417",
                                    "Frequency": "263",
                                    "Monetary": "275933.89",
                                    "CustomerSegment": "Regular Customer"
                                },
                                {
                                    "Customer": "Wingtip Toys (Liberty Grove, MD)",
                                    "Recency": "3416",
                                    "Frequency": "376",
                                    "Monetary": "275334.52",
                                    "CustomerSegment": "Regular Customer"
                                },
                                {
                                    "Customer": "Tailspin Toys (Heilwood, PA)",
                                    "Recency": "3424",
                                    "Frequency": "379",
                                    "Monetary": "274974.74",
                                    "CustomerSegment": "Regular Customer"
                                },
                                {
                                    "Customer": "Tailspin Toys (Bratenahl, OH)",
                                    "Recency": "3418",
                                    "Frequency": "327",
                                    "Monetary": "274933.76",
                                    "CustomerSegment": "Regular Customer"
                                },
                                {
                                    "Customer": "Wingtip Toys (Palmas del Mar, PR)",
                                    "Recency": "3406",
                                    "Frequency": "336",
                                    "Monetary": "274271.27",
                                    "CustomerSegment": "Regular Customer"
                                },
                                {
                                    "Customer": "Tailspin Toys (Aceitunas, PR)",
                                    "Recency": "3412",
                                    "Frequency": "344",
                                    "Monetary": "273285.36",
                                    "CustomerSegment": "Regular Customer"
                                },
                                {
                                    "Customer": "Tailspin Toys (Tresckow, PA)",
                                    "Recency": "3409",
                                    "Frequency": "342",
                                    "Monetary": "272975.48",
                                    "CustomerSegment": "Regular Customer"
                                },
                                {
                                    "Customer": "Wingtip Toys (Claycomo, MO)",
                                    "Recency": "3424",
                                    "Frequency": "355",
                                    "Monetary": "272919.32",
                                    "CustomerSegment": "Regular Customer"
                                },
                                {
                                    "Customer": "Tailspin Toys (South Euclid, OH)",
                                    "Recency": "3417",
                                    "Frequency": "376",
                                    "Monetary": "272237.69",
                                    "CustomerSegment": "Regular Customer"
                                },
                                {
                                    "Customer": "Tailspin Toys (Saint Louis Park, MN)",
                                    "Recency": "3410",
                                    "Frequency": "359",
                                    "Monetary": "272212.96",
                                    "CustomerSegment": "Regular Customer"
                                },
                                {
                                    "Customer": "Wingtip Toys (Lowellville, OH)",
                                    "Recency": "3411",
                                    "Frequency": "346",
                                    "Monetary": "272106.80",
                                    "CustomerSegment": "Regular Customer"
                                },
                                {
                                    "Customer": "Wingtip Toys (Smoot, WY)",
                                    "Recency": "3411",
                                    "Frequency": "326",
                                    "Monetary": "271783.36",
                                    "CustomerSegment": "Regular Customer"
                                },
                                {
                                    "Customer": "Wingtip Toys (Stanardsville, VA)",
                                    "Recency": "3425",
                                    "Frequency": "341",
                                    "Monetary": "271396.82",
                                    "CustomerSegment": "Regular Customer"
                                },
                                {
                                    "Customer": "Tailspin Toys (Lake Hughes, CA)",
                                    "Recency": "3406",
                                    "Frequency": "366",
                                    "Monetary": "271330.76",
                                    "CustomerSegment": "Regular Customer"
                                },
                                {
                                    "Customer": "Tailspin Toys (Hahira, GA)",
                                    "Recency": "3431",
                                    "Frequency": "355",
                                    "Monetary": "271219.96",
                                    "CustomerSegment": "Regular Customer"
                                },
                                {
                                    "Customer": "Wingtip Toys (Ferney, SD)",
                                    "Recency": "3409",
                                    "Frequency": "368",
                                    "Monetary": "271153.51",
                                    "CustomerSegment": "Regular Customer"
                                },
                                {
                                    "Customer": "Tailspin Toys (Hollywood Park, TX)",
                                    "Recency": "3409",
                                    "Frequency": "330",
                                    "Monetary": "271098.62",
                                    "CustomerSegment": "Regular Customer"
                                },
                                {
                                    "Customer": "Wingtip Toys (Vair, TX)",
                                    "Recency": "3412",
                                    "Frequency": "357",
                                    "Monetary": "271071.58",
                                    "CustomerSegment": "Regular Customer"
                                },
                                {
                                    "Customer": "Tailspin Toys (Royal City, WA)",
                                    "Recency": "3417",
                                    "Frequency": "343",
                                    "Monetary": "271032.55",
                                    "CustomerSegment": "Regular Customer"
                                },
                                {
                                    "Customer": "Tailspin Toys (Stallion Springs, CA)",
                                    "Recency": "3422",
                                    "Frequency": "381",
                                    "Monetary": "270876.61",
                                    "CustomerSegment": "Regular Customer"
                                },
                                {
                                    "Customer": "Wingtip Toys (Valhalla, NC)",
                                    "Recency": "3438",
                                    "Frequency": "332",
                                    "Monetary": "270603.21",
                                    "CustomerSegment": "Regular Customer"
                                },
                                {
                                    "Customer": "Tailspin Toys (Lavon, TX)",
                                    "Recency": "3419",
                                    "Frequency": "315",
                                    "Monetary": "270035.95",
                                    "CustomerSegment": "Regular Customer"
                                },
                                {
                                    "Customer": "Wingtip Toys (Balko, OK)",
                                    "Recency": "3417",
                                    "Frequency": "319",
                                    "Monetary": "269409.28",
                                    "CustomerSegment": "Regular Customer"
                                },
                                {
                                    "Customer": "Wingtip Toys (Universal City, TX)",
                                    "Recency": "3410",
                                    "Frequency": "305",
                                    "Monetary": "268362.65",
                                    "CustomerSegment": "Regular Customer"
                                },
                                {
                                    "Customer": "Tailspin Toys (Baraboo, WI)",
                                    "Recency": "3418",
                                    "Frequency": "303",
                                    "Monetary": "268137.35",
                                    "CustomerSegment": "Regular Customer"
                                },
                                {
                                    "Customer": "Wingtip Toys (Lucasville, OH)",
                                    "Recency": "3406",
                                    "Frequency": "406",
                                    "Monetary": "267282.68",
                                    "CustomerSegment": "Regular Customer"
                                },
                                {
                                    "Customer": "Wingtip Toys (Caton, NY)",
                                    "Recency": "3434",
                                    "Frequency": "321",
                                    "Monetary": "267212.86",
                                    "CustomerSegment": "Regular Customer"
                                },
                                {
                                    "Customer": "Tailspin Toys (Olivette, MO)",
                                    "Recency": "3425",
                                    "Frequency": "338",
                                    "Monetary": "266264.52",
                                    "CustomerSegment": "Regular Customer"
                                },
                                {
                                    "Customer": "Wingtip Toys (Goodings Grove, IL)",
                                    "Recency": "3406",
                                    "Frequency": "327",
                                    "Monetary": "266097.28",
                                    "CustomerSegment": "Regular Customer"
                                },
                                {
                                    "Customer": "Tailspin Toys (Railroad, PA)",
                                    "Recency": "3406",
                                    "Frequency": "359",
                                    "Monetary": "266059.08",
                                    "CustomerSegment": "Regular Customer"
                                },
                                {
                                    "Customer": "Tailspin Toys (Eden Valley, MN)",
                                    "Recency": "3411",
                                    "Frequency": "323",
                                    "Monetary": "266045.14",
                                    "CustomerSegment": "Regular Customer"
                                },
                                {
                                    "Customer": "Tailspin Toys (Bow Mar, CO)",
                                    "Recency": "3416",
                                    "Frequency": "315",
                                    "Monetary": "265046.43",
                                    "CustomerSegment": "Regular Customer"
                                },
                                {
                                    "Customer": "Tailspin Toys (Fishtail, MT)",
                                    "Recency": "3409",
                                    "Frequency": "295",
                                    "Monetary": "264903.55",
                                    "CustomerSegment": "Regular Customer"
                                },
                                {
                                    "Customer": "Tailspin Toys (Wilkes-Barre, PA)",
                                    "Recency": "3417",
                                    "Frequency": "330",
                                    "Monetary": "263633.65",
                                    "CustomerSegment": "Regular Customer"
                                },
                                {
                                    "Customer": "Tailspin Toys (Antonito, CO)",
                                    "Recency": "3412",
                                    "Frequency": "357",
                                    "Monetary": "263486.96",
                                    "CustomerSegment": "Regular Customer"
                                },
                                {
                                    "Customer": "Tailspin Toys (Sylvanite, MT)",
                                    "Recency": "3422",
                                    "Frequency": "361",
                                    "Monetary": "263403.06",
                                    "CustomerSegment": "Regular Customer"
                                },
                                {
                                    "Customer": "Tailspin Toys (Arrow Rock, MO)",
                                    "Recency": "3417",
                                    "Frequency": "377",
                                    "Monetary": "263383.03",
                                    "CustomerSegment": "Regular Customer"
                                },
                                {
                                    "Customer": "Wingtip Toys (Chetek, WI)",
                                    "Recency": "3405",
                                    "Frequency": "334",
                                    "Monetary": "263237.71",
                                    "CustomerSegment": "Regular Customer"
                                },
                                {
                                    "Customer": "Wingtip Toys (Straughn, IN)",
                                    "Recency": "3427",
                                    "Frequency": "338",
                                    "Monetary": "263026.69",
                                    "CustomerSegment": "Regular Customer"
                                },
                                {
                                    "Customer": "Wingtip Toys (East Mountain, TX)",
                                    "Recency": "3413",
                                    "Frequency": "332",
                                    "Monetary": "262522.92",
                                    "CustomerSegment": "Regular Customer"
                                },
                                {
                                    "Customer": "Wingtip Toys (Crossroads, NM)",
                                    "Recency": "3412",
                                    "Frequency": "315",
                                    "Monetary": "262115.68",
                                    "CustomerSegment": "Regular Customer"
                                },
                                {
                                    "Customer": "Wingtip Toys (Helotes, TX)",
                                    "Recency": "3431",
                                    "Frequency": "333",
                                    "Monetary": "260327.02",
                                    "CustomerSegment": "Regular Customer"
                                },
                                {
                                    "Customer": "Tailspin Toys (Hiteman, IA)",
                                    "Recency": "3417",
                                    "Frequency": "333",
                                    "Monetary": "260207.46",
                                    "CustomerSegment": "Regular Customer"
                                },
                                {
                                    "Customer": "Tailspin Toys (Sun River, MT)",
                                    "Recency": "3427",
                                    "Frequency": "332",
                                    "Monetary": "259665.27",
                                    "CustomerSegment": "Regular Customer"
                                },
                                {
                                    "Customer": "Wingtip Toys (Dickworsham, TX)",
                                    "Recency": "3438",
                                    "Frequency": "341",
                                    "Monetary": "259331.07",
                                    "CustomerSegment": "Regular Customer"
                                },
                                {
                                    "Customer": "Tailspin Toys (Tunnelhill, PA)",
                                    "Recency": "3420",
                                    "Frequency": "329",
                                    "Monetary": "259216.21",
                                    "CustomerSegment": "Regular Customer"
                                },
                                {
                                    "Customer": "Tailspin Toys (Muir, MI)",
                                    "Recency": "3416",
                                    "Frequency": "322",
                                    "Monetary": "258613.37",
                                    "CustomerSegment": "Regular Customer"
                                },
                                {
                                    "Customer": "Wingtip Toys (McAdenville, NC)",
                                    "Recency": "3418",
                                    "Frequency": "314",
                                    "Monetary": "258496.00",
                                    "CustomerSegment": "Regular Customer"
                                },
                                {
                                    "Customer": "Tailspin Toys (Great Neck Estates, NY)",
                                    "Recency": "3406",
                                    "Frequency": "307",
                                    "Monetary": "258178.34",
                                    "CustomerSegment": "Regular Customer"
                                },
                                {
                                    "Customer": "Tailspin Toys (College Place, WA)",
                                    "Recency": "3416",
                                    "Frequency": "327",
                                    "Monetary": "258144.17",
                                    "CustomerSegment": "Regular Customer"
                                },
                                {
                                    "Customer": "Tailspin Toys (Diablock, KY)",
                                    "Recency": "3416",
                                    "Frequency": "284",
                                    "Monetary": "257561.21",
                                    "CustomerSegment": "Regular Customer"
                                },
                                {
                                    "Customer": "Tailspin Toys (Naples Park, FL)",
                                    "Recency": "3413",
                                    "Frequency": "314",
                                    "Monetary": "257528.63",
                                    "CustomerSegment": "Regular Customer"
                                },
                                {
                                    "Customer": "Wingtip Toys (Beals, ME)",
                                    "Recency": "3405",
                                    "Frequency": "326",
                                    "Monetary": "257519.54",
                                    "CustomerSegment": "Regular Customer"
                                },
                                {
                                    "Customer": "Tailspin Toys (East Dailey, WV)",
                                    "Recency": "3425",
                                    "Frequency": "298",
                                    "Monetary": "256970.44",
                                    "CustomerSegment": "Regular Customer"
                                },
                                {
                                    "Customer": "Tailspin Toys (Lemeta, AK)",
                                    "Recency": "3427",
                                    "Frequency": "334",
                                    "Monetary": "256824.93",
                                    "CustomerSegment": "Regular Customer"
                                },
                                {
                                    "Customer": "Wingtip Toys (Penns Creek, PA)",
                                    "Recency": "3405",
                                    "Frequency": "319",
                                    "Monetary": "256403.33",
                                    "CustomerSegment": "Regular Customer"
                                },
                                {
                                    "Customer": "Wingtip Toys (Corcovado, PR)",
                                    "Recency": "3416",
                                    "Frequency": "337",
                                    "Monetary": "255874.88",
                                    "CustomerSegment": "Regular Customer"
                                },
                                {
                                    "Customer": "Wingtip Toys (North Manitou, MI)",
                                    "Recency": "3411",
                                    "Frequency": "294",
                                    "Monetary": "255768.90",
                                    "CustomerSegment": "Regular Customer"
                                },
                                {
                                    "Customer": "Tailspin Toys (Wallagrass, ME)",
                                    "Recency": "3415",
                                    "Frequency": "328",
                                    "Monetary": "254811.42",
                                    "CustomerSegment": "Regular Customer"
                                },
                                {
                                    "Customer": "Tailspin Toys (Lakemore, OH)",
                                    "Recency": "3410",
                                    "Frequency": "316",
                                    "Monetary": "254749.92",
                                    "CustomerSegment": "Regular Customer"
                                },
                                {
                                    "Customer": "Wingtip Toys (Dickerson, MD)",
                                    "Recency": "3425",
                                    "Frequency": "318",
                                    "Monetary": "254678.38",
                                    "CustomerSegment": "Regular Customer"
                                },
                                {
                                    "Customer": "Tailspin Toys (Tomnolen, MS)",
                                    "Recency": "3416",
                                    "Frequency": "303",
                                    "Monetary": "254457.77",
                                    "CustomerSegment": "Regular Customer"
                                },
                                {
                                    "Customer": "Wingtip Toys (Saint Landry, LA)",
                                    "Recency": "3411",
                                    "Frequency": "334",
                                    "Monetary": "253183.86",
                                    "CustomerSegment": "Regular Customer"
                                },
                                {
                                    "Customer": "Wingtip Toys (Glancy, MS)",
                                    "Recency": "3410",
                                    "Frequency": "302",
                                    "Monetary": "252198.01",
                                    "CustomerSegment": "Regular Customer"
                                },
                                {
                                    "Customer": "Tailspin Toys (Stonefort, IL)",
                                    "Recency": "3410",
                                    "Frequency": "269",
                                    "Monetary": "251054.53",
                                    "CustomerSegment": "Regular Customer"
                                },
                                {
                                    "Customer": "Tailspin Toys (Ikatan, AK)",
                                    "Recency": "3409",
                                    "Frequency": "340",
                                    "Monetary": "250853.97",
                                    "CustomerSegment": "Regular Customer"
                                },
                                {
                                    "Customer": "Wingtip Toys (Compass Lake, FL)",
                                    "Recency": "3422",
                                    "Frequency": "366",
                                    "Monetary": "249759.42",
                                    "CustomerSegment": "Regular Customer"
                                },
                                {
                                    "Customer": "Tailspin Toys (Ward Ridge, FL)",
                                    "Recency": "3411",
                                    "Frequency": "289",
                                    "Monetary": "247930.94",
                                    "CustomerSegment": "Regular Customer"
                                },
                                {
                                    "Customer": "Wingtip Toys (Munich, ND)",
                                    "Recency": "3406",
                                    "Frequency": "312",
                                    "Monetary": "247419.96",
                                    "CustomerSegment": "Regular Customer"
                                },
                                {
                                    "Customer": "Wingtip Toys (Del Valle, TX)",
                                    "Recency": "3413",
                                    "Frequency": "312",
                                    "Monetary": "246790.20",
                                    "CustomerSegment": "Regular Customer"
                                },
                                {
                                    "Customer": "Wingtip Toys (Edmund, WI)",
                                    "Recency": "3410",
                                    "Frequency": "308",
                                    "Monetary": "246631.63",
                                    "CustomerSegment": "Regular Customer"
                                },
                                {
                                    "Customer": "Wingtip Toys (Morita, TX)",
                                    "Recency": "3416",
                                    "Frequency": "282",
                                    "Monetary": "245335.29",
                                    "CustomerSegment": "Regular Customer"
                                },
                                {
                                    "Customer": "Wingtip Toys (Lostine, OR)",
                                    "Recency": "3412",
                                    "Frequency": "317",
                                    "Monetary": "245023.03",
                                    "CustomerSegment": "Regular Customer"
                                },
                                {
                                    "Customer": "Wingtip Toys (Baldwin City, KS)",
                                    "Recency": "3412",
                                    "Frequency": "295",
                                    "Monetary": "244505.61",
                                    "CustomerSegment": "Regular Customer"
                                },
                                {
                                    "Customer": "Tailspin Toys (Fairfield Glade, TN)",
                                    "Recency": "3413",
                                    "Frequency": "345",
                                    "Monetary": "243660.79",
                                    "CustomerSegment": "Regular Customer"
                                },
                                {
                                    "Customer": "Tailspin Toys (Ekron, KY)",
                                    "Recency": "3416",
                                    "Frequency": "344",
                                    "Monetary": "242790.53",
                                    "CustomerSegment": "Regular Customer"
                                },
                                {
                                    "Customer": "Wingtip Toys (Jeromesville, OH)",
                                    "Recency": "3406",
                                    "Frequency": "308",
                                    "Monetary": "240189.80",
                                    "CustomerSegment": "Regular Customer"
                                },
                                {
                                    "Customer": "Tailspin Toys (San Acacia, NM)",
                                    "Recency": "3406",
                                    "Frequency": "312",
                                    "Monetary": "238557.32",
                                    "CustomerSegment": "Regular Customer"
                                },
                                {
                                    "Customer": "Tailspin Toys (Dundarrach, NC)",
                                    "Recency": "3412",
                                    "Frequency": "325",
                                    "Monetary": "237173.44",
                                    "CustomerSegment": "Regular Customer"
                                },
                                {
                                    "Customer": "Wingtip Toys (Miesville, MN)",
                                    "Recency": "3405",
                                    "Frequency": "354",
                                    "Monetary": "236065.97",
                                    "CustomerSegment": "Regular Customer"
                                },
                                {
                                    "Customer": "Wingtip Toys (Chaseley, ND)",
                                    "Recency": "3423",
                                    "Frequency": "307",
                                    "Monetary": "235394.21",
                                    "CustomerSegment": "Regular Customer"
                                },
                                {
                                    "Customer": "Tailspin Toys (Alstead, NH)",
                                    "Recency": "3417",
                                    "Frequency": "315",
                                    "Monetary": "234908.16",
                                    "CustomerSegment": "Regular Customer"
                                },
                                {
                                    "Customer": "Tailspin Toys (Francis Mills, NJ)",
                                    "Recency": "3406",
                                    "Frequency": "306",
                                    "Monetary": "234380.06",
                                    "CustomerSegment": "Regular Customer"
                                },
                                {
                                    "Customer": "Wingtip Toys (Mount Summit, IN)",
                                    "Recency": "3410",
                                    "Frequency": "321",
                                    "Monetary": "233807.24",
                                    "CustomerSegment": "Regular Customer"
                                },
                                {
                                    "Customer": "Wingtip Toys (New Laguna, NM)",
                                    "Recency": "3410",
                                    "Frequency": "312",
                                    "Monetary": "231476.81",
                                    "CustomerSegment": "Regular Customer"
                                },
                                {
                                    "Customer": "Wingtip Toys (Ovilla, TX)",
                                    "Recency": "3411",
                                    "Frequency": "316",
                                    "Monetary": "229358.13",
                                    "CustomerSegment": "Regular Customer"
                                },
                                {
                                    "Customer": "Wingtip Toys (Heartwell, NE)",
                                    "Recency": "3408",
                                    "Frequency": "296",
                                    "Monetary": "228308.02",
                                    "CustomerSegment": "Regular Customer"
                                },
                                {
                                    "Customer": "Wingtip Toys (Portales, NM)",
                                    "Recency": "3406",
                                    "Frequency": "342",
                                    "Monetary": "226850.09",
                                    "CustomerSegment": "Regular Customer"
                                },
                                {
                                    "Customer": "Wingtip Toys (Cape Neddick, ME)",
                                    "Recency": "3410",
                                    "Frequency": "339",
                                    "Monetary": "224217.60",
                                    "CustomerSegment": "Regular Customer"
                                },
                                {
                                    "Customer": "Wingtip Toys (Morton Grove, IL)",
                                    "Recency": "3409",
                                    "Frequency": "264",
                                    "Monetary": "218468.60",
                                    "CustomerSegment": "Regular Customer"
                                },
                                {
                                    "Customer": "Tailspin Toys (Madaket, MA)",
                                    "Recency": "3455",
                                    "Frequency": "282",
                                    "Monetary": "216859.44",
                                    "CustomerSegment": "Regular Customer"
                                },
                                {
                                    "Customer": "Wingtip Toys (Nuangola, PA)",
                                    "Recency": "3430",
                                    "Frequency": "310",
                                    "Monetary": "213347.65",
                                    "CustomerSegment": "Regular Customer"
                                },
                                {
                                    "Customer": "Tailspin Toys (Magalia, CA)",
                                    "Recency": "3409",
                                    "Frequency": "273",
                                    "Monetary": "210738.60",
                                    "CustomerSegment": "Regular Customer"
                                },
                                {
                                    "Customer": "Wingtip Toys (Willow Valley, AZ)",
                                    "Recency": "3423",
                                    "Frequency": "312",
                                    "Monetary": "210737.59",
                                    "CustomerSegment": "Regular Customer"
                                },
                                {
                                    "Customer": "Tailspin Toys (Oriole Beach, FL)",
                                    "Recency": "3439",
                                    "Frequency": "262",
                                    "Monetary": "208152.51",
                                    "CustomerSegment": "Regular Customer"
                                },
                                {
                                    "Customer": "Wingtip Toys (Marin City, CA)",
                                    "Recency": "3438",
                                    "Frequency": "298",
                                    "Monetary": "195103.31",
                                    "CustomerSegment": "Regular Customer"
                                },
                                {
                                    "Customer": "Wingtip Toys (Cherryplain, NY)",
                                    "Recency": "3406",
                                    "Frequency": "242",
                                    "Monetary": "177687.49",
                                    "CustomerSegment": "Regular Customer"
                                }
                            ]
                        },
                        "text/html": "<table><tr><th>Customer</th><th>Recency</th><th>Frequency</th><th>Monetary</th><th>CustomerSegment</th></tr><tr><td>Unknown</td><td>3405</td><td>84297</td><td>73037043.78</td><td>Regular Customer</td></tr><tr><td>Tailspin Toys (Inguadona, MN)</td><td>3412</td><td>434</td><td>438689.81</td><td>Regular Customer</td></tr><tr><td>Tailspin Toys (Minidoka, ID)</td><td>3410</td><td>419</td><td>427445.57</td><td>Regular Customer</td></tr><tr><td>Wingtip Toys (Sarversville, PA)</td><td>3430</td><td>432</td><td>420001.08</td><td>Regular Customer</td></tr><tr><td>Tailspin Toys (Long Meadow, MD)</td><td>3406</td><td>392</td><td>414934.18</td><td>Regular Customer</td></tr><tr><td>Wingtip Toys (San Jacinto, CA)</td><td>3412</td><td>398</td><td>408524.95</td><td>Regular Customer</td></tr><tr><td>Wingtip Toys (Cuyamungue, NM)</td><td>3408</td><td>401</td><td>405824.67</td><td>Regular Customer</td></tr><tr><td>Wingtip Toys (Morrison Bluff, AR)</td><td>3412</td><td>368</td><td>404945.65</td><td>Regular Customer</td></tr><tr><td>Wingtip Toys (Grabill, IN)</td><td>3406</td><td>389</td><td>403635.05</td><td>Regular Customer</td></tr><tr><td>Wingtip Toys (West Frostproof, FL)</td><td>3409</td><td>436</td><td>398563.46</td><td>Regular Customer</td></tr><tr><td>Tailspin Toys (Fieldbrook, CA)</td><td>3408</td><td>405</td><td>395482.71</td><td>Regular Customer</td></tr><tr><td>Wingtip Toys (Wapinitia, OR)</td><td>3417</td><td>372</td><td>394690.76</td><td>Regular Customer</td></tr><tr><td>Tailspin Toys (Vidrine, LA)</td><td>3406</td><td>455</td><td>391035.18</td><td>Regular Customer</td></tr><tr><td>Tailspin Toys (Maypearl, TX)</td><td>3412</td><td>436</td><td>390598.17</td><td>Regular Customer</td></tr><tr><td>Tailspin Toys (Good Hart, MI)</td><td>3406</td><td>399</td><td>390560.21</td><td>Regular Customer</td></tr><tr><td>Tailspin Toys (Buell, MO)</td><td>3405</td><td>401</td><td>388351.75</td><td>Regular Customer</td></tr><tr><td>Wingtip Toys (Wapiti, WY)</td><td>3417</td><td>389</td><td>386677.73</td><td>Regular Customer</td></tr><tr><td>Wingtip Toys (Key Biscayne, FL)</td><td>3412</td><td>441</td><td>385311.61</td><td>Regular Customer</td></tr><tr><td>Tailspin Toys (Sentinel Butte, ND)</td><td>3413</td><td>415</td><td>385215.57</td><td>Regular Customer</td></tr><tr><td>Tailspin Toys (Big Moose, NY)</td><td>3409</td><td>369</td><td>384621.35</td><td>Regular Customer</td></tr><tr><td>Wingtip Toys (Mickleton, NJ)</td><td>3411</td><td>404</td><td>382238.57</td><td>Regular Customer</td></tr><tr><td>Wingtip Toys (Bourneville, OH)</td><td>3409</td><td>428</td><td>382043.60</td><td>Regular Customer</td></tr><tr><td>Wingtip Toys (Stoneboro, PA)</td><td>3416</td><td>363</td><td>381784.52</td><td>Regular Customer</td></tr><tr><td>Wingtip Toys (Lynne, FL)</td><td>3405</td><td>406</td><td>377617.88</td><td>Regular Customer</td></tr><tr><td>Wingtip Toys (Bokeelia, FL)</td><td>3409</td><td>375</td><td>377580.50</td><td>Regular Customer</td></tr><tr><td>Wingtip Toys (Homer City, PA)</td><td>3409</td><td>362</td><td>377528.39</td><td>Regular Customer</td></tr><tr><td>Wingtip Toys (Truscott, TX)</td><td>3408</td><td>383</td><td>377395.35</td><td>Regular Customer</td></tr><tr><td>Wingtip Toys (Haycock, AK)</td><td>3410</td><td>406</td><td>377386.35</td><td>Regular Customer</td></tr><tr><td>Tailspin Toys (Cheyenne Wells, CO)</td><td>3416</td><td>381</td><td>376640.75</td><td>Regular Customer</td></tr><tr><td>Wingtip Toys (Knights Landing, CA)</td><td>3417</td><td>412</td><td>376499.05</td><td>Regular Customer</td></tr><tr><td>Wingtip Toys (Oak Point, TX)</td><td>3432</td><td>387</td><td>376167.20</td><td>Regular Customer</td></tr><tr><td>Tailspin Toys (North Cowden, TX)</td><td>3409</td><td>359</td><td>376046.24</td><td>Regular Customer</td></tr><tr><td>Tailspin Toys (Airport Drive, MO)</td><td>3418</td><td>404</td><td>374738.45</td><td>Regular Customer</td></tr><tr><td>Tailspin Toys (Frankewing, TN)</td><td>3409</td><td>412</td><td>374228.14</td><td>Regular Customer</td></tr><tr><td>Tailspin Toys (Lesslie, SC)</td><td>3405</td><td>428</td><td>374025.99</td><td>Regular Customer</td></tr><tr><td>Tailspin Toys (Eastchester, NY)</td><td>3410</td><td>372</td><td>372438.38</td><td>Regular Customer</td></tr><tr><td>Tailspin Toys (Placer, OR)</td><td>3410</td><td>396</td><td>369625.73</td><td>Regular Customer</td></tr><tr><td>Tailspin Toys (Bethania, NC)</td><td>3416</td><td>382</td><td>369409.86</td><td>Regular Customer</td></tr><tr><td>Tailspin Toys (Impact, TX)</td><td>3410</td><td>340</td><td>369338.58</td><td>Regular Customer</td></tr><tr><td>Wingtip Toys (Sayner, WI)</td><td>3406</td><td>371</td><td>368777.21</td><td>Regular Customer</td></tr><tr><td>Tailspin Toys (Brown City, MI)</td><td>3408</td><td>357</td><td>368097.01</td><td>Regular Customer</td></tr><tr><td>Tailspin Toys (New Lexington, OH)</td><td>3409</td><td>344</td><td>367622.71</td><td>Regular Customer</td></tr><tr><td>Wingtip Toys (Jamison, IA)</td><td>3409</td><td>419</td><td>367040.48</td><td>Regular Customer</td></tr><tr><td>Wingtip Toys (Omer, MI)</td><td>3406</td><td>401</td><td>366127.15</td><td>Regular Customer</td></tr><tr><td>Wingtip Toys (North Beach Haven, NJ)</td><td>3410</td><td>386</td><td>365790.58</td><td>Regular Customer</td></tr><tr><td>Wingtip Toys (Rich Creek, VA)</td><td>3423</td><td>403</td><td>365339.16</td><td>Regular Customer</td></tr><tr><td>Wingtip Toys (Montoya, NM)</td><td>3405</td><td>350</td><td>365166.20</td><td>Regular Customer</td></tr><tr><td>Tailspin Toys (Victory Gardens, NJ)</td><td>3406</td><td>395</td><td>364572.69</td><td>Regular Customer</td></tr><tr><td>Tailspin Toys (Wimbledon, ND)</td><td>3412</td><td>385</td><td>364562.07</td><td>Regular Customer</td></tr><tr><td>Wingtip Toys (Kapa&#39;a, HI)</td><td>3410</td><td>416</td><td>364314.77</td><td>Regular Customer</td></tr><tr><td>Wingtip Toys (Plaquemine, LA)</td><td>3410</td><td>381</td><td>364250.40</td><td>Regular Customer</td></tr><tr><td>Tailspin Toys (Hayes Center, NE)</td><td>3412</td><td>359</td><td>363726.13</td><td>Regular Customer</td></tr><tr><td>Tailspin Toys (Lake Erie Beach, NY)</td><td>3419</td><td>403</td><td>363303.29</td><td>Regular Customer</td></tr><tr><td>Wingtip Toys (Leathersville, GA)</td><td>3412</td><td>328</td><td>363089.82</td><td>Regular Customer</td></tr><tr><td>Wingtip Toys (Connoquenessing, PA)</td><td>3408</td><td>380</td><td>363009.39</td><td>Regular Customer</td></tr><tr><td>Wingtip Toys (Indian Creek, IL)</td><td>3406</td><td>399</td><td>362088.90</td><td>Regular Customer</td></tr><tr><td>Tailspin Toys (Sekiu, WA)</td><td>3420</td><td>432</td><td>361979.92</td><td>Regular Customer</td></tr><tr><td>Tailspin Toys (South Laguna, CA)</td><td>3405</td><td>314</td><td>361850.63</td><td>Regular Customer</td></tr><tr><td>Tailspin Toys (North Crows Nest, IN)</td><td>3417</td><td>443</td><td>360914.78</td><td>Regular Customer</td></tr><tr><td>Tailspin Toys (Optimo, NM)</td><td>3413</td><td>332</td><td>360861.94</td><td>Regular Customer</td></tr><tr><td>Wingtip Toys (Deeson, MS)</td><td>3409</td><td>363</td><td>360103.50</td><td>Regular Customer</td></tr><tr><td>Wingtip Toys (Lilbourn, MO)</td><td>3413</td><td>397</td><td>359996.12</td><td>Regular Customer</td></tr><tr><td>Wingtip Toys (Harkers Island, NC)</td><td>3410</td><td>429</td><td>359784.28</td><td>Regular Customer</td></tr><tr><td>Wingtip Toys (Islip Terrace, NY)</td><td>3417</td><td>396</td><td>359677.39</td><td>Regular Customer</td></tr><tr><td>Wingtip Toys (Schererville, IN)</td><td>3422</td><td>368</td><td>359277.98</td><td>Regular Customer</td></tr><tr><td>Tailspin Toys (Guin, AL)</td><td>3425</td><td>377</td><td>358399.39</td><td>Regular Customer</td></tr><tr><td>Wingtip Toys (Lake Ronkonkoma, NY)</td><td>3406</td><td>366</td><td>356657.01</td><td>Regular Customer</td></tr><tr><td>Tailspin Toys (Furley, KS)</td><td>3409</td><td>402</td><td>356016.92</td><td>Regular Customer</td></tr><tr><td>Wingtip Toys (Lime Lake, NY)</td><td>3425</td><td>365</td><td>355264.71</td><td>Regular Customer</td></tr><tr><td>Wingtip Toys (Bourbonnais, IL)</td><td>3416</td><td>416</td><td>354217.86</td><td>Regular Customer</td></tr><tr><td>Wingtip Toys (Tuscaloosa, AL)</td><td>3405</td><td>371</td><td>353773.73</td><td>Regular Customer</td></tr><tr><td>Tailspin Toys (Peeples Valley, AZ)</td><td>3406</td><td>437</td><td>353580.24</td><td>Regular Customer</td></tr><tr><td>Wingtip Toys (Queen Valley, AZ)</td><td>3429</td><td>385</td><td>353508.71</td><td>Regular Customer</td></tr><tr><td>Tailspin Toys (Malott, WA)</td><td>3419</td><td>357</td><td>353095.22</td><td>Regular Customer</td></tr><tr><td>Tailspin Toys (Orrtanna, PA)</td><td>3406</td><td>387</td><td>353049.60</td><td>Regular Customer</td></tr><tr><td>Tailspin Toys (Bowlus, MN)</td><td>3411</td><td>383</td><td>352843.77</td><td>Regular Customer</td></tr><tr><td>Tailspin Toys (Devault, PA)</td><td>3405</td><td>366</td><td>352584.97</td><td>Regular Customer</td></tr><tr><td>Tailspin Toys (Sauquoit, NY)</td><td>3405</td><td>340</td><td>351615.27</td><td>Regular Customer</td></tr><tr><td>Wingtip Toys (Tea, SD)</td><td>3406</td><td>350</td><td>351596.69</td><td>Regular Customer</td></tr><tr><td>Tailspin Toys (Head Office)</td><td>3409</td><td>406</td><td>351298.08</td><td>Regular Customer</td></tr><tr><td>Wingtip Toys (Lake Davis, CA)</td><td>3420</td><td>383</td><td>351162.24</td><td>Regular Customer</td></tr><tr><td>Tailspin Toys (Upper Preston, WA)</td><td>3423</td><td>348</td><td>350717.35</td><td>Regular Customer</td></tr><tr><td>Tailspin Toys (Marcell, MN)</td><td>3406</td><td>355</td><td>349244.26</td><td>Regular Customer</td></tr><tr><td>Tailspin Toys (Kerby, OR)</td><td>3417</td><td>386</td><td>348995.70</td><td>Regular Customer</td></tr><tr><td>Tailspin Toys (South La Paloma, TX)</td><td>3418</td><td>342</td><td>348057.19</td><td>Regular Customer</td></tr><tr><td>Wingtip Toys (Lost River, ID)</td><td>3416</td><td>379</td><td>347517.39</td><td>Regular Customer</td></tr><tr><td>Wingtip Toys (Bonner Springs, KS)</td><td>3417</td><td>387</td><td>347382.60</td><td>Regular Customer</td></tr><tr><td>Wingtip Toys (Bruceton Mills, WV)</td><td>3424</td><td>400</td><td>346417.36</td><td>Regular Customer</td></tr><tr><td>Tailspin Toys (Vassalboro, ME)</td><td>3422</td><td>407</td><td>345756.89</td><td>Regular Customer</td></tr><tr><td>Wingtip Toys (Pikeview, CO)</td><td>3411</td><td>361</td><td>345740.44</td><td>Regular Customer</td></tr><tr><td>Wingtip Toys (Accomac, VA)</td><td>3406</td><td>368</td><td>345606.29</td><td>Regular Customer</td></tr><tr><td>Wingtip Toys (Branson West, MO)</td><td>3417</td><td>358</td><td>345198.81</td><td>Regular Customer</td></tr><tr><td>Wingtip Toys (Bernstein, TX)</td><td>3412</td><td>410</td><td>344705.87</td><td>Regular Customer</td></tr><tr><td>Tailspin Toys (Navassa, NC)</td><td>3417</td><td>385</td><td>344491.34</td><td>Regular Customer</td></tr><tr><td>Tailspin Toys (Koontzville, WA)</td><td>3437</td><td>382</td><td>344272.38</td><td>Regular Customer</td></tr><tr><td>Tailspin Toys (Medicine Lodge, KS)</td><td>3438</td><td>316</td><td>343935.50</td><td>Regular Customer</td></tr><tr><td>Tailspin Toys (El Centro, CA)</td><td>3416</td><td>358</td><td>343710.19</td><td>Regular Customer</td></tr><tr><td>Tailspin Toys (Belgreen, AL)</td><td>3410</td><td>339</td><td>343597.84</td><td>Regular Customer</td></tr><tr><td>Wingtip Toys (Taft Heights, CA)</td><td>3415</td><td>345</td><td>342952.98</td><td>Regular Customer</td></tr><tr><td>Tailspin Toys (Armstrong Creek, WI)</td><td>3433</td><td>380</td><td>342817.06</td><td>Regular Customer</td></tr><tr><td>Tailspin Toys (McCamey, TX)</td><td>3405</td><td>384</td><td>342660.42</td><td>Regular Customer</td></tr><tr><td>Wingtip Toys (Trout Run, PA)</td><td>3416</td><td>365</td><td>342348.20</td><td>Regular Customer</td></tr><tr><td>Tailspin Toys (Gum Branch, GA)</td><td>3416</td><td>356</td><td>342296.13</td><td>Regular Customer</td></tr><tr><td>Tailspin Toys (Batson, TX)</td><td>3453</td><td>386</td><td>340960.65</td><td>Regular Customer</td></tr><tr><td>Wingtip Toys (Mier, IN)</td><td>3406</td><td>390</td><td>340812.79</td><td>Regular Customer</td></tr><tr><td>Wingtip Toys (Port Hueneme, CA)</td><td>3408</td><td>358</td><td>340110.98</td><td>Regular Customer</td></tr><tr><td>Wingtip Toys (Idaho City, ID)</td><td>3411</td><td>380</td><td>340076.79</td><td>Regular Customer</td></tr><tr><td>Tailspin Toys (Tierra Verde, FL)</td><td>3409</td><td>415</td><td>340017.19</td><td>Regular Customer</td></tr><tr><td>Tailspin Toys (Coney Island, MO)</td><td>3409</td><td>411</td><td>339739.14</td><td>Regular Customer</td></tr><tr><td>Wingtip Toys (Mayhill, NM)</td><td>3415</td><td>379</td><td>339530.83</td><td>Regular Customer</td></tr><tr><td>Tailspin Toys (Tolna, ND)</td><td>3405</td><td>443</td><td>338962.74</td><td>Regular Customer</td></tr><tr><td>Tailspin Toys (Tavares, FL)</td><td>3427</td><td>366</td><td>338676.11</td><td>Regular Customer</td></tr><tr><td>Wingtip Toys (Isabela, PR)</td><td>3405</td><td>365</td><td>338074.33</td><td>Regular Customer</td></tr><tr><td>Wingtip Toys (Plum Branch, SC)</td><td>3411</td><td>398</td><td>337801.00</td><td>Regular Customer</td></tr><tr><td>Wingtip Toys (Mahaffey, PA)</td><td>3452</td><td>367</td><td>337441.14</td><td>Regular Customer</td></tr><tr><td>Tailspin Toys (Saks, AL)</td><td>3406</td><td>389</td><td>337410.77</td><td>Regular Customer</td></tr><tr><td>Wingtip Toys (Birds, IL)</td><td>3405</td><td>350</td><td>337397.26</td><td>Regular Customer</td></tr><tr><td>Tailspin Toys (Indios, PR)</td><td>3423</td><td>330</td><td>337361.44</td><td>Regular Customer</td></tr><tr><td>Tailspin Toys (New Baden, IL)</td><td>3418</td><td>433</td><td>337354.24</td><td>Regular Customer</td></tr><tr><td>Wingtip Toys (Coin, IA)</td><td>3430</td><td>387</td><td>336577.02</td><td>Regular Customer</td></tr><tr><td>Tailspin Toys (McClave, CO)</td><td>3406</td><td>375</td><td>336279.11</td><td>Regular Customer</td></tr><tr><td>Tailspin Toys (Valdese, NC)</td><td>3418</td><td>392</td><td>335837.65</td><td>Regular Customer</td></tr><tr><td>Wingtip Toys (Plata, TX)</td><td>3406</td><td>366</td><td>335807.52</td><td>Regular Customer</td></tr><tr><td>Wingtip Toys (Ware Shoals, SC)</td><td>3409</td><td>380</td><td>335579.88</td><td>Regular Customer</td></tr><tr><td>Tailspin Toys (Carbonville, UT)</td><td>3413</td><td>341</td><td>334355.34</td><td>Regular Customer</td></tr><tr><td>Tailspin Toys (Maple Shade, NJ)</td><td>3453</td><td>396</td><td>333361.38</td><td>Regular Customer</td></tr><tr><td>Tailspin Toys (Annamoriah, WV)</td><td>3416</td><td>365</td><td>332736.32</td><td>Regular Customer</td></tr><tr><td>Tailspin Toys (North Ridge, NY)</td><td>3405</td><td>373</td><td>332198.50</td><td>Regular Customer</td></tr><tr><td>Wingtip Toys (Rosa Sánchez, PR)</td><td>3423</td><td>372</td><td>332196.33</td><td>Regular Customer</td></tr><tr><td>Tailspin Toys (Slanesville, WV)</td><td>3405</td><td>422</td><td>332128.48</td><td>Regular Customer</td></tr><tr><td>Tailspin Toys (Arietta, NY)</td><td>3406</td><td>390</td><td>331871.87</td><td>Regular Customer</td></tr><tr><td>Wingtip Toys (White Church, MO)</td><td>3409</td><td>344</td><td>331296.84</td><td>Regular Customer</td></tr><tr><td>Tailspin Toys (Roe Park, NY)</td><td>3406</td><td>366</td><td>331259.50</td><td>Regular Customer</td></tr><tr><td>Wingtip Toys (Mooringsport, LA)</td><td>3412</td><td>379</td><td>330612.51</td><td>Regular Customer</td></tr><tr><td>Wingtip Toys (Bergen Park, CO)</td><td>3409</td><td>374</td><td>329996.05</td><td>Regular Customer</td></tr><tr><td>Tailspin Toys (Cundiyo, NM)</td><td>3426</td><td>346</td><td>329650.82</td><td>Regular Customer</td></tr><tr><td>Tailspin Toys (Ashtabula, OH)</td><td>3406</td><td>387</td><td>329244.04</td><td>Regular Customer</td></tr><tr><td>Tailspin Toys (Wappingers Falls, NY)</td><td>3417</td><td>377</td><td>328911.35</td><td>Regular Customer</td></tr><tr><td>Wingtip Toys (Cadogan, PA)</td><td>3405</td><td>360</td><td>328802.96</td><td>Regular Customer</td></tr><tr><td>Wingtip Toys (Yaak, MT)</td><td>3409</td><td>377</td><td>328628.25</td><td>Regular Customer</td></tr><tr><td>Wingtip Toys (Salt Wells, NV)</td><td>3415</td><td>403</td><td>328378.21</td><td>Regular Customer</td></tr><tr><td>Tailspin Toys (Hedrick, IA)</td><td>3432</td><td>400</td><td>327805.89</td><td>Regular Customer</td></tr><tr><td>Wingtip Toys (Obetz, OH)</td><td>3405</td><td>397</td><td>327538.08</td><td>Regular Customer</td></tr><tr><td>Tailspin Toys (Manchester Center, VT)</td><td>3452</td><td>405</td><td>327530.73</td><td>Regular Customer</td></tr><tr><td>Tailspin Toys (East Fultonham, OH)</td><td>3418</td><td>384</td><td>327488.86</td><td>Regular Customer</td></tr><tr><td>Wingtip Toys (Silver Plume, CO)</td><td>3411</td><td>385</td><td>327317.74</td><td>Regular Customer</td></tr><tr><td>Wingtip Toys (Bethel Acres, OK)</td><td>3410</td><td>380</td><td>326876.81</td><td>Regular Customer</td></tr><tr><td>Wingtip Toys (Nichols Hills, OK)</td><td>3419</td><td>301</td><td>326771.53</td><td>Regular Customer</td></tr><tr><td>Tailspin Toys (Boyden Arbor, SC)</td><td>3409</td><td>375</td><td>326197.71</td><td>Regular Customer</td></tr><tr><td>Tailspin Toys (Netcong, NJ)</td><td>3412</td><td>346</td><td>325580.84</td><td>Regular Customer</td></tr><tr><td>Wingtip Toys (Paw Paw Lake, MI)</td><td>3408</td><td>350</td><td>325446.10</td><td>Regular Customer</td></tr><tr><td>Wingtip Toys (Highland Home, AL)</td><td>3439</td><td>366</td><td>324156.89</td><td>Regular Customer</td></tr><tr><td>Tailspin Toys (Antares, AZ)</td><td>3405</td><td>369</td><td>324134.40</td><td>Regular Customer</td></tr><tr><td>Tailspin Toys (Kalvesta, KS)</td><td>3416</td><td>376</td><td>324098.97</td><td>Regular Customer</td></tr><tr><td>Tailspin Toys (Tumacacori, AZ)</td><td>3411</td><td>390</td><td>323913.98</td><td>Regular Customer</td></tr><tr><td>Wingtip Toys (Ruthsburg, MD)</td><td>3413</td><td>373</td><td>323889.06</td><td>Regular Customer</td></tr><tr><td>Wingtip Toys (Rose Tree, PA)</td><td>3417</td><td>383</td><td>323811.91</td><td>Regular Customer</td></tr><tr><td>Wingtip Toys (Head Office)</td><td>3410</td><td>395</td><td>323352.80</td><td>Regular Customer</td></tr><tr><td>Tailspin Toys (Scofield, UT)</td><td>3409</td><td>355</td><td>323052.77</td><td>Regular Customer</td></tr><tr><td>Tailspin Toys (Glen Avon, CA)</td><td>3410</td><td>381</td><td>323014.79</td><td>Regular Customer</td></tr><tr><td>Wingtip Toys (Boalsburg, PA)</td><td>3413</td><td>348</td><td>322433.62</td><td>Regular Customer</td></tr><tr><td>Tailspin Toys (King Cove, AK)</td><td>3416</td><td>348</td><td>322270.21</td><td>Regular Customer</td></tr><tr><td>Wingtip Toys (Griswoldville, GA)</td><td>3409</td><td>370</td><td>322110.17</td><td>Regular Customer</td></tr><tr><td>Tailspin Toys (Lake Stevens, WA)</td><td>3410</td><td>380</td><td>321866.45</td><td>Regular Customer</td></tr><tr><td>Wingtip Toys (Tilleda, WI)</td><td>3416</td><td>363</td><td>321788.89</td><td>Regular Customer</td></tr><tr><td>Wingtip Toys (Lytle, TX)</td><td>3405</td><td>375</td><td>321707.67</td><td>Regular Customer</td></tr><tr><td>Wingtip Toys (Akhiok, AK)</td><td>3411</td><td>360</td><td>321706.26</td><td>Regular Customer</td></tr><tr><td>Tailspin Toys (Orchard Hill, GA)</td><td>3417</td><td>360</td><td>321666.54</td><td>Regular Customer</td></tr><tr><td>Tailspin Toys (Teutopolis, IL)</td><td>3441</td><td>377</td><td>321623.39</td><td>Regular Customer</td></tr><tr><td>Tailspin Toys (Sans Souci, SC)</td><td>3423</td><td>362</td><td>320972.96</td><td>Regular Customer</td></tr><tr><td>Wingtip Toys (Cavendish, VT)</td><td>3408</td><td>372</td><td>320836.74</td><td>Regular Customer</td></tr><tr><td>Tailspin Toys (Point Roberts, WA)</td><td>3431</td><td>356</td><td>320836.33</td><td>Regular Customer</td></tr><tr><td>Wingtip Toys (Dunkerton, IA)</td><td>3416</td><td>376</td><td>320796.51</td><td>Regular Customer</td></tr><tr><td>Wingtip Toys (Cale, AR)</td><td>3411</td><td>371</td><td>320159.23</td><td>Regular Customer</td></tr><tr><td>Tailspin Toys (Sinclair, WY)</td><td>3405</td><td>378</td><td>319851.00</td><td>Regular Customer</td></tr><tr><td>Tailspin Toys (Glen Park, NY)</td><td>3405</td><td>358</td><td>319407.33</td><td>Regular Customer</td></tr><tr><td>Wingtip Toys (Vamo, FL)</td><td>3410</td><td>358</td><td>319130.68</td><td>Regular Customer</td></tr><tr><td>Wingtip Toys (Downingtown, PA)</td><td>3416</td><td>349</td><td>319035.03</td><td>Regular Customer</td></tr><tr><td>Tailspin Toys (Avenal, CA)</td><td>3416</td><td>380</td><td>318480.92</td><td>Regular Customer</td></tr><tr><td>Tailspin Toys (Gardere, LA)</td><td>3406</td><td>394</td><td>318422.84</td><td>Regular Customer</td></tr><tr><td>Wingtip Toys (Waycross, GA)</td><td>3405</td><td>348</td><td>318326.42</td><td>Regular Customer</td></tr><tr><td>Wingtip Toys (Amado, AZ)</td><td>3420</td><td>379</td><td>318197.41</td><td>Regular Customer</td></tr><tr><td>Wingtip Toys (Karthaus, PA)</td><td>3424</td><td>358</td><td>318175.50</td><td>Regular Customer</td></tr><tr><td>Tailspin Toys (Hambleton, WV)</td><td>3412</td><td>347</td><td>317991.19</td><td>Regular Customer</td></tr><tr><td>Wingtip Toys (Athol Springs, NY)</td><td>3409</td><td>344</td><td>317893.39</td><td>Regular Customer</td></tr><tr><td>Wingtip Toys (Teutopolis, IL)</td><td>3425</td><td>347</td><td>317801.38</td><td>Regular Customer</td></tr><tr><td>Tailspin Toys (Larose, LA)</td><td>3409</td><td>356</td><td>317260.78</td><td>Regular Customer</td></tr><tr><td>Wingtip Toys (Mendoza, TX)</td><td>3410</td><td>357</td><td>317128.62</td><td>Regular Customer</td></tr><tr><td>Wingtip Toys (Cache, OK)</td><td>3405</td><td>358</td><td>315996.59</td><td>Regular Customer</td></tr><tr><td>Tailspin Toys (East Portal, CO)</td><td>3424</td><td>353</td><td>315508.25</td><td>Regular Customer</td></tr><tr><td>Tailspin Toys (Windsor Locks, CT)</td><td>3427</td><td>333</td><td>315257.74</td><td>Regular Customer</td></tr><tr><td>Wingtip Toys (Necedah, WI)</td><td>3409</td><td>343</td><td>314512.31</td><td>Regular Customer</td></tr><tr><td>Tailspin Toys (Madrone, NM)</td><td>3410</td><td>324</td><td>314404.24</td><td>Regular Customer</td></tr><tr><td>Wingtip Toys (Black Lick, PA)</td><td>3415</td><td>371</td><td>314381.09</td><td>Regular Customer</td></tr><tr><td>Tailspin Toys (Ortley Beach, NJ)</td><td>3410</td><td>384</td><td>313741.15</td><td>Regular Customer</td></tr><tr><td>Tailspin Toys (Severna Park, MD)</td><td>3411</td><td>382</td><td>313208.74</td><td>Regular Customer</td></tr><tr><td>Tailspin Toys (La Cueva, NM)</td><td>3405</td><td>352</td><td>313078.38</td><td>Regular Customer</td></tr><tr><td>Wingtip Toys (Floriston, CA)</td><td>3406</td><td>346</td><td>312732.90</td><td>Regular Customer</td></tr><tr><td>Tailspin Toys (Manahawkin, NJ)</td><td>3419</td><td>358</td><td>312431.01</td><td>Regular Customer</td></tr><tr><td>Tailspin Toys (Elrosa, MN)</td><td>3412</td><td>343</td><td>312098.27</td><td>Regular Customer</td></tr><tr><td>Tailspin Toys (Tooele, UT)</td><td>3433</td><td>407</td><td>311929.62</td><td>Regular Customer</td></tr><tr><td>Wingtip Toys (Cylon, WI)</td><td>3409</td><td>407</td><td>311866.04</td><td>Regular Customer</td></tr><tr><td>Tailspin Toys (Cortaro, AZ)</td><td>3409</td><td>323</td><td>311819.52</td><td>Regular Customer</td></tr><tr><td>Wingtip Toys (Bell Acres, PA)</td><td>3410</td><td>325</td><td>311799.91</td><td>Regular Customer</td></tr><tr><td>Tailspin Toys (Trentwood, WA)</td><td>3411</td><td>367</td><td>311642.92</td><td>Regular Customer</td></tr><tr><td>Tailspin Toys (Hanoverton, OH)</td><td>3410</td><td>354</td><td>311205.30</td><td>Regular Customer</td></tr><tr><td>Wingtip Toys (Cloquet, MN)</td><td>3411</td><td>353</td><td>310949.08</td><td>Regular Customer</td></tr><tr><td>Tailspin Toys (Nanafalia, AL)</td><td>3411</td><td>312</td><td>310162.20</td><td>Regular Customer</td></tr><tr><td>Tailspin Toys (Terre du Lac, MO)</td><td>3420</td><td>378</td><td>309699.29</td><td>Regular Customer</td></tr><tr><td>Wingtip Toys (Licking, MO)</td><td>3440</td><td>329</td><td>309260.95</td><td>Regular Customer</td></tr><tr><td>Wingtip Toys (Herlong, CA)</td><td>3420</td><td>334</td><td>309166.14</td><td>Regular Customer</td></tr><tr><td>Wingtip Toys (Oologah, OK)</td><td>3416</td><td>391</td><td>309075.57</td><td>Regular Customer</td></tr><tr><td>Tailspin Toys (Statenville, GA)</td><td>3405</td><td>405</td><td>308909.17</td><td>Regular Customer</td></tr><tr><td>Tailspin Toys (Hodgdon, ME)</td><td>3405</td><td>369</td><td>308751.16</td><td>Regular Customer</td></tr><tr><td>Wingtip Toys (Cowlington, OK)</td><td>3427</td><td>323</td><td>308726.17</td><td>Regular Customer</td></tr><tr><td>Tailspin Toys (Mineral Hills, MI)</td><td>3413</td><td>336</td><td>308012.31</td><td>Regular Customer</td></tr><tr><td>Wingtip Toys (Sunburg, MN)</td><td>3405</td><td>385</td><td>307164.02</td><td>Regular Customer</td></tr><tr><td>Tailspin Toys (Lytle Creek, CA)</td><td>3412</td><td>369</td><td>306630.85</td><td>Regular Customer</td></tr><tr><td>Tailspin Toys (Arbor Vitae, WI)</td><td>3424</td><td>344</td><td>306612.06</td><td>Regular Customer</td></tr><tr><td>Tailspin Toys (Rafael Capó, PR)</td><td>3416</td><td>350</td><td>306445.84</td><td>Regular Customer</td></tr><tr><td>Tailspin Toys (Kwethluk, AK)</td><td>3446</td><td>390</td><td>306201.80</td><td>Regular Customer</td></tr><tr><td>Wingtip Toys (Johnetta, KY)</td><td>3412</td><td>394</td><td>305665.56</td><td>Regular Customer</td></tr><tr><td>Wingtip Toys (Boynton, OK)</td><td>3418</td><td>341</td><td>305577.65</td><td>Regular Customer</td></tr><tr><td>Tailspin Toys (Dracut, MA)</td><td>3406</td><td>367</td><td>305095.09</td><td>Regular Customer</td></tr><tr><td>Tailspin Toys (Rockwall, TX)</td><td>3408</td><td>347</td><td>305069.34</td><td>Regular Customer</td></tr><tr><td>Wingtip Toys (Keosauqua, IA)</td><td>3417</td><td>370</td><td>304786.63</td><td>Regular Customer</td></tr><tr><td>Wingtip Toys (Marfa, TX)</td><td>3416</td><td>329</td><td>304771.23</td><td>Regular Customer</td></tr><tr><td>Tailspin Toys (Hardeeville, SC)</td><td>3416</td><td>345</td><td>304717.72</td><td>Regular Customer</td></tr><tr><td>Wingtip Toys (Robertsdale, AL)</td><td>3416</td><td>354</td><td>304705.79</td><td>Regular Customer</td></tr><tr><td>Tailspin Toys (Idria, CA)</td><td>3419</td><td>374</td><td>304067.79</td><td>Regular Customer</td></tr><tr><td>Wingtip Toys (Ridgemark, CA)</td><td>3416</td><td>361</td><td>304067.61</td><td>Regular Customer</td></tr><tr><td>Wingtip Toys (Frenchburg, KY)</td><td>3415</td><td>374</td><td>303964.36</td><td>Regular Customer</td></tr><tr><td>Wingtip Toys (Alcester, SD)</td><td>3432</td><td>355</td><td>303284.25</td><td>Regular Customer</td></tr><tr><td>Tailspin Toys (Andrix, CO)</td><td>3416</td><td>356</td><td>302504.62</td><td>Regular Customer</td></tr><tr><td>Wingtip Toys (Gilford, NH)</td><td>3408</td><td>371</td><td>301976.88</td><td>Regular Customer</td></tr><tr><td>Wingtip Toys (Triadelphia, WV)</td><td>3416</td><td>325</td><td>301927.52</td><td>Regular Customer</td></tr><tr><td>Tailspin Toys (Mappsburg, VA)</td><td>3410</td><td>341</td><td>301873.81</td><td>Regular Customer</td></tr><tr><td>Tailspin Toys (Aspen Park, CO)</td><td>3410</td><td>335</td><td>301567.74</td><td>Regular Customer</td></tr><tr><td>Wingtip Toys (Haydenville, OH)</td><td>3417</td><td>384</td><td>301546.86</td><td>Regular Customer</td></tr><tr><td>Wingtip Toys (East Fultonham, OH)</td><td>3422</td><td>357</td><td>301349.75</td><td>Regular Customer</td></tr><tr><td>Wingtip Toys (Coker, AL)</td><td>3411</td><td>373</td><td>301305.44</td><td>Regular Customer</td></tr><tr><td>Wingtip Toys (Philip, SD)</td><td>3425</td><td>322</td><td>300775.79</td><td>Regular Customer</td></tr><tr><td>Wingtip Toys (Trumansburg, NY)</td><td>3430</td><td>370</td><td>300749.68</td><td>Regular Customer</td></tr><tr><td>Wingtip Toys (Glen Ullin, ND)</td><td>3416</td><td>335</td><td>300747.48</td><td>Regular Customer</td></tr><tr><td>Tailspin Toys (Goffstown, NH)</td><td>3410</td><td>300</td><td>300508.67</td><td>Regular Customer</td></tr><tr><td>Wingtip Toys (Marion Junction, AL)</td><td>3410</td><td>371</td><td>300045.58</td><td>Regular Customer</td></tr><tr><td>Tailspin Toys (Absecon, NJ)</td><td>3423</td><td>319</td><td>299689.37</td><td>Regular Customer</td></tr><tr><td>Wingtip Toys (Verdery, SC)</td><td>3416</td><td>332</td><td>299285.70</td><td>Regular Customer</td></tr><tr><td>Wingtip Toys (Elverson, PA)</td><td>3422</td><td>381</td><td>298636.49</td><td>Regular Customer</td></tr><tr><td>Wingtip Toys (Asher, OK)</td><td>3406</td><td>354</td><td>298397.93</td><td>Regular Customer</td></tr><tr><td>Tailspin Toys (Clewiston, FL)</td><td>3439</td><td>322</td><td>298161.10</td><td>Regular Customer</td></tr><tr><td>Tailspin Toys (Page City, KS)</td><td>3424</td><td>399</td><td>298121.41</td><td>Regular Customer</td></tr><tr><td>Wingtip Toys (Towaco, NJ)</td><td>3423</td><td>352</td><td>297844.19</td><td>Regular Customer</td></tr><tr><td>Tailspin Toys (Rothsville, PA)</td><td>3423</td><td>325</td><td>297732.27</td><td>Regular Customer</td></tr><tr><td>Wingtip Toys (Gargatha, VA)</td><td>3410</td><td>320</td><td>297339.45</td><td>Regular Customer</td></tr><tr><td>Wingtip Toys (Hollandsburg, IN)</td><td>3409</td><td>359</td><td>296073.43</td><td>Regular Customer</td></tr><tr><td>Tailspin Toys (Gasport, NY)</td><td>3408</td><td>384</td><td>295616.79</td><td>Regular Customer</td></tr><tr><td>Wingtip Toys (Cos Cob, CT)</td><td>3405</td><td>341</td><td>295308.72</td><td>Regular Customer</td></tr><tr><td>Tailspin Toys (Jessie, ND)</td><td>3405</td><td>363</td><td>295207.22</td><td>Regular Customer</td></tr><tr><td>Tailspin Toys (Howells, NE)</td><td>3409</td><td>298</td><td>294877.79</td><td>Regular Customer</td></tr><tr><td>Tailspin Toys (Seagraves, TX)</td><td>3426</td><td>328</td><td>293230.67</td><td>Regular Customer</td></tr><tr><td>Wingtip Toys (Shay, PA)</td><td>3405</td><td>362</td><td>293062.21</td><td>Regular Customer</td></tr><tr><td>Wingtip Toys (Federalsburg, MD)</td><td>3409</td><td>418</td><td>292520.12</td><td>Regular Customer</td></tr><tr><td>Wingtip Toys (Lexington Heights, MI)</td><td>3410</td><td>326</td><td>292190.74</td><td>Regular Customer</td></tr><tr><td>Tailspin Toys (Imlaystown, NJ)</td><td>3406</td><td>364</td><td>292086.58</td><td>Regular Customer</td></tr><tr><td>Wingtip Toys (Bozeman Hot Springs, MT)</td><td>3413</td><td>368</td><td>291939.23</td><td>Regular Customer</td></tr><tr><td>Wingtip Toys (Obion, TN)</td><td>3410</td><td>326</td><td>291938.50</td><td>Regular Customer</td></tr><tr><td>Wingtip Toys (Raton, NM)</td><td>3418</td><td>377</td><td>290824.15</td><td>Regular Customer</td></tr><tr><td>Tailspin Toys (Biscay, MN)</td><td>3409</td><td>342</td><td>290737.97</td><td>Regular Customer</td></tr><tr><td>Wingtip Toys (Berville, MI)</td><td>3406</td><td>336</td><td>290625.82</td><td>Regular Customer</td></tr><tr><td>Wingtip Toys (Flomaton, AL)</td><td>3405</td><td>310</td><td>290002.45</td><td>Regular Customer</td></tr><tr><td>Wingtip Toys (Huntingburg, IN)</td><td>3405</td><td>343</td><td>289741.21</td><td>Regular Customer</td></tr><tr><td>Wingtip Toys (Beekmantown, NY)</td><td>3426</td><td>346</td><td>288675.07</td><td>Regular Customer</td></tr><tr><td>Tailspin Toys (Knifley, KY)</td><td>3420</td><td>370</td><td>288166.00</td><td>Regular Customer</td></tr><tr><td>Tailspin Toys (Corfu, NY)</td><td>3405</td><td>366</td><td>288024.11</td><td>Regular Customer</td></tr><tr><td>Tailspin Toys (Dahlia, NM)</td><td>3417</td><td>358</td><td>287329.73</td><td>Regular Customer</td></tr><tr><td>Wingtip Toys (Caro, MI)</td><td>3412</td><td>318</td><td>286779.40</td><td>Regular Customer</td></tr><tr><td>Tailspin Toys (Caselton, NV)</td><td>3431</td><td>374</td><td>286124.72</td><td>Regular Customer</td></tr><tr><td>Wingtip Toys (Dacono, CO)</td><td>3410</td><td>322</td><td>285911.55</td><td>Regular Customer</td></tr><tr><td>Tailspin Toys (Astor Park, FL)</td><td>3413</td><td>356</td><td>285576.35</td><td>Regular Customer</td></tr><tr><td>Wingtip Toys (Broomtown, AL)</td><td>3410</td><td>367</td><td>285425.16</td><td>Regular Customer</td></tr><tr><td>Wingtip Toys (Molalla, OR)</td><td>3405</td><td>312</td><td>285372.89</td><td>Regular Customer</td></tr><tr><td>Tailspin Toys (Amanda Park, WA)</td><td>3406</td><td>349</td><td>285213.52</td><td>Regular Customer</td></tr><tr><td>Tailspin Toys (Edgartown, MA)</td><td>3409</td><td>366</td><td>284872.81</td><td>Regular Customer</td></tr><tr><td>Wingtip Toys (Weld, ME)</td><td>3410</td><td>337</td><td>283516.24</td><td>Regular Customer</td></tr><tr><td>Tailspin Toys (Bernie, MO)</td><td>3424</td><td>334</td><td>283077.31</td><td>Regular Customer</td></tr><tr><td>Tailspin Toys (Jemison, AL)</td><td>3409</td><td>317</td><td>282630.94</td><td>Regular Customer</td></tr><tr><td>Tailspin Toys (Topstone, CT)</td><td>3419</td><td>359</td><td>282031.86</td><td>Regular Customer</td></tr><tr><td>Tailspin Toys (Eulaton, AL)</td><td>3405</td><td>339</td><td>281880.14</td><td>Regular Customer</td></tr><tr><td>Wingtip Toys (Mauldin, SC)</td><td>3444</td><td>359</td><td>281673.95</td><td>Regular Customer</td></tr><tr><td>Tailspin Toys (Crary, ND)</td><td>3441</td><td>315</td><td>281410.02</td><td>Regular Customer</td></tr><tr><td>Tailspin Toys (Premont, TX)</td><td>3411</td><td>376</td><td>281019.04</td><td>Regular Customer</td></tr><tr><td>Tailspin Toys (Skyway, WA)</td><td>3424</td><td>382</td><td>280978.58</td><td>Regular Customer</td></tr><tr><td>Wingtip Toys (Delray, WV)</td><td>3424</td><td>368</td><td>280645.87</td><td>Regular Customer</td></tr><tr><td>Wingtip Toys (West Hempstead, NY)</td><td>3410</td><td>333</td><td>280333.11</td><td>Regular Customer</td></tr><tr><td>Tailspin Toys (Cherry Grove Beach, SC)</td><td>3418</td><td>333</td><td>279600.20</td><td>Regular Customer</td></tr><tr><td>Tailspin Toys (Mount Montgomery, NV)</td><td>3410</td><td>344</td><td>279375.25</td><td>Regular Customer</td></tr><tr><td>Tailspin Toys (Dallardsville, TX)</td><td>3417</td><td>343</td><td>278445.32</td><td>Regular Customer</td></tr><tr><td>Wingtip Toys (Rockwall, TX)</td><td>3418</td><td>326</td><td>277770.40</td><td>Regular Customer</td></tr><tr><td>Tailspin Toys (Donner, LA)</td><td>3409</td><td>349</td><td>277373.00</td><td>Regular Customer</td></tr><tr><td>Tailspin Toys (Panaca, NV)</td><td>3413</td><td>371</td><td>277260.02</td><td>Regular Customer</td></tr><tr><td>Wingtip Toys (Pawlet, VT)</td><td>3419</td><td>336</td><td>276930.48</td><td>Regular Customer</td></tr><tr><td>Wingtip Toys (Orick, CA)</td><td>3417</td><td>329</td><td>276579.43</td><td>Regular Customer</td></tr><tr><td>Tailspin Toys (Cokato, MN)</td><td>3412</td><td>299</td><td>276540.31</td><td>Regular Customer</td></tr><tr><td>Tailspin Toys (Yewed, OK)</td><td>3405</td><td>346</td><td>276310.77</td><td>Regular Customer</td></tr><tr><td>Tailspin Toys (Sallyards, KS)</td><td>3413</td><td>361</td><td>276101.13</td><td>Regular Customer</td></tr><tr><td>Wingtip Toys (Naches, WA)</td><td>3417</td><td>263</td><td>275933.89</td><td>Regular Customer</td></tr><tr><td>Wingtip Toys (Liberty Grove, MD)</td><td>3416</td><td>376</td><td>275334.52</td><td>Regular Customer</td></tr><tr><td>Tailspin Toys (Heilwood, PA)</td><td>3424</td><td>379</td><td>274974.74</td><td>Regular Customer</td></tr><tr><td>Tailspin Toys (Bratenahl, OH)</td><td>3418</td><td>327</td><td>274933.76</td><td>Regular Customer</td></tr><tr><td>Wingtip Toys (Palmas del Mar, PR)</td><td>3406</td><td>336</td><td>274271.27</td><td>Regular Customer</td></tr><tr><td>Tailspin Toys (Aceitunas, PR)</td><td>3412</td><td>344</td><td>273285.36</td><td>Regular Customer</td></tr><tr><td>Tailspin Toys (Tresckow, PA)</td><td>3409</td><td>342</td><td>272975.48</td><td>Regular Customer</td></tr><tr><td>Wingtip Toys (Claycomo, MO)</td><td>3424</td><td>355</td><td>272919.32</td><td>Regular Customer</td></tr><tr><td>Tailspin Toys (South Euclid, OH)</td><td>3417</td><td>376</td><td>272237.69</td><td>Regular Customer</td></tr><tr><td>Tailspin Toys (Saint Louis Park, MN)</td><td>3410</td><td>359</td><td>272212.96</td><td>Regular Customer</td></tr><tr><td>Wingtip Toys (Lowellville, OH)</td><td>3411</td><td>346</td><td>272106.80</td><td>Regular Customer</td></tr><tr><td>Wingtip Toys (Smoot, WY)</td><td>3411</td><td>326</td><td>271783.36</td><td>Regular Customer</td></tr><tr><td>Wingtip Toys (Stanardsville, VA)</td><td>3425</td><td>341</td><td>271396.82</td><td>Regular Customer</td></tr><tr><td>Tailspin Toys (Lake Hughes, CA)</td><td>3406</td><td>366</td><td>271330.76</td><td>Regular Customer</td></tr><tr><td>Tailspin Toys (Hahira, GA)</td><td>3431</td><td>355</td><td>271219.96</td><td>Regular Customer</td></tr><tr><td>Wingtip Toys (Ferney, SD)</td><td>3409</td><td>368</td><td>271153.51</td><td>Regular Customer</td></tr><tr><td>Tailspin Toys (Hollywood Park, TX)</td><td>3409</td><td>330</td><td>271098.62</td><td>Regular Customer</td></tr><tr><td>Wingtip Toys (Vair, TX)</td><td>3412</td><td>357</td><td>271071.58</td><td>Regular Customer</td></tr><tr><td>Tailspin Toys (Royal City, WA)</td><td>3417</td><td>343</td><td>271032.55</td><td>Regular Customer</td></tr><tr><td>Tailspin Toys (Stallion Springs, CA)</td><td>3422</td><td>381</td><td>270876.61</td><td>Regular Customer</td></tr><tr><td>Wingtip Toys (Valhalla, NC)</td><td>3438</td><td>332</td><td>270603.21</td><td>Regular Customer</td></tr><tr><td>Tailspin Toys (Lavon, TX)</td><td>3419</td><td>315</td><td>270035.95</td><td>Regular Customer</td></tr><tr><td>Wingtip Toys (Balko, OK)</td><td>3417</td><td>319</td><td>269409.28</td><td>Regular Customer</td></tr><tr><td>Wingtip Toys (Universal City, TX)</td><td>3410</td><td>305</td><td>268362.65</td><td>Regular Customer</td></tr><tr><td>Tailspin Toys (Baraboo, WI)</td><td>3418</td><td>303</td><td>268137.35</td><td>Regular Customer</td></tr><tr><td>Wingtip Toys (Lucasville, OH)</td><td>3406</td><td>406</td><td>267282.68</td><td>Regular Customer</td></tr><tr><td>Wingtip Toys (Caton, NY)</td><td>3434</td><td>321</td><td>267212.86</td><td>Regular Customer</td></tr><tr><td>Tailspin Toys (Olivette, MO)</td><td>3425</td><td>338</td><td>266264.52</td><td>Regular Customer</td></tr><tr><td>Wingtip Toys (Goodings Grove, IL)</td><td>3406</td><td>327</td><td>266097.28</td><td>Regular Customer</td></tr><tr><td>Tailspin Toys (Railroad, PA)</td><td>3406</td><td>359</td><td>266059.08</td><td>Regular Customer</td></tr><tr><td>Tailspin Toys (Eden Valley, MN)</td><td>3411</td><td>323</td><td>266045.14</td><td>Regular Customer</td></tr><tr><td>Tailspin Toys (Bow Mar, CO)</td><td>3416</td><td>315</td><td>265046.43</td><td>Regular Customer</td></tr><tr><td>Tailspin Toys (Fishtail, MT)</td><td>3409</td><td>295</td><td>264903.55</td><td>Regular Customer</td></tr><tr><td>Tailspin Toys (Wilkes-Barre, PA)</td><td>3417</td><td>330</td><td>263633.65</td><td>Regular Customer</td></tr><tr><td>Tailspin Toys (Antonito, CO)</td><td>3412</td><td>357</td><td>263486.96</td><td>Regular Customer</td></tr><tr><td>Tailspin Toys (Sylvanite, MT)</td><td>3422</td><td>361</td><td>263403.06</td><td>Regular Customer</td></tr><tr><td>Tailspin Toys (Arrow Rock, MO)</td><td>3417</td><td>377</td><td>263383.03</td><td>Regular Customer</td></tr><tr><td>Wingtip Toys (Chetek, WI)</td><td>3405</td><td>334</td><td>263237.71</td><td>Regular Customer</td></tr><tr><td>Wingtip Toys (Straughn, IN)</td><td>3427</td><td>338</td><td>263026.69</td><td>Regular Customer</td></tr><tr><td>Wingtip Toys (East Mountain, TX)</td><td>3413</td><td>332</td><td>262522.92</td><td>Regular Customer</td></tr><tr><td>Wingtip Toys (Crossroads, NM)</td><td>3412</td><td>315</td><td>262115.68</td><td>Regular Customer</td></tr><tr><td>Wingtip Toys (Helotes, TX)</td><td>3431</td><td>333</td><td>260327.02</td><td>Regular Customer</td></tr><tr><td>Tailspin Toys (Hiteman, IA)</td><td>3417</td><td>333</td><td>260207.46</td><td>Regular Customer</td></tr><tr><td>Tailspin Toys (Sun River, MT)</td><td>3427</td><td>332</td><td>259665.27</td><td>Regular Customer</td></tr><tr><td>Wingtip Toys (Dickworsham, TX)</td><td>3438</td><td>341</td><td>259331.07</td><td>Regular Customer</td></tr><tr><td>Tailspin Toys (Tunnelhill, PA)</td><td>3420</td><td>329</td><td>259216.21</td><td>Regular Customer</td></tr><tr><td>Tailspin Toys (Muir, MI)</td><td>3416</td><td>322</td><td>258613.37</td><td>Regular Customer</td></tr><tr><td>Wingtip Toys (McAdenville, NC)</td><td>3418</td><td>314</td><td>258496.00</td><td>Regular Customer</td></tr><tr><td>Tailspin Toys (Great Neck Estates, NY)</td><td>3406</td><td>307</td><td>258178.34</td><td>Regular Customer</td></tr><tr><td>Tailspin Toys (College Place, WA)</td><td>3416</td><td>327</td><td>258144.17</td><td>Regular Customer</td></tr><tr><td>Tailspin Toys (Diablock, KY)</td><td>3416</td><td>284</td><td>257561.21</td><td>Regular Customer</td></tr><tr><td>Tailspin Toys (Naples Park, FL)</td><td>3413</td><td>314</td><td>257528.63</td><td>Regular Customer</td></tr><tr><td>Wingtip Toys (Beals, ME)</td><td>3405</td><td>326</td><td>257519.54</td><td>Regular Customer</td></tr><tr><td>Tailspin Toys (East Dailey, WV)</td><td>3425</td><td>298</td><td>256970.44</td><td>Regular Customer</td></tr><tr><td>Tailspin Toys (Lemeta, AK)</td><td>3427</td><td>334</td><td>256824.93</td><td>Regular Customer</td></tr><tr><td>Wingtip Toys (Penns Creek, PA)</td><td>3405</td><td>319</td><td>256403.33</td><td>Regular Customer</td></tr><tr><td>Wingtip Toys (Corcovado, PR)</td><td>3416</td><td>337</td><td>255874.88</td><td>Regular Customer</td></tr><tr><td>Wingtip Toys (North Manitou, MI)</td><td>3411</td><td>294</td><td>255768.90</td><td>Regular Customer</td></tr><tr><td>Tailspin Toys (Wallagrass, ME)</td><td>3415</td><td>328</td><td>254811.42</td><td>Regular Customer</td></tr><tr><td>Tailspin Toys (Lakemore, OH)</td><td>3410</td><td>316</td><td>254749.92</td><td>Regular Customer</td></tr><tr><td>Wingtip Toys (Dickerson, MD)</td><td>3425</td><td>318</td><td>254678.38</td><td>Regular Customer</td></tr><tr><td>Tailspin Toys (Tomnolen, MS)</td><td>3416</td><td>303</td><td>254457.77</td><td>Regular Customer</td></tr><tr><td>Wingtip Toys (Saint Landry, LA)</td><td>3411</td><td>334</td><td>253183.86</td><td>Regular Customer</td></tr><tr><td>Wingtip Toys (Glancy, MS)</td><td>3410</td><td>302</td><td>252198.01</td><td>Regular Customer</td></tr><tr><td>Tailspin Toys (Stonefort, IL)</td><td>3410</td><td>269</td><td>251054.53</td><td>Regular Customer</td></tr><tr><td>Tailspin Toys (Ikatan, AK)</td><td>3409</td><td>340</td><td>250853.97</td><td>Regular Customer</td></tr><tr><td>Wingtip Toys (Compass Lake, FL)</td><td>3422</td><td>366</td><td>249759.42</td><td>Regular Customer</td></tr><tr><td>Tailspin Toys (Ward Ridge, FL)</td><td>3411</td><td>289</td><td>247930.94</td><td>Regular Customer</td></tr><tr><td>Wingtip Toys (Munich, ND)</td><td>3406</td><td>312</td><td>247419.96</td><td>Regular Customer</td></tr><tr><td>Wingtip Toys (Del Valle, TX)</td><td>3413</td><td>312</td><td>246790.20</td><td>Regular Customer</td></tr><tr><td>Wingtip Toys (Edmund, WI)</td><td>3410</td><td>308</td><td>246631.63</td><td>Regular Customer</td></tr><tr><td>Wingtip Toys (Morita, TX)</td><td>3416</td><td>282</td><td>245335.29</td><td>Regular Customer</td></tr><tr><td>Wingtip Toys (Lostine, OR)</td><td>3412</td><td>317</td><td>245023.03</td><td>Regular Customer</td></tr><tr><td>Wingtip Toys (Baldwin City, KS)</td><td>3412</td><td>295</td><td>244505.61</td><td>Regular Customer</td></tr><tr><td>Tailspin Toys (Fairfield Glade, TN)</td><td>3413</td><td>345</td><td>243660.79</td><td>Regular Customer</td></tr><tr><td>Tailspin Toys (Ekron, KY)</td><td>3416</td><td>344</td><td>242790.53</td><td>Regular Customer</td></tr><tr><td>Wingtip Toys (Jeromesville, OH)</td><td>3406</td><td>308</td><td>240189.80</td><td>Regular Customer</td></tr><tr><td>Tailspin Toys (San Acacia, NM)</td><td>3406</td><td>312</td><td>238557.32</td><td>Regular Customer</td></tr><tr><td>Tailspin Toys (Dundarrach, NC)</td><td>3412</td><td>325</td><td>237173.44</td><td>Regular Customer</td></tr><tr><td>Wingtip Toys (Miesville, MN)</td><td>3405</td><td>354</td><td>236065.97</td><td>Regular Customer</td></tr><tr><td>Wingtip Toys (Chaseley, ND)</td><td>3423</td><td>307</td><td>235394.21</td><td>Regular Customer</td></tr><tr><td>Tailspin Toys (Alstead, NH)</td><td>3417</td><td>315</td><td>234908.16</td><td>Regular Customer</td></tr><tr><td>Tailspin Toys (Francis Mills, NJ)</td><td>3406</td><td>306</td><td>234380.06</td><td>Regular Customer</td></tr><tr><td>Wingtip Toys (Mount Summit, IN)</td><td>3410</td><td>321</td><td>233807.24</td><td>Regular Customer</td></tr><tr><td>Wingtip Toys (New Laguna, NM)</td><td>3410</td><td>312</td><td>231476.81</td><td>Regular Customer</td></tr><tr><td>Wingtip Toys (Ovilla, TX)</td><td>3411</td><td>316</td><td>229358.13</td><td>Regular Customer</td></tr><tr><td>Wingtip Toys (Heartwell, NE)</td><td>3408</td><td>296</td><td>228308.02</td><td>Regular Customer</td></tr><tr><td>Wingtip Toys (Portales, NM)</td><td>3406</td><td>342</td><td>226850.09</td><td>Regular Customer</td></tr><tr><td>Wingtip Toys (Cape Neddick, ME)</td><td>3410</td><td>339</td><td>224217.60</td><td>Regular Customer</td></tr><tr><td>Wingtip Toys (Morton Grove, IL)</td><td>3409</td><td>264</td><td>218468.60</td><td>Regular Customer</td></tr><tr><td>Tailspin Toys (Madaket, MA)</td><td>3455</td><td>282</td><td>216859.44</td><td>Regular Customer</td></tr><tr><td>Wingtip Toys (Nuangola, PA)</td><td>3430</td><td>310</td><td>213347.65</td><td>Regular Customer</td></tr><tr><td>Tailspin Toys (Magalia, CA)</td><td>3409</td><td>273</td><td>210738.60</td><td>Regular Customer</td></tr><tr><td>Wingtip Toys (Willow Valley, AZ)</td><td>3423</td><td>312</td><td>210737.59</td><td>Regular Customer</td></tr><tr><td>Tailspin Toys (Oriole Beach, FL)</td><td>3439</td><td>262</td><td>208152.51</td><td>Regular Customer</td></tr><tr><td>Wingtip Toys (Marin City, CA)</td><td>3438</td><td>298</td><td>195103.31</td><td>Regular Customer</td></tr><tr><td>Wingtip Toys (Cherryplain, NY)</td><td>3406</td><td>242</td><td>177687.49</td><td>Regular Customer</td></tr></table>"
                    },
                    "metadata": {}
                }
            ],
            "execution_count": 4
        },
        {
            "cell_type": "markdown",
            "source": [
                "## <span style=\"color: var(--vscode-foreground);\">Proposition 5: Top 5 Most Profitable Geographic Regions</span>\n",
                "\n",
                "**Functional Specification:**\n",
                "\n",
                "- **Objective:** To identify the top 5 most profitable cities and the top-performing salesperson within each of those cities.\n",
                "- **End-User:** Sales Directors and Expansion Strategy teams.\n",
                "- **Business Value:** Pinpoints not just \\*where\\* our most profitable markets are, but \\*who\\* is driving that success, informing decisions on sales territories and resource allocation.\n",
                "- **AI Footnote:** Assistance was provided by Google's Gemini for brainstorming propositions, writing advanced SQL queries, and explaining the logic."
            ],
            "metadata": {
                "language": "sql",
                "azdata_cell_guid": "63467c60-f881-4485-b74c-6243cce0a545"
            },
            "attachments": {}
        },
        {
            "cell_type": "code",
            "source": [
                "WITH CityProfit AS (\r\n",
                "    -- Step 1: Calculate the total profit generated in each city and rank them.\r\n",
                "    SELECT\r\n",
                "        c.[City Key],\r\n",
                "        c.[City],\r\n",
                "        c.[State Province],\r\n",
                "        SUM(s.Profit) AS TotalProfit,\r\n",
                "        DENSE_RANK() OVER(ORDER BY SUM(s.Profit) DESC) AS ProfitRank\r\n",
                "    FROM Fact.Sale s\r\n",
                "    JOIN Dimension.City c ON s.[City Key] = c.[City Key]\r\n",
                "    GROUP BY c.[City Key], c.[City], c.[State Province]\r\n",
                "),\r\n",
                "TopSalespersonInCity AS (\r\n",
                "    -- Step 2: For each city, find the salesperson who generated the most profit.\r\n",
                "    SELECT\r\n",
                "        s.[City Key],\r\n",
                "        e.Employee,\r\n",
                "        SUM(s.Profit) AS SalespersonProfit,\r\n",
                "        ROW_NUMBER() OVER(PARTITION BY s.[City Key] ORDER BY SUM(s.Profit) DESC) AS SalespersonRank\r\n",
                "    FROM Fact.Sale s\r\n",
                "    JOIN Dimension.Employee e ON s.[Salesperson Key] = e.[Employee Key]\r\n",
                "    GROUP BY s.[City Key], e.Employee\r\n",
                ")\r\n",
                "-- Step 3: Join the top cities with their top salesperson.\r\n",
                "SELECT\r\n",
                "    cp.City,\r\n",
                "    cp.[State Province],\r\n",
                "    cp.TotalProfit,\r\n",
                "    ts.Employee AS TopSalesperson\r\n",
                "FROM CityProfit cp\r\n",
                "JOIN TopSalespersonInCity ts ON cp.[City Key] = ts.[City Key]\r\n",
                "WHERE cp.ProfitRank <= 5 AND ts.SalespersonRank = 1\r\n",
                "ORDER BY cp.TotalProfit DESC;"
            ],
            "metadata": {
                "language": "sql",
                "azdata_cell_guid": "905967ac-ba52-464f-95bc-08609a4caceb"
            },
            "outputs": [
                {
                    "output_type": "display_data",
                    "data": {
                        "text/html": "(5 rows affected)"
                    },
                    "metadata": {}
                },
                {
                    "output_type": "display_data",
                    "data": {
                        "text/html": "Total execution time: 00:00:02.004"
                    },
                    "metadata": {}
                },
                {
                    "output_type": "execute_result",
                    "execution_count": 5,
                    "data": {
                        "application/vnd.dataresource+json": {
                            "schema": {
                                "fields": [
                                    {
                                        "name": "City"
                                    },
                                    {
                                        "name": "State Province"
                                    },
                                    {
                                        "name": "TotalProfit"
                                    },
                                    {
                                        "name": "TopSalesperson"
                                    }
                                ]
                            },
                            "data": [
                                {
                                    "City": "Sinclair",
                                    "State Province": "Wyoming",
                                    "TotalProfit": "264147.10",
                                    "TopSalesperson": "Lily Code"
                                },
                                {
                                    "City": "Akhiok",
                                    "State Province": "Alaska",
                                    "TotalProfit": "259554.30",
                                    "TopSalesperson": "Sophia Hinton"
                                },
                                {
                                    "City": "Cherry Grove Beach",
                                    "State Province": "South Carolina",
                                    "TotalProfit": "257902.75",
                                    "TopSalesperson": "Hudson Hollinworth"
                                },
                                {
                                    "City": "East Fultonham",
                                    "State Province": "Ohio",
                                    "TotalProfit": "244496.05",
                                    "TopSalesperson": "Anthony Grosse"
                                },
                                {
                                    "City": "Teutopolis",
                                    "State Province": "Illinois",
                                    "TotalProfit": "234619.20",
                                    "TopSalesperson": "Taj Shand"
                                }
                            ]
                        },
                        "text/html": "<table><tr><th>City</th><th>State Province</th><th>TotalProfit</th><th>TopSalesperson</th></tr><tr><td>Sinclair</td><td>Wyoming</td><td>264147.10</td><td>Lily Code</td></tr><tr><td>Akhiok</td><td>Alaska</td><td>259554.30</td><td>Sophia Hinton</td></tr><tr><td>Cherry Grove Beach</td><td>South Carolina</td><td>257902.75</td><td>Hudson Hollinworth</td></tr><tr><td>East Fultonham</td><td>Ohio</td><td>244496.05</td><td>Anthony Grosse</td></tr><tr><td>Teutopolis</td><td>Illinois</td><td>234619.20</td><td>Taj Shand</td></tr></table>"
                    },
                    "metadata": {}
                }
            ],
            "execution_count": 5
        },
        {
            "cell_type": "markdown",
            "source": [
                "## <span style=\"color: var(--vscode-foreground);\">Proposition 6: Products with High Profit Margin but Low Sales Volume</span>\n",
                "\n",
                "**Functional Specification:**\n",
                "\n",
                "- **Objective:** To identify \"hidden gem\" products with a high average profit margin (over 40%) but low sales volume (fewer than 100 units sold).\n",
                "- **End-User:** Product and Marketing Managers.\n",
                "- **Business Value:** Uncovers highly profitable but undersold products. A targeted marketing campaign for these items could significantly boost company profits with minimal effort.\n",
                "- **AI Footnote:** Assistance was provided by Google's Gemini for brainstorming propositions, writing advanced SQL queries, and explaining the logic."
            ],
            "metadata": {
                "language": "sql",
                "azdata_cell_guid": "ed251e8f-ff1d-4c63-a457-1ef0226c9ee7"
            },
            "attachments": {}
        },
        {
            "cell_type": "code",
            "source": [
                "WITH ProductPerformance AS (\r\n",
                "    -- Step 1: Calculate sales volume and average profit margin for each product.\r\n",
                "    SELECT\r\n",
                "        si.[Stock Item],\r\n",
                "        SUM(s.Quantity) AS TotalQuantitySold,\r\n",
                "        AVG(s.Profit / NULLIF(s.[Total Excluding Tax], 0)) * 100 AS AverageProfitMargin\r\n",
                "    FROM Fact.Sale s\r\n",
                "    JOIN Dimension.[Stock Item] si ON s.[Stock Item Key] = si.[Stock Item Key]\r\n",
                "    GROUP BY si.[Stock Item]\r\n",
                ")\r\n",
                "-- Step 2: Filter for products that meet the 'hidden gem' criteria.\r\n",
                "SELECT\r\n",
                "    [Stock Item],\r\n",
                "    TotalQuantitySold,\r\n",
                "    CAST(AverageProfitMargin AS DECIMAL(10, 2)) AS AverageProfitMargin\r\n",
                "FROM ProductPerformance\r\n",
                "WHERE\r\n",
                "    AverageProfitMargin > 40  -- High profit margin\r\n",
                "    AND TotalQuantitySold < 100 -- Low sales volume\r\n",
                "ORDER BY AverageProfitMargin DESC;"
            ],
            "metadata": {
                "language": "sql",
                "azdata_cell_guid": "dcc92e25-42e9-43bc-9dbf-bdaa169d0054",
                "tags": []
            },
            "outputs": [
                {
                    "output_type": "display_data",
                    "data": {
                        "text/html": "(0 rows affected)"
                    },
                    "metadata": {}
                },
                {
                    "output_type": "display_data",
                    "data": {
                        "text/html": "Total execution time: 00:00:01.211"
                    },
                    "metadata": {}
                },
                {
                    "output_type": "execute_result",
                    "execution_count": 6,
                    "data": {
                        "application/vnd.dataresource+json": {
                            "schema": {
                                "fields": [
                                    {
                                        "name": "Stock Item"
                                    },
                                    {
                                        "name": "TotalQuantitySold"
                                    },
                                    {
                                        "name": "AverageProfitMargin"
                                    }
                                ]
                            },
                            "data": []
                        },
                        "text/html": "<table><tr><th>Stock Item</th><th>TotalQuantitySold</th><th>AverageProfitMargin</th></tr></table>"
                    },
                    "metadata": {}
                }
            ],
            "execution_count": 6
        },
        {
            "cell_type": "markdown",
            "source": [
                "## <span style=\"color: var(--vscode-foreground);\">Proposition 7: Inventory Turnover Rate for Top 10 Products</span>\n",
                "\n",
                "**Functional Specification:**\n",
                "\n",
                "- **Objective:** To calculate the inventory turnover rate for the 10 products with the highest sales volume to assess stock management efficiency.\n",
                "- **End-User:** Supply Chain and Finance departments.\n",
                "- **Business Value:** Measures how efficiently we sell and replace inventory for our most popular items. This is a key indicator of operational efficiency and effective cash flow management.\n",
                "- **AI Footnote:** Assistance was provided by Google's Gemini for brainstorming propositions, writing advanced SQL queries, and explaining the logic."
            ],
            "metadata": {
                "language": "sql",
                "azdata_cell_guid": "5002babc-1107-49d7-96bb-f99064a58fc8"
            },
            "attachments": {}
        },
        {
            "cell_type": "code",
            "source": [
                "WITH CostOfGoodsSold AS (\r\n",
                "    -- Step 1: Calculate the cost of goods sold (COGS) for each item.\r\n",
                "    SELECT\r\n",
                "        s.[Stock Item Key],\r\n",
                "        SUM(s.Quantity * si.[Unit Price]) AS TotalCOGS\r\n",
                "    FROM Fact.Sale s\r\n",
                "    JOIN Dimension.[Stock Item] si ON s.[Stock Item Key] = si.[Stock Item Key]\r\n",
                "    GROUP BY s.[Stock Item Key]\r\n",
                "),\r\n",
                "AverageInventory AS (\r\n",
                "    -- Step 2: Calculate the average inventory value using the correct column name.\r\n",
                "    SELECT\r\n",
                "        sh.[Stock Item Key],\r\n",
                "        AVG(sh.[Quantity On Hand] * si.[Unit Price]) AS AvgInventoryValue\r\n",
                "    FROM Fact.[Stock Holding] sh\r\n",
                "    JOIN Dimension.[Stock Item] si ON sh.[Stock Item Key] = si.[Stock Item Key]\r\n",
                "    GROUP BY sh.[Stock Item Key]\r\n",
                ")\r\n",
                "-- Step 3: Join the data and calculate the turnover rate for the top 10 selling items.\r\n",
                "SELECT TOP 10\r\n",
                "    si.[Stock Item],\r\n",
                "    cogs.TotalCOGS,\r\n",
                "    ai.AvgInventoryValue,\r\n",
                "    (cogs.TotalCOGS / NULLIF(ai.AvgInventoryValue, 0)) AS InventoryTurnoverRate\r\n",
                "FROM CostOfGoodsSold cogs\r\n",
                "JOIN AverageInventory ai ON cogs.[Stock Item Key] = ai.[Stock Item Key]\r\n",
                "JOIN Dimension.[Stock Item] si ON cogs.[Stock Item Key] = si.[Stock Item Key]\r\n",
                "WHERE ai.AvgInventoryValue IS NOT NULL\r\n",
                "ORDER BY cogs.TotalCOGS DESC;"
            ],
            "metadata": {
                "language": "sql",
                "azdata_cell_guid": "e630fa6b-4314-4065-8157-5a2ccf60df8e"
            },
            "outputs": [
                {
                    "output_type": "display_data",
                    "data": {
                        "text/html": "(0 rows affected)"
                    },
                    "metadata": {}
                },
                {
                    "output_type": "display_data",
                    "data": {
                        "text/html": "Total execution time: 00:00:00.107"
                    },
                    "metadata": {}
                },
                {
                    "output_type": "execute_result",
                    "execution_count": 17,
                    "data": {
                        "application/vnd.dataresource+json": {
                            "schema": {
                                "fields": [
                                    {
                                        "name": "Stock Item"
                                    },
                                    {
                                        "name": "TotalCOGS"
                                    },
                                    {
                                        "name": "AvgInventoryValue"
                                    },
                                    {
                                        "name": "InventoryTurnoverRate"
                                    }
                                ]
                            },
                            "data": []
                        },
                        "text/html": "<table><tr><th>Stock Item</th><th>TotalCOGS</th><th>AvgInventoryValue</th><th>InventoryTurnoverRate</th></tr></table>"
                    },
                    "metadata": {}
                }
            ],
            "execution_count": 17
        },
        {
            "cell_type": "markdown",
            "source": [
                "## <span style=\"color: var(--vscode-foreground);\">Proposition 8: Order Fulfillment Efficiency (Order-to-Ship Time)</span>\n",
                "\n",
                "**Functional Specification:**\n",
                "\n",
                "- **Objective:** To analyze the average time (in hours) from order placement to shipment, segmented by state, to identify logistical bottlenecks.\n",
                "- **End-User:** Operations and Logistics Managers.\n",
                "- **Business Value:** Directly measures warehouse efficiency. Highlighting regional delays allows for targeted improvements to staffing, processes, or shipping partners, ultimately improving customer satisfaction.\n",
                "- **AI Footnote:** Assistance was provided by Google's Gemini for brainstorming propositions, writing advanced SQL queries, and explaining the logic."
            ],
            "metadata": {
                "language": "sql",
                "azdata_cell_guid": "9c69028c-9af9-4151-b854-514913452a67"
            },
            "attachments": {}
        },
        {
            "cell_type": "code",
            "source": [
                "SELECT\r\n",
                "    c.[State Province],\r\n",
                "    COUNT(DISTINCT o.[Order Key]) AS NumberOfOrders,\r\n",
                "    AVG(CAST(DATEDIFF(hour, o.[Order Date Key], o.[Picked Date Key]) AS DECIMAL(10,2))) AS AvgHoursToPick\r\n",
                "FROM Fact.[Order] o\r\n",
                "JOIN Dimension.City c ON o.[City Key] = c.[City Key]\r\n",
                "WHERE\r\n",
                "    o.[Picked Date Key] IS NOT NULL\r\n",
                "    AND o.[Order Date Key] < o.[Picked Date Key]\r\n",
                "GROUP BY\r\n",
                "    c.[State Province]\r\n",
                "HAVING\r\n",
                "    COUNT(DISTINCT o.[Order Key]) > 50\r\n",
                "ORDER BY\r\n",
                "    AvgHoursToPick DESC;"
            ],
            "metadata": {
                "language": "sql",
                "azdata_cell_guid": "3a24b2a0-5bd7-48c0-a2ea-d1b388d0bc7d"
            },
            "outputs": [
                {
                    "output_type": "display_data",
                    "data": {
                        "text/html": "(36 rows affected)"
                    },
                    "metadata": {}
                },
                {
                    "output_type": "display_data",
                    "data": {
                        "text/html": "Total execution time: 00:00:00.988"
                    },
                    "metadata": {}
                },
                {
                    "output_type": "execute_result",
                    "execution_count": 15,
                    "data": {
                        "application/vnd.dataresource+json": {
                            "schema": {
                                "fields": [
                                    {
                                        "name": "State Province"
                                    },
                                    {
                                        "name": "NumberOfOrders"
                                    },
                                    {
                                        "name": "AvgHoursToPick"
                                    }
                                ]
                            },
                            "data": [
                                {
                                    "State Province": "Indiana",
                                    "NumberOfOrders": "87",
                                    "AvgHoursToPick": "2297.655172"
                                },
                                {
                                    "State Province": "Massachusetts[E]",
                                    "NumberOfOrders": "68",
                                    "AvgHoursToPick": "2151.176470"
                                },
                                {
                                    "State Province": "Missouri",
                                    "NumberOfOrders": "136",
                                    "AvgHoursToPick": "2046.176470"
                                },
                                {
                                    "State Province": "Arizona",
                                    "NumberOfOrders": "79",
                                    "AvgHoursToPick": "1892.050632"
                                },
                                {
                                    "State Province": "Michigan",
                                    "NumberOfOrders": "94",
                                    "AvgHoursToPick": "1886.042553"
                                },
                                {
                                    "State Province": "North Carolina",
                                    "NumberOfOrders": "124",
                                    "AvgHoursToPick": "1872.387096"
                                },
                                {
                                    "State Province": "Alaska",
                                    "NumberOfOrders": "75",
                                    "AvgHoursToPick": "1821.440000"
                                },
                                {
                                    "State Province": "South Dakota",
                                    "NumberOfOrders": "53",
                                    "AvgHoursToPick": "1816.301886"
                                },
                                {
                                    "State Province": "New York",
                                    "NumberOfOrders": "218",
                                    "AvgHoursToPick": "1761.247706"
                                },
                                {
                                    "State Province": "California",
                                    "NumberOfOrders": "251",
                                    "AvgHoursToPick": "1746.741035"
                                },
                                {
                                    "State Province": "Minnesota",
                                    "NumberOfOrders": "115",
                                    "AvgHoursToPick": "1740.104347"
                                },
                                {
                                    "State Province": "Nebraska",
                                    "NumberOfOrders": "61",
                                    "AvgHoursToPick": "1728.786885"
                                },
                                {
                                    "State Province": "West Virginia",
                                    "NumberOfOrders": "109",
                                    "AvgHoursToPick": "1678.238532"
                                },
                                {
                                    "State Province": "South Carolina",
                                    "NumberOfOrders": "117",
                                    "AvgHoursToPick": "1661.128205"
                                },
                                {
                                    "State Province": "Virginia",
                                    "NumberOfOrders": "75",
                                    "AvgHoursToPick": "1658.880000"
                                },
                                {
                                    "State Province": "Alabama",
                                    "NumberOfOrders": "104",
                                    "AvgHoursToPick": "1647.000000"
                                },
                                {
                                    "State Province": "North Dakota",
                                    "NumberOfOrders": "74",
                                    "AvgHoursToPick": "1644.972972"
                                },
                                {
                                    "State Province": "Colorado",
                                    "NumberOfOrders": "103",
                                    "AvgHoursToPick": "1618.019417"
                                },
                                {
                                    "State Province": "Puerto Rico (US Territory)",
                                    "NumberOfOrders": "63",
                                    "AvgHoursToPick": "1614.857142"
                                },
                                {
                                    "State Province": "Ohio",
                                    "NumberOfOrders": "158",
                                    "AvgHoursToPick": "1610.734177"
                                },
                                {
                                    "State Province": "Texas",
                                    "NumberOfOrders": "327",
                                    "AvgHoursToPick": "1603.082568"
                                },
                                {
                                    "State Province": "New Mexico",
                                    "NumberOfOrders": "116",
                                    "AvgHoursToPick": "1597.448275"
                                },
                                {
                                    "State Province": "Wisconsin",
                                    "NumberOfOrders": "86",
                                    "AvgHoursToPick": "1592.093023"
                                },
                                {
                                    "State Province": "Pennsylvania",
                                    "NumberOfOrders": "253",
                                    "AvgHoursToPick": "1569.960474"
                                },
                                {
                                    "State Province": "Maryland",
                                    "NumberOfOrders": "56",
                                    "AvgHoursToPick": "1548.428571"
                                },
                                {
                                    "State Province": "Louisiana",
                                    "NumberOfOrders": "99",
                                    "AvgHoursToPick": "1498.909090"
                                },
                                {
                                    "State Province": "Montana",
                                    "NumberOfOrders": "56",
                                    "AvgHoursToPick": "1417.285714"
                                },
                                {
                                    "State Province": "Iowa",
                                    "NumberOfOrders": "77",
                                    "AvgHoursToPick": "1342.753246"
                                },
                                {
                                    "State Province": "Florida",
                                    "NumberOfOrders": "155",
                                    "AvgHoursToPick": "1330.374193"
                                },
                                {
                                    "State Province": "Illinois",
                                    "NumberOfOrders": "117",
                                    "AvgHoursToPick": "1252.717948"
                                },
                                {
                                    "State Province": "Oklahoma",
                                    "NumberOfOrders": "132",
                                    "AvgHoursToPick": "1238.909090"
                                },
                                {
                                    "State Province": "Kansas",
                                    "NumberOfOrders": "93",
                                    "AvgHoursToPick": "1187.612903"
                                },
                                {
                                    "State Province": "Kentucky",
                                    "NumberOfOrders": "60",
                                    "AvgHoursToPick": "1098.000000"
                                },
                                {
                                    "State Province": "Washington",
                                    "NumberOfOrders": "102",
                                    "AvgHoursToPick": "1070.588235"
                                },
                                {
                                    "State Province": "New Jersey",
                                    "NumberOfOrders": "105",
                                    "AvgHoursToPick": "1049.828571"
                                },
                                {
                                    "State Province": "Georgia",
                                    "NumberOfOrders": "75",
                                    "AvgHoursToPick": "889.920000"
                                }
                            ]
                        },
                        "text/html": "<table><tr><th>State Province</th><th>NumberOfOrders</th><th>AvgHoursToPick</th></tr><tr><td>Indiana</td><td>87</td><td>2297.655172</td></tr><tr><td>Massachusetts[E]</td><td>68</td><td>2151.176470</td></tr><tr><td>Missouri</td><td>136</td><td>2046.176470</td></tr><tr><td>Arizona</td><td>79</td><td>1892.050632</td></tr><tr><td>Michigan</td><td>94</td><td>1886.042553</td></tr><tr><td>North Carolina</td><td>124</td><td>1872.387096</td></tr><tr><td>Alaska</td><td>75</td><td>1821.440000</td></tr><tr><td>South Dakota</td><td>53</td><td>1816.301886</td></tr><tr><td>New York</td><td>218</td><td>1761.247706</td></tr><tr><td>California</td><td>251</td><td>1746.741035</td></tr><tr><td>Minnesota</td><td>115</td><td>1740.104347</td></tr><tr><td>Nebraska</td><td>61</td><td>1728.786885</td></tr><tr><td>West Virginia</td><td>109</td><td>1678.238532</td></tr><tr><td>South Carolina</td><td>117</td><td>1661.128205</td></tr><tr><td>Virginia</td><td>75</td><td>1658.880000</td></tr><tr><td>Alabama</td><td>104</td><td>1647.000000</td></tr><tr><td>North Dakota</td><td>74</td><td>1644.972972</td></tr><tr><td>Colorado</td><td>103</td><td>1618.019417</td></tr><tr><td>Puerto Rico (US Territory)</td><td>63</td><td>1614.857142</td></tr><tr><td>Ohio</td><td>158</td><td>1610.734177</td></tr><tr><td>Texas</td><td>327</td><td>1603.082568</td></tr><tr><td>New Mexico</td><td>116</td><td>1597.448275</td></tr><tr><td>Wisconsin</td><td>86</td><td>1592.093023</td></tr><tr><td>Pennsylvania</td><td>253</td><td>1569.960474</td></tr><tr><td>Maryland</td><td>56</td><td>1548.428571</td></tr><tr><td>Louisiana</td><td>99</td><td>1498.909090</td></tr><tr><td>Montana</td><td>56</td><td>1417.285714</td></tr><tr><td>Iowa</td><td>77</td><td>1342.753246</td></tr><tr><td>Florida</td><td>155</td><td>1330.374193</td></tr><tr><td>Illinois</td><td>117</td><td>1252.717948</td></tr><tr><td>Oklahoma</td><td>132</td><td>1238.909090</td></tr><tr><td>Kansas</td><td>93</td><td>1187.612903</td></tr><tr><td>Kentucky</td><td>60</td><td>1098.000000</td></tr><tr><td>Washington</td><td>102</td><td>1070.588235</td></tr><tr><td>New Jersey</td><td>105</td><td>1049.828571</td></tr><tr><td>Georgia</td><td>75</td><td>889.920000</td></tr></table>"
                    },
                    "metadata": {}
                }
            ],
            "execution_count": 15
        },
        {
            "cell_type": "markdown",
            "source": [
                "## <span style=\"color: var(--vscode-foreground);\">Proposition 9: Repeat Customer Rate Over Time</span>\n",
                "\n",
                "**Functional Specification:**\n",
                "\n",
                "- **Objective:** To calculate the monthly percentage of sales that come from repeat customers, measuring customer loyalty over time.\n",
                "- **End-User:** Marketing and Executive Leadership.\n",
                "- **Business Value:** Tracks the effectiveness of customer retention strategies. A rising repeat customer rate is a strong indicator of a healthy business and brand loyalty.\n",
                "- **AI Footnote:** Assistance was provided by Google's Gemini for brainstorming propositions, writing advanced SQL queries, and explaining the logic."
            ],
            "metadata": {
                "language": "sql",
                "azdata_cell_guid": "d953a7cb-ff72-4665-ae36-eda602243ea2"
            },
            "attachments": {}
        },
        {
            "cell_type": "code",
            "source": [
                "WITH CustomerFirstPurchase AS (\r\n",
                "    -- Step 1: Find the first purchase date for every customer.\r\n",
                "    SELECT\r\n",
                "        [Customer Key],\r\n",
                "        MIN([Invoice Date Key]) AS FirstPurchaseDate\r\n",
                "    FROM Fact.Sale\r\n",
                "    GROUP BY [Customer Key]\r\n",
                "),\r\n",
                "MonthlySalesType AS (\r\n",
                "    -- Step 2: Classify each sale as 'New' or 'Repeat'.\r\n",
                "    SELECT\r\n",
                "        FORMAT(s.[Invoice Date Key], 'yyyy-MM') AS SaleMonth,\r\n",
                "        CASE\r\n",
                "            WHEN s.[Invoice Date Key] = cfp.FirstPurchaseDate THEN 'New Customer'\r\n",
                "            ELSE 'Repeat Customer'\r\n",
                "        END AS CustomerType\r\n",
                "    FROM Fact.Sale s\r\n",
                "    JOIN CustomerFirstPurchase cfp ON s.[Customer Key] = cfp.[Customer Key]\r\n",
                ")\r\n",
                "-- Step 3: Pivot the data and calculate the monthly repeat customer rate.\r\n",
                "SELECT\r\n",
                "    SaleMonth,\r\n",
                "    CAST(SUM(CASE WHEN CustomerType = 'Repeat Customer' THEN 1 ELSE 0 END) AS FLOAT) * 100 /\r\n",
                "    CAST(COUNT(*) AS FLOAT) AS RepeatCustomerRate\r\n",
                "FROM MonthlySalesType\r\n",
                "GROUP BY SaleMonth\r\n",
                "ORDER BY SaleMonth;"
            ],
            "metadata": {
                "language": "sql",
                "azdata_cell_guid": "b52f2f49-c053-44eb-8fce-4c0ba2835232",
                "tags": []
            },
            "outputs": [
                {
                    "output_type": "display_data",
                    "data": {
                        "text/html": "(41 rows affected)"
                    },
                    "metadata": {}
                },
                {
                    "output_type": "display_data",
                    "data": {
                        "text/html": "Total execution time: 00:00:22.672"
                    },
                    "metadata": {}
                },
                {
                    "output_type": "execute_result",
                    "execution_count": 10,
                    "data": {
                        "application/vnd.dataresource+json": {
                            "schema": {
                                "fields": [
                                    {
                                        "name": "SaleMonth"
                                    },
                                    {
                                        "name": "RepeatCustomerRate"
                                    }
                                ]
                            },
                            "data": [
                                {
                                    "SaleMonth": "2013-01",
                                    "RepeatCustomerRate": "75.44796035074343"
                                },
                                {
                                    "SaleMonth": "2013-02",
                                    "RepeatCustomerRate": "97.00566495818721"
                                },
                                {
                                    "SaleMonth": "2013-03",
                                    "RepeatCustomerRate": "99.45590994371481"
                                },
                                {
                                    "SaleMonth": "2013-04",
                                    "RepeatCustomerRate": "100"
                                },
                                {
                                    "SaleMonth": "2013-05",
                                    "RepeatCustomerRate": "100"
                                },
                                {
                                    "SaleMonth": "2013-06",
                                    "RepeatCustomerRate": "100"
                                },
                                {
                                    "SaleMonth": "2013-07",
                                    "RepeatCustomerRate": "100"
                                },
                                {
                                    "SaleMonth": "2013-08",
                                    "RepeatCustomerRate": "100"
                                },
                                {
                                    "SaleMonth": "2013-09",
                                    "RepeatCustomerRate": "100"
                                },
                                {
                                    "SaleMonth": "2013-10",
                                    "RepeatCustomerRate": "100"
                                },
                                {
                                    "SaleMonth": "2013-11",
                                    "RepeatCustomerRate": "100"
                                },
                                {
                                    "SaleMonth": "2013-12",
                                    "RepeatCustomerRate": "100"
                                },
                                {
                                    "SaleMonth": "2014-01",
                                    "RepeatCustomerRate": "100"
                                },
                                {
                                    "SaleMonth": "2014-02",
                                    "RepeatCustomerRate": "100"
                                },
                                {
                                    "SaleMonth": "2014-03",
                                    "RepeatCustomerRate": "100"
                                },
                                {
                                    "SaleMonth": "2014-04",
                                    "RepeatCustomerRate": "100"
                                },
                                {
                                    "SaleMonth": "2014-05",
                                    "RepeatCustomerRate": "100"
                                },
                                {
                                    "SaleMonth": "2014-06",
                                    "RepeatCustomerRate": "100"
                                },
                                {
                                    "SaleMonth": "2014-07",
                                    "RepeatCustomerRate": "100"
                                },
                                {
                                    "SaleMonth": "2014-08",
                                    "RepeatCustomerRate": "100"
                                },
                                {
                                    "SaleMonth": "2014-09",
                                    "RepeatCustomerRate": "100"
                                },
                                {
                                    "SaleMonth": "2014-10",
                                    "RepeatCustomerRate": "100"
                                },
                                {
                                    "SaleMonth": "2014-11",
                                    "RepeatCustomerRate": "100"
                                },
                                {
                                    "SaleMonth": "2014-12",
                                    "RepeatCustomerRate": "100"
                                },
                                {
                                    "SaleMonth": "2015-01",
                                    "RepeatCustomerRate": "100"
                                },
                                {
                                    "SaleMonth": "2015-02",
                                    "RepeatCustomerRate": "100"
                                },
                                {
                                    "SaleMonth": "2015-03",
                                    "RepeatCustomerRate": "100"
                                },
                                {
                                    "SaleMonth": "2015-04",
                                    "RepeatCustomerRate": "100"
                                },
                                {
                                    "SaleMonth": "2015-05",
                                    "RepeatCustomerRate": "100"
                                },
                                {
                                    "SaleMonth": "2015-06",
                                    "RepeatCustomerRate": "100"
                                },
                                {
                                    "SaleMonth": "2015-07",
                                    "RepeatCustomerRate": "100"
                                },
                                {
                                    "SaleMonth": "2015-08",
                                    "RepeatCustomerRate": "100"
                                },
                                {
                                    "SaleMonth": "2015-09",
                                    "RepeatCustomerRate": "100"
                                },
                                {
                                    "SaleMonth": "2015-10",
                                    "RepeatCustomerRate": "100"
                                },
                                {
                                    "SaleMonth": "2015-11",
                                    "RepeatCustomerRate": "100"
                                },
                                {
                                    "SaleMonth": "2015-12",
                                    "RepeatCustomerRate": "100"
                                },
                                {
                                    "SaleMonth": "2016-01",
                                    "RepeatCustomerRate": "100"
                                },
                                {
                                    "SaleMonth": "2016-02",
                                    "RepeatCustomerRate": "100"
                                },
                                {
                                    "SaleMonth": "2016-03",
                                    "RepeatCustomerRate": "100"
                                },
                                {
                                    "SaleMonth": "2016-04",
                                    "RepeatCustomerRate": "100"
                                },
                                {
                                    "SaleMonth": "2016-05",
                                    "RepeatCustomerRate": "100"
                                }
                            ]
                        },
                        "text/html": "<table><tr><th>SaleMonth</th><th>RepeatCustomerRate</th></tr><tr><td>2013-01</td><td>75.44796035074343</td></tr><tr><td>2013-02</td><td>97.00566495818721</td></tr><tr><td>2013-03</td><td>99.45590994371481</td></tr><tr><td>2013-04</td><td>100</td></tr><tr><td>2013-05</td><td>100</td></tr><tr><td>2013-06</td><td>100</td></tr><tr><td>2013-07</td><td>100</td></tr><tr><td>2013-08</td><td>100</td></tr><tr><td>2013-09</td><td>100</td></tr><tr><td>2013-10</td><td>100</td></tr><tr><td>2013-11</td><td>100</td></tr><tr><td>2013-12</td><td>100</td></tr><tr><td>2014-01</td><td>100</td></tr><tr><td>2014-02</td><td>100</td></tr><tr><td>2014-03</td><td>100</td></tr><tr><td>2014-04</td><td>100</td></tr><tr><td>2014-05</td><td>100</td></tr><tr><td>2014-06</td><td>100</td></tr><tr><td>2014-07</td><td>100</td></tr><tr><td>2014-08</td><td>100</td></tr><tr><td>2014-09</td><td>100</td></tr><tr><td>2014-10</td><td>100</td></tr><tr><td>2014-11</td><td>100</td></tr><tr><td>2014-12</td><td>100</td></tr><tr><td>2015-01</td><td>100</td></tr><tr><td>2015-02</td><td>100</td></tr><tr><td>2015-03</td><td>100</td></tr><tr><td>2015-04</td><td>100</td></tr><tr><td>2015-05</td><td>100</td></tr><tr><td>2015-06</td><td>100</td></tr><tr><td>2015-07</td><td>100</td></tr><tr><td>2015-08</td><td>100</td></tr><tr><td>2015-09</td><td>100</td></tr><tr><td>2015-10</td><td>100</td></tr><tr><td>2015-11</td><td>100</td></tr><tr><td>2015-12</td><td>100</td></tr><tr><td>2016-01</td><td>100</td></tr><tr><td>2016-02</td><td>100</td></tr><tr><td>2016-03</td><td>100</td></tr><tr><td>2016-04</td><td>100</td></tr><tr><td>2016-05</td><td>100</td></tr></table>"
                    },
                    "metadata": {}
                }
            ],
            "execution_count": 10
        },
        {
            "cell_type": "markdown",
            "source": [
                "## <span style=\"color: var(--vscode-foreground);\">Proposition 10: Correlating Purchase of Products (Market Basket Analysis)</span>\n",
                "\n",
                "**Functional Specification:**\n",
                "\n",
                "- **Objective:** For the most frequently sold product, find the top 5 other products most often purchased with it in the same transaction.\n",
                "- **End-User:** Merchandising and Marketing teams.\n",
                "- **Business Value:** This \"Market Basket Analysis\" provides powerful insights for cross-selling (\"Customers who bought X also bought Y\"), creating product bundles, and designing promotional offers.\n",
                "- **AI Footnote:** Assistance was provided by Google's Gemini for brainstorming propositions, writing advanced SQL queries, and explaining the logic."
            ],
            "metadata": {
                "language": "sql",
                "azdata_cell_guid": "00945230-9a5a-4382-9764-4c54f65e0a19"
            },
            "attachments": {}
        },
        {
            "cell_type": "code",
            "source": [
                "-- Step 1: Find the key for the most frequently sold product.\r\n",
                "DECLARE @TopProductKey INT = (\r\n",
                "    SELECT TOP 1 [Stock Item Key]\r\n",
                "    FROM Fact.Sale\r\n",
                "    GROUP BY [Stock Item Key]\r\n",
                "    ORDER BY COUNT(*) DESC\r\n",
                ");\r\n",
                "\r\n",
                "-- Step 2: Find all orders containing that top product.\r\n",
                "WITH OrdersWithTopProduct AS (\r\n",
                "    SELECT DISTINCT [Sale Key]\r\n",
                "    FROM Fact.Sale\r\n",
                "    WHERE [Stock Item Key] = @TopProductKey\r\n",
                ")\r\n",
                "-- Step 3: Find all other products in those same orders and count them.\r\n",
                "SELECT TOP 5\r\n",
                "    si.[Stock Item] AS FrequentlyBoughtWithTopProduct,\r\n",
                "    COUNT(*) AS PurchaseFrequency\r\n",
                "FROM Fact.Sale s\r\n",
                "JOIN Dimension.[Stock Item] si ON s.[Stock Item Key] = si.[Stock Item Key]\r\n",
                "WHERE\r\n",
                "    s.[Sale Key] IN (SELECT [Sale Key] FROM OrdersWithTopProduct)\r\n",
                "    AND s.[Stock Item Key] != @TopProductKey\r\n",
                "GROUP BY\r\n",
                "    si.[Stock Item]\r\n",
                "ORDER BY\r\n",
                "    PurchaseFrequency DESC;"
            ],
            "metadata": {
                "language": "sql",
                "azdata_cell_guid": "f4b77541-76a5-4dae-b384-6f1336c3e91a"
            },
            "outputs": [
                {
                    "output_type": "display_data",
                    "data": {
                        "text/html": "(0 rows affected)"
                    },
                    "metadata": {}
                },
                {
                    "output_type": "display_data",
                    "data": {
                        "text/html": "Total execution time: 00:00:00.479"
                    },
                    "metadata": {}
                },
                {
                    "output_type": "execute_result",
                    "execution_count": 11,
                    "data": {
                        "application/vnd.dataresource+json": {
                            "schema": {
                                "fields": [
                                    {
                                        "name": "FrequentlyBoughtWithTopProduct"
                                    },
                                    {
                                        "name": "PurchaseFrequency"
                                    }
                                ]
                            },
                            "data": []
                        },
                        "text/html": "<table><tr><th>FrequentlyBoughtWithTopProduct</th><th>PurchaseFrequency</th></tr></table>"
                    },
                    "metadata": {}
                }
            ],
            "execution_count": 11
        }
    ]
}